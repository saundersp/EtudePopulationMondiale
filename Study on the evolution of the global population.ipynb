{
 "cells": [
  {
   "cell_type": "markdown",
   "metadata": {},
   "source": [
    "# Study on the evolution of the global population\n",
    "\n",
    "__Pierre SAUNDERS__\n",
    "\n",
    "## Librairies used\n",
    "\n",
    "_tidyverse environment_\n",
    "- [Doc](https://readxl.tidyverse.org/) - readxl : Allows reading of Excel files (xlsx/xls)\n",
    "- [Doc](https://ggplot2.tidyverse.org/reference/) - ggplot2 : Allows you to make plots from DataFrame\n",
    "\n",
    "_Others_\n",
    "- [Doc](https://cran.r-project.org/web/packages/gridExtra/vignettes/arrangeGrob.html) - gridExtra : Add-on to ggplot2 allowing multiple plots on the same image."
   ]
  },
  {
   "cell_type": "code",
   "execution_count": 1,
   "metadata": {
    "scrolled": true,
    "tags": []
   },
   "outputs": [],
   "source": [
    "libraries = c(\"readxl\", \"ggplot2\", \"gridExtra\")\n",
    "code = lapply(libraries[!libraries %in% installed.packages()], install.packages, type = \"binary\", \n",
    "              repos = \"http://cran.us.r-project.org\")\n",
    "code = lapply(libraries, library, character.only = TRUE)\n",
    "rm(code, libraries)"
   ]
  },
  {
   "cell_type": "markdown",
   "metadata": {},
   "source": [
    "## Study\n",
    "\n",
    "It is well known that the world's population has grown to over seven and a half billion people and is constantly increasing.\n",
    "On the other hand, it is said that the European population is increasing only slightly over the years and that it is getting older.\n",
    "In order to verify these two statements, we will use the dataset [here](https://www.kaggle.com/theworldbank/global-population-estimates).\n",
    "We will use the data in the range 1960-2010 to calculate the mean and variance of the random variables of interest.\n",
    "Then we will use the data from 2011 to 2017 as a ́sample for hypothesis testing.\n",
    "The same time series mining technique will be used to ́study the proportion of the population aged over 65 compared to the rest of the population.\n",
    "Taking the data found [here](https://www.insee.fr/fr/statistiques/2387502), provided by INSEE, can we ́establish a correlation between the level of health expenditure and the ageing of the population ?\n",
    "\n",
    "### Hypotheses\n",
    "\n",
    "1. Positive correlation between year and world population.\n",
    "2. Average European population of $[1960, 2010]$ < Average European population of $[2011, 2017]$.\n",
    "3. World growth in $[1960, 2010]$ > European growth in $[2011, 2017]$.\n",
    "4. Proportion of European person aged 65+ in $[1960, 2010]$ < Proportion of European person aged 65+ in $[2011, 2017]$.\n",
    "5. Correlation between life expectancy and current health expenditure (INSEE) in Europe.\n",
    "\n",
    "All hypotheses will be tested with a significance level of $\\alpha = 0.05$\n",
    "\n",
    "#### Student's test\n",
    "\n",
    "##### t-value function for independent samples\n",
    "\n",
    "- $\\bar{X}$ : observed mean\n",
    "- $n$ : size of the sample\n",
    "- $\\sigma$ : standard deviation\n",
    "\n",
    "$\\rightarrow$ for each population $A$ et $B$\n",
    "\n",
    "Note: Variance = $\\sigma^2$\n",
    "\n",
    "$\\large{t = \\frac{\\bar{X}_{A}-\\bar{X}_B}{\\sqrt{\\frac{\\sigma_{A}^2}{n_A}+\\frac{\\sigma_{B}^2}{n_B}}}}$"
   ]
  },
  {
   "cell_type": "code",
   "execution_count": 2,
   "metadata": {
    "scrolled": true
   },
   "outputs": [],
   "source": [
    "independants_student_test = function(pop_a, pop_b){\n",
    "    (mean(pop_a) - mean(pop_b)) / sqrt(var(pop_a) / length(pop_a) + var(pop_b) / length(pop_b))\n",
    "}"
   ]
  },
  {
   "cell_type": "markdown",
   "metadata": {},
   "source": [
    "#### Hypothesis test"
   ]
  },
  {
   "cell_type": "code",
   "execution_count": 3,
   "metadata": {},
   "outputs": [],
   "source": [
    "hypothesis_test = function(pop1, pop2, lower.tail = TRUE, alpha = 5e-2){\n",
    "    t_value = independants_student_test(pop1, pop2)\n",
    "    print(paste(\"t_value =\", t_value))\n",
    "    ddl = length(pop1) + length(pop2) - 2\n",
    "    p_value = qt(alpha, df = ddl, lower.tail = lower.tail)\n",
    "    print(paste(\"ddl =\", ddl))\n",
    "    print(paste(\"p_value =\", p_value))\n",
    "    if(lower.tail) print(paste(\"t_value < p_value ?\", t_value < p_value))\n",
    "    else           print(paste(\"t_value > p_value ?\", t_value > p_value))\n",
    "}"
   ]
  },
  {
   "cell_type": "markdown",
   "metadata": {},
   "source": [
    "## Global Population estimates file (Kaggle)"
   ]
  },
  {
   "cell_type": "code",
   "execution_count": 4,
   "metadata": {},
   "outputs": [
    {
     "name": "stdout",
     "output_type": "stream",
     "text": [
      "[1] \"The estim.xlsx file has 95 * 44807 lines\"\n"
     ]
    },
    {
     "data": {
      "text/html": [
       "<table class=\"dataframe\">\n",
       "<caption>A data.frame: 6 × 95</caption>\n",
       "<thead>\n",
       "\t<tr><th></th><th scope=col>Country.Name</th><th scope=col>Country.Code</th><th scope=col>Series.Name</th><th scope=col>Series.Code</th><th scope=col>X1960..YR1960.</th><th scope=col>X1961..YR1961.</th><th scope=col>X1962..YR1962.</th><th scope=col>X1963..YR1963.</th><th scope=col>X1964..YR1964.</th><th scope=col>X1965..YR1965.</th><th scope=col>...</th><th scope=col>X2041..YR2041.</th><th scope=col>X2042..YR2042.</th><th scope=col>X2043..YR2043.</th><th scope=col>X2044..YR2044.</th><th scope=col>X2045..YR2045.</th><th scope=col>X2046..YR2046.</th><th scope=col>X2047..YR2047.</th><th scope=col>X2048..YR2048.</th><th scope=col>X2049..YR2049.</th><th scope=col>X2050..YR2050.</th></tr>\n",
       "\t<tr><th></th><th scope=col>&lt;fct&gt;</th><th scope=col>&lt;fct&gt;</th><th scope=col>&lt;fct&gt;</th><th scope=col>&lt;fct&gt;</th><th scope=col>&lt;dbl&gt;</th><th scope=col>&lt;dbl&gt;</th><th scope=col>&lt;dbl&gt;</th><th scope=col>&lt;dbl&gt;</th><th scope=col>&lt;dbl&gt;</th><th scope=col>&lt;dbl&gt;</th><th scope=col>...</th><th scope=col>&lt;dbl&gt;</th><th scope=col>&lt;dbl&gt;</th><th scope=col>&lt;dbl&gt;</th><th scope=col>&lt;dbl&gt;</th><th scope=col>&lt;dbl&gt;</th><th scope=col>&lt;dbl&gt;</th><th scope=col>&lt;dbl&gt;</th><th scope=col>&lt;dbl&gt;</th><th scope=col>&lt;dbl&gt;</th><th scope=col>&lt;dbl&gt;</th></tr>\n",
       "</thead>\n",
       "<tbody>\n",
       "\t<tr><th scope=row>1</th><td>Afghanistan</td><td>AFG</td><td>Age dependency ratio (% of working-age population)</td><td>SP.POP.DPND      </td><td>8.171774e+01</td><td>8.275591e+01</td><td>8.330457e+01</td><td>8.355074e+01</td><td>8.373445e+01</td><td>8.396216e+01</td><td>...</td><td>49.057098</td><td>48.405124</td><td>47.772482</td><td>47.153619</td><td>4.654737e+01</td><td>46.014974</td><td>45.488733</td><td>44.972113</td><td>44.471497</td><td>4.399248e+01</td></tr>\n",
       "\t<tr><th scope=row>2</th><td>Afghanistan</td><td>AFG</td><td>Age dependency ratio, old                         </td><td>SP.POP.DPND.OL   </td><td>5.086262e+00</td><td>5.132609e+00</td><td>5.139524e+00</td><td>5.111895e+00</td><td>5.056182e+00</td><td>4.976304e+00</td><td>...</td><td> 6.254638</td><td> 6.431854</td><td> 6.615935</td><td> 6.808329</td><td>7.010657e+00</td><td> 7.235972</td><td> 7.465706</td><td> 7.699483</td><td> 7.935899</td><td>8.175734e+00</td></tr>\n",
       "\t<tr><th scope=row>3</th><td>Afghanistan</td><td>AFG</td><td>Age dependency ratio, young                       </td><td>SP.POP.DPND.YG   </td><td>7.663148e+01</td><td>7.762330e+01</td><td>7.816505e+01</td><td>7.843884e+01</td><td>7.867827e+01</td><td>7.898586e+01</td><td>...</td><td>42.802460</td><td>41.973270</td><td>41.156547</td><td>40.345290</td><td>3.953671e+01</td><td>38.779002</td><td>38.023028</td><td>37.272630</td><td>36.535598</td><td>3.581675e+01</td></tr>\n",
       "\t<tr><th scope=row>4</th><td>Afghanistan</td><td>AFG</td><td>Age population, age 0, female, interpolated       </td><td>SP.POP.AG00.FE.IN</td><td>1.785560e+05</td><td>1.826740e+05</td><td>1.854340e+05</td><td>1.875130e+05</td><td>1.899450e+05</td><td>1.935530e+05</td><td>...</td><td>       NA</td><td>       NA</td><td>       NA</td><td>       NA</td><td>4.520000e+05</td><td>       NA</td><td>       NA</td><td>       NA</td><td>       NA</td><td>4.300000e+05</td></tr>\n",
       "\t<tr><th scope=row>5</th><td>Afghanistan</td><td>AFG</td><td>Age population, age 0, male, interpolated         </td><td>SP.POP.AG00.MA.IN</td><td>1.776350e+05</td><td>1.815880e+05</td><td>1.858520e+05</td><td>1.904620e+05</td><td>1.954980e+05</td><td>2.010140e+05</td><td>...</td><td>       NA</td><td>       NA</td><td>       NA</td><td>       NA</td><td>4.760000e+05</td><td>       NA</td><td>       NA</td><td>       NA</td><td>       NA</td><td>4.520000e+05</td></tr>\n",
       "\t<tr><th scope=row>6</th><td>Afghanistan</td><td>AFG</td><td>Age population, age 01, female, interpolated      </td><td>SP.POP.AG01.FE.IN</td><td>1.623200e+05</td><td>1.714910e+05</td><td>1.699620e+05</td><td>1.738000e+05</td><td>1.779260e+05</td><td>1.825620e+05</td><td>...</td><td>       NA</td><td>       NA</td><td>       NA</td><td>       NA</td><td>4.540000e+05</td><td>       NA</td><td>       NA</td><td>       NA</td><td>       NA</td><td>4.320000e+05</td></tr>\n",
       "</tbody>\n",
       "</table>\n"
      ],
      "text/latex": [
       "A data.frame: 6 × 95\n",
       "\\begin{tabular}{r|lllllllllllllllllllll}\n",
       "  & Country.Name & Country.Code & Series.Name & Series.Code & X1960..YR1960. & X1961..YR1961. & X1962..YR1962. & X1963..YR1963. & X1964..YR1964. & X1965..YR1965. & ... & X2041..YR2041. & X2042..YR2042. & X2043..YR2043. & X2044..YR2044. & X2045..YR2045. & X2046..YR2046. & X2047..YR2047. & X2048..YR2048. & X2049..YR2049. & X2050..YR2050.\\\\\n",
       "  & <fct> & <fct> & <fct> & <fct> & <dbl> & <dbl> & <dbl> & <dbl> & <dbl> & <dbl> & ... & <dbl> & <dbl> & <dbl> & <dbl> & <dbl> & <dbl> & <dbl> & <dbl> & <dbl> & <dbl>\\\\\n",
       "\\hline\n",
       "\t1 & Afghanistan & AFG & Age dependency ratio (\\% of working-age population) & SP.POP.DPND       & 8.171774e+01 & 8.275591e+01 & 8.330457e+01 & 8.355074e+01 & 8.373445e+01 & 8.396216e+01 & ... & 49.057098 & 48.405124 & 47.772482 & 47.153619 & 4.654737e+01 & 46.014974 & 45.488733 & 44.972113 & 44.471497 & 4.399248e+01\\\\\n",
       "\t2 & Afghanistan & AFG & Age dependency ratio, old                          & SP.POP.DPND.OL    & 5.086262e+00 & 5.132609e+00 & 5.139524e+00 & 5.111895e+00 & 5.056182e+00 & 4.976304e+00 & ... &  6.254638 &  6.431854 &  6.615935 &  6.808329 & 7.010657e+00 &  7.235972 &  7.465706 &  7.699483 &  7.935899 & 8.175734e+00\\\\\n",
       "\t3 & Afghanistan & AFG & Age dependency ratio, young                        & SP.POP.DPND.YG    & 7.663148e+01 & 7.762330e+01 & 7.816505e+01 & 7.843884e+01 & 7.867827e+01 & 7.898586e+01 & ... & 42.802460 & 41.973270 & 41.156547 & 40.345290 & 3.953671e+01 & 38.779002 & 38.023028 & 37.272630 & 36.535598 & 3.581675e+01\\\\\n",
       "\t4 & Afghanistan & AFG & Age population, age 0, female, interpolated        & SP.POP.AG00.FE.IN & 1.785560e+05 & 1.826740e+05 & 1.854340e+05 & 1.875130e+05 & 1.899450e+05 & 1.935530e+05 & ... &        NA &        NA &        NA &        NA & 4.520000e+05 &        NA &        NA &        NA &        NA & 4.300000e+05\\\\\n",
       "\t5 & Afghanistan & AFG & Age population, age 0, male, interpolated          & SP.POP.AG00.MA.IN & 1.776350e+05 & 1.815880e+05 & 1.858520e+05 & 1.904620e+05 & 1.954980e+05 & 2.010140e+05 & ... &        NA &        NA &        NA &        NA & 4.760000e+05 &        NA &        NA &        NA &        NA & 4.520000e+05\\\\\n",
       "\t6 & Afghanistan & AFG & Age population, age 01, female, interpolated       & SP.POP.AG01.FE.IN & 1.623200e+05 & 1.714910e+05 & 1.699620e+05 & 1.738000e+05 & 1.779260e+05 & 1.825620e+05 & ... &        NA &        NA &        NA &        NA & 4.540000e+05 &        NA &        NA &        NA &        NA & 4.320000e+05\\\\\n",
       "\\end{tabular}\n"
      ],
      "text/markdown": [
       "\n",
       "A data.frame: 6 × 95\n",
       "\n",
       "| <!--/--> | Country.Name &lt;fct&gt; | Country.Code &lt;fct&gt; | Series.Name &lt;fct&gt; | Series.Code &lt;fct&gt; | X1960..YR1960. &lt;dbl&gt; | X1961..YR1961. &lt;dbl&gt; | X1962..YR1962. &lt;dbl&gt; | X1963..YR1963. &lt;dbl&gt; | X1964..YR1964. &lt;dbl&gt; | X1965..YR1965. &lt;dbl&gt; | ... ... | X2041..YR2041. &lt;dbl&gt; | X2042..YR2042. &lt;dbl&gt; | X2043..YR2043. &lt;dbl&gt; | X2044..YR2044. &lt;dbl&gt; | X2045..YR2045. &lt;dbl&gt; | X2046..YR2046. &lt;dbl&gt; | X2047..YR2047. &lt;dbl&gt; | X2048..YR2048. &lt;dbl&gt; | X2049..YR2049. &lt;dbl&gt; | X2050..YR2050. &lt;dbl&gt; |\n",
       "|---|---|---|---|---|---|---|---|---|---|---|---|---|---|---|---|---|---|---|---|---|---|\n",
       "| 1 | Afghanistan | AFG | Age dependency ratio (% of working-age population) | SP.POP.DPND       | 8.171774e+01 | 8.275591e+01 | 8.330457e+01 | 8.355074e+01 | 8.373445e+01 | 8.396216e+01 | ... | 49.057098 | 48.405124 | 47.772482 | 47.153619 | 4.654737e+01 | 46.014974 | 45.488733 | 44.972113 | 44.471497 | 4.399248e+01 |\n",
       "| 2 | Afghanistan | AFG | Age dependency ratio, old                          | SP.POP.DPND.OL    | 5.086262e+00 | 5.132609e+00 | 5.139524e+00 | 5.111895e+00 | 5.056182e+00 | 4.976304e+00 | ... |  6.254638 |  6.431854 |  6.615935 |  6.808329 | 7.010657e+00 |  7.235972 |  7.465706 |  7.699483 |  7.935899 | 8.175734e+00 |\n",
       "| 3 | Afghanistan | AFG | Age dependency ratio, young                        | SP.POP.DPND.YG    | 7.663148e+01 | 7.762330e+01 | 7.816505e+01 | 7.843884e+01 | 7.867827e+01 | 7.898586e+01 | ... | 42.802460 | 41.973270 | 41.156547 | 40.345290 | 3.953671e+01 | 38.779002 | 38.023028 | 37.272630 | 36.535598 | 3.581675e+01 |\n",
       "| 4 | Afghanistan | AFG | Age population, age 0, female, interpolated        | SP.POP.AG00.FE.IN | 1.785560e+05 | 1.826740e+05 | 1.854340e+05 | 1.875130e+05 | 1.899450e+05 | 1.935530e+05 | ... |        NA |        NA |        NA |        NA | 4.520000e+05 |        NA |        NA |        NA |        NA | 4.300000e+05 |\n",
       "| 5 | Afghanistan | AFG | Age population, age 0, male, interpolated          | SP.POP.AG00.MA.IN | 1.776350e+05 | 1.815880e+05 | 1.858520e+05 | 1.904620e+05 | 1.954980e+05 | 2.010140e+05 | ... |        NA |        NA |        NA |        NA | 4.760000e+05 |        NA |        NA |        NA |        NA | 4.520000e+05 |\n",
       "| 6 | Afghanistan | AFG | Age population, age 01, female, interpolated       | SP.POP.AG01.FE.IN | 1.623200e+05 | 1.714910e+05 | 1.699620e+05 | 1.738000e+05 | 1.779260e+05 | 1.825620e+05 | ... |        NA |        NA |        NA |        NA | 4.540000e+05 |        NA |        NA |        NA |        NA | 4.320000e+05 |\n",
       "\n"
      ],
      "text/plain": [
       "  Country.Name Country.Code Series.Name                                       \n",
       "1 Afghanistan  AFG          Age dependency ratio (% of working-age population)\n",
       "2 Afghanistan  AFG          Age dependency ratio, old                         \n",
       "3 Afghanistan  AFG          Age dependency ratio, young                       \n",
       "4 Afghanistan  AFG          Age population, age 0, female, interpolated       \n",
       "5 Afghanistan  AFG          Age population, age 0, male, interpolated         \n",
       "6 Afghanistan  AFG          Age population, age 01, female, interpolated      \n",
       "  Series.Code       X1960..YR1960. X1961..YR1961. X1962..YR1962. X1963..YR1963.\n",
       "1 SP.POP.DPND       8.171774e+01   8.275591e+01   8.330457e+01   8.355074e+01  \n",
       "2 SP.POP.DPND.OL    5.086262e+00   5.132609e+00   5.139524e+00   5.111895e+00  \n",
       "3 SP.POP.DPND.YG    7.663148e+01   7.762330e+01   7.816505e+01   7.843884e+01  \n",
       "4 SP.POP.AG00.FE.IN 1.785560e+05   1.826740e+05   1.854340e+05   1.875130e+05  \n",
       "5 SP.POP.AG00.MA.IN 1.776350e+05   1.815880e+05   1.858520e+05   1.904620e+05  \n",
       "6 SP.POP.AG01.FE.IN 1.623200e+05   1.714910e+05   1.699620e+05   1.738000e+05  \n",
       "  X1964..YR1964. X1965..YR1965. ... X2041..YR2041. X2042..YR2042.\n",
       "1 8.373445e+01   8.396216e+01   ... 49.057098      48.405124     \n",
       "2 5.056182e+00   4.976304e+00   ...  6.254638       6.431854     \n",
       "3 7.867827e+01   7.898586e+01   ... 42.802460      41.973270     \n",
       "4 1.899450e+05   1.935530e+05   ...        NA             NA     \n",
       "5 1.954980e+05   2.010140e+05   ...        NA             NA     \n",
       "6 1.779260e+05   1.825620e+05   ...        NA             NA     \n",
       "  X2043..YR2043. X2044..YR2044. X2045..YR2045. X2046..YR2046. X2047..YR2047.\n",
       "1 47.772482      47.153619      4.654737e+01   46.014974      45.488733     \n",
       "2  6.615935       6.808329      7.010657e+00    7.235972       7.465706     \n",
       "3 41.156547      40.345290      3.953671e+01   38.779002      38.023028     \n",
       "4        NA             NA      4.520000e+05          NA             NA     \n",
       "5        NA             NA      4.760000e+05          NA             NA     \n",
       "6        NA             NA      4.540000e+05          NA             NA     \n",
       "  X2048..YR2048. X2049..YR2049. X2050..YR2050.\n",
       "1 44.972113      44.471497      4.399248e+01  \n",
       "2  7.699483       7.935899      8.175734e+00  \n",
       "3 37.272630      36.535598      3.581675e+01  \n",
       "4        NA             NA      4.300000e+05  \n",
       "5        NA             NA      4.520000e+05  \n",
       "6        NA             NA      4.320000e+05  "
      ]
     },
     "metadata": {},
     "output_type": "display_data"
    }
   ],
   "source": [
    "estim = read.csv(\"data/data.csv\", stringsAsFactors = TRUE)\n",
    "estim = estim[-c((nrow(estim) - 4) : nrow(estim)),] # Removal of watermarks\n",
    "colnames(estim)[1] = \"Country.Name\" # UTF-8 character correction\n",
    "print(sprintf(\"The estim.xlsx file has %d * %d lines\", ncol(estim), nrow(estim)))\n",
    "head(estim)"
   ]
  },
  {
   "cell_type": "markdown",
   "metadata": {},
   "source": [
    "### Transformation, pre-processing\n",
    "\n",
    "The database is very large (43 MB for 95 columns * 44807 rows), but only certain information is of interest to us.\n",
    "We will keep only the rows concerning the European Union and the world, and among these rows we will keep only the total population (reduced to the scale of one million), the growth and the expectation."
   ]
  },
  {
   "cell_type": "code",
   "execution_count": 5,
   "metadata": {},
   "outputs": [],
   "source": [
    "years_mask = c(5 : 95)\n",
    "norm = 1e6\n",
    "x = as.numeric(lapply(colnames(estim)[years_mask], function(x){ substr(x, 2, 5) }))\n",
    "\n",
    "y = estim[estim$'Country.Name' == 'European Union',]\n",
    "y1_1 = as.numeric(y[y$'Series.Code' == 'SP.POP.TOTL', years_mask]) / norm\n",
    "y1_2 = as.numeric(y[y$'Series.Code' == 'SP.POP.GROW', years_mask])\n",
    "y1_3 = as.numeric(y[y$'Series.Code' == 'SP.DYN.LE00.IN', years_mask])\n",
    "y1_4 = as.numeric(y[y$'Series.Code' == 'SP.POP.65UP.TO.ZS', years_mask])\n",
    "y = estim[estim$'Country.Name' == 'World',]\n",
    "y2_1 = as.numeric(y[y$'Series.Code' == 'SP.POP.TOTL', years_mask]) / norm\n",
    "y2_2 = as.numeric(y[y$'Series.Code' == 'SP.POP.GROW', years_mask])\n",
    "y2_3 = as.numeric(y[y$'Series.Code' == 'SP.DYN.LE00.IN', years_mask])\n",
    "\n",
    "df = data.frame(x, y1_1, y1_2, y1_3, y1_4, y2_1, y2_2, y2_3)\n",
    "colnames(df) = c(\"Year\", \"Euro_population\", \"Euro_growth\",\n",
    "                 \"Euro_expectation\", \"Senior\", \"Global_population\",\n",
    "                 \"Global_growth\", \"Global_expectation\")"
   ]
  },
  {
   "cell_type": "markdown",
   "metadata": {},
   "source": [
    "#### Dataframe preview"
   ]
  },
  {
   "cell_type": "code",
   "execution_count": 6,
   "metadata": {},
   "outputs": [
    {
     "data": {
      "text/html": [
       "<table class=\"dataframe\">\n",
       "<caption>A data.frame: 6 × 8</caption>\n",
       "<thead>\n",
       "\t<tr><th></th><th scope=col>Year</th><th scope=col>Euro_population</th><th scope=col>Euro_growth</th><th scope=col>Euro_expectation</th><th scope=col>Senior</th><th scope=col>Global_population</th><th scope=col>Global_growth</th><th scope=col>Global_expectation</th></tr>\n",
       "\t<tr><th></th><th scope=col>&lt;dbl&gt;</th><th scope=col>&lt;dbl&gt;</th><th scope=col>&lt;dbl&gt;</th><th scope=col>&lt;dbl&gt;</th><th scope=col>&lt;dbl&gt;</th><th scope=col>&lt;dbl&gt;</th><th scope=col>&lt;dbl&gt;</th><th scope=col>&lt;dbl&gt;</th></tr>\n",
       "</thead>\n",
       "<tbody>\n",
       "\t<tr><th scope=row>1</th><td>1960</td><td>409.4985</td><td>       NA</td><td>69.27954</td><td> 9.834965</td><td>3034.193</td><td>      NA</td><td>52.47476</td></tr>\n",
       "\t<tr><th scope=row>2</th><td>1961</td><td>413.0070</td><td>0.8567903</td><td>69.58937</td><td> 9.978808</td><td>3075.115</td><td>1.348696</td><td>52.98085</td></tr>\n",
       "\t<tr><th scope=row>3</th><td>1962</td><td>416.6706</td><td>0.8870627</td><td>69.51457</td><td>10.126404</td><td>3127.961</td><td>1.718509</td><td>53.40420</td></tr>\n",
       "\t<tr><th scope=row>4</th><td>1963</td><td>420.3933</td><td>0.8934289</td><td>69.75930</td><td>10.277910</td><td>3192.794</td><td>2.072689</td><td>53.93546</td></tr>\n",
       "\t<tr><th scope=row>5</th><td>1964</td><td>424.0759</td><td>0.8759809</td><td>70.22604</td><td>10.433138</td><td>3258.201</td><td>2.048585</td><td>54.61296</td></tr>\n",
       "\t<tr><th scope=row>6</th><td>1965</td><td>427.5926</td><td>0.8292731</td><td>70.33690</td><td>10.596198</td><td>3324.952</td><td>2.048681</td><td>55.28044</td></tr>\n",
       "</tbody>\n",
       "</table>\n"
      ],
      "text/latex": [
       "A data.frame: 6 × 8\n",
       "\\begin{tabular}{r|llllllll}\n",
       "  & Year & Euro\\_population & Euro\\_growth & Euro\\_expectation & Senior & Global\\_population & Global\\_growth & Global\\_expectation\\\\\n",
       "  & <dbl> & <dbl> & <dbl> & <dbl> & <dbl> & <dbl> & <dbl> & <dbl>\\\\\n",
       "\\hline\n",
       "\t1 & 1960 & 409.4985 &        NA & 69.27954 &  9.834965 & 3034.193 &       NA & 52.47476\\\\\n",
       "\t2 & 1961 & 413.0070 & 0.8567903 & 69.58937 &  9.978808 & 3075.115 & 1.348696 & 52.98085\\\\\n",
       "\t3 & 1962 & 416.6706 & 0.8870627 & 69.51457 & 10.126404 & 3127.961 & 1.718509 & 53.40420\\\\\n",
       "\t4 & 1963 & 420.3933 & 0.8934289 & 69.75930 & 10.277910 & 3192.794 & 2.072689 & 53.93546\\\\\n",
       "\t5 & 1964 & 424.0759 & 0.8759809 & 70.22604 & 10.433138 & 3258.201 & 2.048585 & 54.61296\\\\\n",
       "\t6 & 1965 & 427.5926 & 0.8292731 & 70.33690 & 10.596198 & 3324.952 & 2.048681 & 55.28044\\\\\n",
       "\\end{tabular}\n"
      ],
      "text/markdown": [
       "\n",
       "A data.frame: 6 × 8\n",
       "\n",
       "| <!--/--> | Year &lt;dbl&gt; | Euro_population &lt;dbl&gt; | Euro_growth &lt;dbl&gt; | Euro_expectation &lt;dbl&gt; | Senior &lt;dbl&gt; | Global_population &lt;dbl&gt; | Global_growth &lt;dbl&gt; | Global_expectation &lt;dbl&gt; |\n",
       "|---|---|---|---|---|---|---|---|---|\n",
       "| 1 | 1960 | 409.4985 |        NA | 69.27954 |  9.834965 | 3034.193 |       NA | 52.47476 |\n",
       "| 2 | 1961 | 413.0070 | 0.8567903 | 69.58937 |  9.978808 | 3075.115 | 1.348696 | 52.98085 |\n",
       "| 3 | 1962 | 416.6706 | 0.8870627 | 69.51457 | 10.126404 | 3127.961 | 1.718509 | 53.40420 |\n",
       "| 4 | 1963 | 420.3933 | 0.8934289 | 69.75930 | 10.277910 | 3192.794 | 2.072689 | 53.93546 |\n",
       "| 5 | 1964 | 424.0759 | 0.8759809 | 70.22604 | 10.433138 | 3258.201 | 2.048585 | 54.61296 |\n",
       "| 6 | 1965 | 427.5926 | 0.8292731 | 70.33690 | 10.596198 | 3324.952 | 2.048681 | 55.28044 |\n",
       "\n"
      ],
      "text/plain": [
       "  Year Euro_population Euro_growth Euro_expectation Senior    Global_population\n",
       "1 1960 409.4985               NA   69.27954          9.834965 3034.193         \n",
       "2 1961 413.0070        0.8567903   69.58937          9.978808 3075.115         \n",
       "3 1962 416.6706        0.8870627   69.51457         10.126404 3127.961         \n",
       "4 1963 420.3933        0.8934289   69.75930         10.277910 3192.794         \n",
       "5 1964 424.0759        0.8759809   70.22604         10.433138 3258.201         \n",
       "6 1965 427.5926        0.8292731   70.33690         10.596198 3324.952         \n",
       "  Global_growth Global_expectation\n",
       "1       NA      52.47476          \n",
       "2 1.348696      52.98085          \n",
       "3 1.718509      53.40420          \n",
       "4 2.072689      53.93546          \n",
       "5 2.048585      54.61296          \n",
       "6 2.048681      55.28044          "
      ]
     },
     "metadata": {},
     "output_type": "display_data"
    }
   ],
   "source": [
    "head(df)"
   ]
  },
  {
   "cell_type": "markdown",
   "metadata": {},
   "source": [
    "### Graphs examples"
   ]
  },
  {
   "cell_type": "code",
   "execution_count": 7,
   "metadata": {},
   "outputs": [
    {
     "data": {
      "image/png": "[encoded data removed]",
      "text/plain": [
       "plot without title"
      ]
     },
     "metadata": {
      "image/png": {
       "height": 420,
       "width": 420
      }
     },
     "output_type": "display_data"
    }
   ],
   "source": [
    "p1 = ggplot(df, aes(x = Year)) + theme_bw() +\n",
    "     geom_vline(aes(xintercept = 2019, colour = \"0\"), linetype = \"dashed\", size = 0.7) +\n",
    "     geom_line(aes(y = Global_population, colour = \"1\"), size = 1, na.rm = TRUE) +\n",
    "     geom_line(aes(y = Euro_population, colour = \"2\"), size = 1, na.rm = TRUE) +\n",
    "     ylab(\"Population (in millions)\") + ggtitle(\"Population's evolution\") +\n",
    "     scale_colour_manual(name = \"Type\", values = c(\"grey\", \"red\", \"green\"), labels = c(\"2019\", \"Global\", \"European\"))\n",
    "\n",
    "p2 = ggplot(df, aes(x = Year)) + theme_bw() +\n",
    "     geom_vline(aes(xintercept = 2019, colour = \"0\"), linetype = \"dashed\", size = 0.7) +\n",
    "     geom_line(aes(y = Global_growth, colour = \"1\"), size = 1, na.rm = TRUE) +\n",
    "     geom_line(aes(y = Euro_growth, colour = \"2\"), size = 1, na.rm = TRUE) +\n",
    "     ylab(\"Growth (in %)\") + ggtitle(\"Growth's evolution\") +\n",
    "     scale_colour_manual(name = \"Type\", values = c(\"grey\", \"red\", \"green\"), labels = c(\"2019\", \"Global\", \"European\"))\n",
    "\n",
    "p3 = ggplot(df, aes(x = Year)) + theme_bw() +\n",
    "     geom_vline(aes(xintercept = 2019, colour = \"0\"), linetype = \"dashed\", size = 0.7) +\n",
    "     geom_line(aes(y = Global_expectation, colour = \"1\"), size = 1, na.rm = TRUE) +\n",
    "     geom_line(aes(y = Euro_expectation, colour = \"2\"), size = 1, na.rm = TRUE) +\n",
    "     ylab(\"Expectation (in years)\") + ggtitle(\"Expectation's evolution\") +\n",
    "     scale_colour_manual(name = \"Type\", values = c(\"grey\", \"red\", \"green\"), labels = c(\"2019\", \"Global\", \"European\"))\n",
    "\n",
    "grid.arrange(p1, arrangeGrob(p2, p3, ncol = 2))"
   ]
  },
  {
   "cell_type": "markdown",
   "metadata": {},
   "source": [
    "## Positive correlation between global population and year (Hypothesis 1)\n",
    "\n",
    "We see visually that the Evolution of the global population is linear and increasing.\n",
    "To prove this, we will approximate it by a linear regression of an affine function of type $\\hat{Y} = ax + b$ and evaluate its coefficient of determination. If it is close enough to 1, we cannot reject this hypothesis.\n",
    "\n",
    "We will therefore place a line with coefficients $a$ and $b$ in such a way that $\\hat{Y}$ is close enough to the data $Y$ (i.e. $\\epsilon_i$ is sufficiently low).\n",
    "\n",
    "$\\large{y_i = b + a x_i + \\epsilon_i}$\n",
    "\n",
    "We will measure the difference between the two lines with the Mean Squared Error (MSE).\n",
    "\n",
    "$\\large{\n",
    "\\epsilon_i = y_i-ax_i+b \\hspace{1cm}\n",
    "J(a,b) = \\frac{1}{m}\\sum\\limits_{i=1}^m\\epsilon_i^2\n",
    "}$\n",
    "\n",
    "To make life easier, we will write everything in vectors.\n",
    "\n",
    "Our predictions will then be in the vector $\\hat{Y} = X.\\theta$\n",
    "\n",
    "$\\large{\n",
    "\\theta = \\begin{bmatrix}b\\\\a\\end{bmatrix} \\hspace{1cm}\n",
    "Y = \\begin{bmatrix} y_1\\\\ y_2 \\\\ ... \\\\ y_m \\end{bmatrix} \\hspace{1cm}\n",
    "X = \\begin{bmatrix} 1&x_1 \\\\ 1&x_2 \\\\ ...&... \\\\ 1&x_m \\end{bmatrix} \\hspace{1cm}\n",
    "}$\n",
    "\n",
    "$\\large{\\epsilon = y_i - (\\theta_0 + \\theta_1 x_i) = Y-X.\\theta} = Y - \\hat{Y}$\n",
    "\n",
    "$\\large{J(\\theta) = \\frac{1}{m}\\sum\\limits_{i=1}^m\\epsilon^2}$\n",
    "\n",
    "To be able to do a linear regression as well as possible, we try to minimize this error $J(\\theta)$, the function being convex, we then try to solve\n",
    "\n",
    "$\\large{ \\frac{\\partial J(\\theta)}{\\partial\\theta} = 0}$\n",
    "\n",
    "Step by step this gives us first $\\theta_0$\n",
    "\n",
    "$\\large{\\frac{\\partial J(\\theta)}{\\partial\\theta_0} = \\frac{\\partial J(\\theta)}{\\partial\\epsilon} \\cdot \\frac{\\partial\\epsilon}{\\partial\\theta_0} = \\sum\\limits_{i=1}^m(Y_i-\\theta_0-\\theta_1X_i)^2}$\n",
    "\n",
    "$\\large{0 = \\sum\\limits_{i=1}^m 2(Y_i-\\theta_0-\\theta_1X_i) * 1}$\n",
    "\n",
    "$\\large{0 = 2\\sum\\limits_{i=1}^m(Y_i-\\theta_0-\\theta_1X_i)}$\n",
    "\n",
    "$\\large{0 = \\sum\\limits_{i=1}^m(Y_i-\\theta_0-\\theta_1X_i)}$\n",
    "\n",
    "$\\large{0 = \\sum\\limits_{i=1}^mY_i -m\\theta_0-\\theta_1\\sum\\limits_{i=1}^mX_i}$\n",
    "\n",
    "$\\large{m\\theta_0 = \\sum\\limits_{i=1}^mY_i -\\theta_1\\sum\\limits_{i=1}^mX_i}$\n",
    "\n",
    "$\\large{\\large{\\theta_0 = \\bar{Y} -\\theta_1 \\bar{X}}}$\n",
    "\n",
    "Then for $\\theta_1$\n",
    "\n",
    "$\\large{\\frac{\\partial J(\\theta)}{\\partial\\theta_1} = \\sum\\limits_{i=1}^m(Y_i-\\theta_0+\\theta_1X_i)^2}$\n",
    "\n",
    "$\\large{0 = \\sum\\limits_{i=1}^m -2(Y_i-\\theta_0-\\theta_1X_i)X_i}$\n",
    "\n",
    "$\\large{0 = -2\\sum\\limits_{i=1}^m (Y_i-\\theta_0-\\theta_1X_i)X_i}$\n",
    "\n",
    "$\\large{0 = \\sum\\limits_{i=1}^m (Y_i-\\theta_0-\\theta_1X_i)X_i}$\n",
    "\n",
    "$\\large{0 = \\sum\\limits_{i=1}^m (X_iY_i-\\theta_0 X-\\theta_1X_i^2)}$\n",
    "\n",
    "$\\large{0 = \\sum\\limits_{i=1}^m (X_iY_i) - \\theta_0\\sum\\limits_{i_1}^m X_i - \\theta_1\\sum\\limits_{i=1}^m X_i^2}$\n",
    "\n",
    "$\\large{0 = \\overline{XY} - \\theta_0\\bar{X} - \\theta_1\\bar{X^2}}$\n",
    "\n",
    "$\\large{-\\overline{XY} = -\\theta_0\\bar{X} - \\theta_1\\bar{X^2}}$\n",
    "\n",
    "$\\large{\\overline{XY} = \\theta_0\\bar{X} + \\theta_1\\bar{X^2}}$\n",
    "\n",
    "With the result $\\theta_0$ obtained previously\n",
    "\n",
    "$\\large{\\overline{XY} = (\\bar{Y} - \\theta_1\\bar{X})\\bar{X} + \\theta_1\\bar{X^2}}$\n",
    "\n",
    "$\\large{\\overline{XY} = \\bar{Y}\\bar{X} - \\theta_1\\bar{X}^2 + \\theta_1\\bar{X^2}}$\n",
    "\n",
    "$\\large{\\overline{XY} - \\bar{Y}\\bar{X} = - \\theta_1\\bar{X}^2 + \\theta_1\\bar{X^2}}$\n",
    "\n",
    "$\\large{\\overline{XY} - \\bar{Y}\\bar{X} = \\theta_1\\bar{X^2} - \\theta_1\\bar{X}^2}$\n",
    "\n",
    "$\\large{\\overline{XY} - \\bar{Y}\\bar{X} = \\theta_1(\\bar{X^2} - \\bar{X}^2)}$\n",
    "\n",
    "$\\large{\\theta_1 = \\frac{\\overline{XY} - \\bar{Y}\\bar{X}}{\\bar{X^2} - \\bar{X}^2}}$\n",
    "\n",
    "Each sample being independent $E(X) = \\frac{1}{m}\\sum\\limits_{i=1}^m X_i$\n",
    "\n",
    "$\\large{\\theta_1 = \\frac{\n",
    "E(X,Y) - E(X)E(Y)\n",
    "}{\n",
    "(\\frac{1}{m}\\sum\\limits_{i=1}^m X_i^2) - \\bar{X}^2\n",
    "}}$\n",
    "\n",
    "$\\large{\\theta_1 = \\frac{Cov(X,Y)}{\\sigma_x^2}}$\n",
    "\n",
    "### Now that this is said, let's move on to the code\n",
    "\n",
    "$\\large{\\bar{X} = \\frac{1}{n}\\sum\\limits_{i=1}^n x_i}$"
   ]
  },
  {
   "cell_type": "code",
   "execution_count": 8,
   "metadata": {},
   "outputs": [
    {
     "name": "stdout",
     "output_type": "stream",
     "text": [
      "[1] \"x_bar = 2005\"\n"
     ]
    }
   ],
   "source": [
    "x_bar = mean(df$Year)\n",
    "print(paste(\"x_bar =\", x_bar))"
   ]
  },
  {
   "cell_type": "markdown",
   "metadata": {},
   "source": [
    "$\\large{\\bar{Y} = \\frac{1}{n}\\sum\\limits_{i=1}^n y_i}$"
   ]
  },
  {
   "cell_type": "code",
   "execution_count": 9,
   "metadata": {},
   "outputs": [
    {
     "name": "stdout",
     "output_type": "stream",
     "text": [
      "[1] \"y_bar = 6473.45632771129\"\n"
     ]
    }
   ],
   "source": [
    "y_bar = mean(df$Global_population)\n",
    "print(paste(\"y_bar =\", y_bar))"
   ]
  },
  {
   "cell_type": "markdown",
   "metadata": {},
   "source": [
    "$\\large{\\theta_1 = \\frac{Cov(X,Y)}{\\sigma_x^2} = 78.244}$"
   ]
  },
  {
   "cell_type": "code",
   "execution_count": 10,
   "metadata": {},
   "outputs": [
    {
     "name": "stdout",
     "output_type": "stream",
     "text": [
      "[1] \"theta_1 = 78.2438930928207\"\n"
     ]
    }
   ],
   "source": [
    "theta_1 = cov(df$Year, df$Global_population) / var(df$Year)\n",
    "print(paste(\"theta_1 =\", theta_1))"
   ]
  },
  {
   "cell_type": "markdown",
   "metadata": {},
   "source": [
    "$\\large{\\theta_0 = \\bar{Y} - \\theta_1 \\bar{X} = -150405.549}$"
   ]
  },
  {
   "cell_type": "code",
   "execution_count": 11,
   "metadata": {},
   "outputs": [
    {
     "name": "stdout",
     "output_type": "stream",
     "text": [
      "[1] \"theta_0 = -150405.549323394\"\n"
     ]
    }
   ],
   "source": [
    "theta_0 = y_bar - theta_1 * x_bar\n",
    "print(paste(\"theta_0 =\", theta_0))"
   ]
  },
  {
   "cell_type": "markdown",
   "metadata": {},
   "source": [
    "$\\large{\\hat{Y} = \\hat{f}(x) = \\theta_0 + \\theta_1 x}$"
   ]
  },
  {
   "cell_type": "code",
   "execution_count": 12,
   "metadata": {},
   "outputs": [],
   "source": [
    "df$Prediction = theta_0 + theta_1 * df$Year"
   ]
  },
  {
   "cell_type": "markdown",
   "metadata": {},
   "source": [
    "### Visualisation of the prediction"
   ]
  },
  {
   "cell_type": "code",
   "execution_count": 13,
   "metadata": {},
   "outputs": [
    {
     "data": {
      "image/png": "[encoded data removed]",
      "text/plain": [
       "plot without title"
      ]
     },
     "metadata": {
      "image/png": {
       "height": 420,
       "width": 420
      }
     },
     "output_type": "display_data"
    }
   ],
   "source": [
    "ggplot(df, aes(x = Year)) + theme_bw() + ylab(\"Population (in millions)\") +\n",
    "    geom_point(aes(y = Global_population, colour = \"1\"), size = 1) +\n",
    "    geom_vline(aes(xintercept = 2019, colour = \"0\"), linetype = \"dashed\", size = 0.7) +\n",
    "    geom_line(aes(y = Prediction, colour = \"2\"), size = 1) +\n",
    "    scale_colour_manual(name = \"Type\", values = c(\"grey\", \"red\", \"blue\"), labels = c(\"2019\", \"Global\", \"Prédiction\"))"
   ]
  },
  {
   "cell_type": "markdown",
   "metadata": {},
   "source": [
    "### Measurement of model fit\n",
    "\n",
    "Analysis of variance\n",
    "\n",
    "Total sum of squares = Sum of regression squares + Sum of error squares\n",
    "\n",
    "$\\large{SST = SSR + SSE}$\n",
    "\n",
    "$\\large{\\sum\\limits_{i=1}^m(y_i-\\bar{y})^2 = \\sum\\limits_{i=1}^m(\\hat{y}_i-\\bar{y})^2 + \\sum\\limits_{i=1}^m(y_i-\\hat{y}_i)^2}$"
   ]
  },
  {
   "cell_type": "code",
   "execution_count": 14,
   "metadata": {},
   "outputs": [
    {
     "name": "stdout",
     "output_type": "stream",
     "text": [
      "[1] \"y_bar = 6473.45632771129\"\n",
      "[1] \"sst = 385075719.013343\"\n",
      "[1] \"ssr = 384407086.36888\"\n",
      "[1] \"sse = 668632.644463659\"\n"
     ]
    }
   ],
   "source": [
    "y_bar = mean(df$Global_population)\n",
    "print(paste(\"y_bar =\", y_bar))\n",
    "sst = sum((df$Global_population - y_bar)^2)\n",
    "print(paste(\"sst =\", sst))\n",
    "ssr = sum((df$Prediction - y_bar)^2)\n",
    "print(paste(\"ssr =\", ssr))\n",
    "sse = sum((df$Global_population - df$Prediction)^2)\n",
    "print(paste(\"sse =\", sse))"
   ]
  },
  {
   "cell_type": "markdown",
   "metadata": {},
   "source": [
    "Relative criterion\n",
    "\n",
    "$R^2$: coefficient of determination\n",
    "\n",
    "$\\large{R^2 = \\frac{SSR}{SST} = \\frac{\\sum\\limits_{i=1}^m(\\hat{y}_i-\\bar{y})^2}{\\sum\\limits_{i=1}^m(y_i-\\bar{y})^2}}$\n",
    "\n",
    "Or\n",
    "\n",
    "$\\large{R^2 = 1 - \\frac{SSE}{SST} = 1 - \\frac{\\sum\\limits_{i=1}^m(y_i-\\hat{y}_i)^2}{\\sum\\limits_{i=1}^m(y_i-\\bar{y})^2}}$\n",
    "\n",
    "$0 \\leq R^2 \\leq 1$\n",
    "\n",
    "$R^2 \\approx 1 \\rightarrow$ The model is adequate.\n",
    "\n",
    "$R^2 \\approx 0 \\rightarrow$ The model is inadequate."
   ]
  },
  {
   "cell_type": "code",
   "execution_count": 15,
   "metadata": {},
   "outputs": [
    {
     "name": "stdout",
     "output_type": "stream",
     "text": [
      "[1] \"R^2 = 0.998263633328591\"\n"
     ]
    }
   ],
   "source": [
    "print(paste(\"R^2 =\", 1 - sse/sst))"
   ]
  },
  {
   "cell_type": "code",
   "execution_count": 16,
   "metadata": {},
   "outputs": [
    {
     "name": "stdout",
     "output_type": "stream",
     "text": [
      "[1] \"R^2 = 0.998263633328592\"\n"
     ]
    }
   ],
   "source": [
    "print(paste(\"R^2 =\", ssr / sst))"
   ]
  },
  {
   "cell_type": "markdown",
   "metadata": {},
   "source": [
    "__Our model explains 99.83% of the variance in the data__\n",
    "\n",
    "$R$: Correlation coefficient\n",
    "\n",
    "$R = \\frac{Cov(X,Y)}{\\sigma_{x}\\sigma_{y}}$\n",
    "\n",
    "$R \\approx -1 \\rightarrow$ negative correlation\n",
    "\n",
    "$R \\approx 0 \\rightarrow$ no correlation\n",
    "\n",
    "$R \\approx 1 \\rightarrow$ positive correlation"
   ]
  },
  {
   "cell_type": "code",
   "execution_count": 17,
   "metadata": {},
   "outputs": [
    {
     "name": "stdout",
     "output_type": "stream",
     "text": [
      "[1] \"R = 0.999131439465595\"\n"
     ]
    }
   ],
   "source": [
    "r = cov(df$Year, df$Global_population) / (sd(df$Year) * sd(df$Global_population))\n",
    "print(paste(\"R =\", r))"
   ]
  },
  {
   "cell_type": "markdown",
   "metadata": {},
   "source": [
    "__Our model does not allow us to reject the hypothesis $H_0$__\n",
    "\n",
    "#### Units of measurement of model adequacy\n",
    "\n",
    "Mean Absolute Error (MAE)\n",
    "\n",
    "$\\large{MAE = \\frac{1}{N}\\sum\\limits_{i=1}^N|y_i-\\hat{y}_i|}$"
   ]
  },
  {
   "cell_type": "code",
   "execution_count": 18,
   "metadata": {},
   "outputs": [
    {
     "name": "stdout",
     "output_type": "stream",
     "text": [
      "[1] \"MAE = 69.3300518887301\"\n"
     ]
    }
   ],
   "source": [
    "print(paste(\"MAE =\", mean(abs(df$Global_population - df$Prediction))))"
   ]
  },
  {
   "cell_type": "markdown",
   "metadata": {},
   "source": [
    "Mean Squared Error (MSE)\n",
    "\n",
    "$\\large{MSE = \\frac{1}{N}\\sum\\limits_{i=1}^N(y_i-\\hat{y}_i)^2 = \\frac{SSE}{N}}$"
   ]
  },
  {
   "cell_type": "code",
   "execution_count": 19,
   "metadata": {},
   "outputs": [
    {
     "name": "stdout",
     "output_type": "stream",
     "text": [
      "[1] \"MSE = 7347.61147762263\"\n"
     ]
    }
   ],
   "source": [
    "mse = sse / (length(df$Year))\n",
    "print(paste(\"MSE =\", mse))"
   ]
  },
  {
   "cell_type": "markdown",
   "metadata": {},
   "source": [
    "Root Mean Squared Error (RMSE)\n",
    "\n",
    "$\\large{RMSE = \\sqrt{MSE}}$"
   ]
  },
  {
   "cell_type": "code",
   "execution_count": 20,
   "metadata": {},
   "outputs": [
    {
     "name": "stdout",
     "output_type": "stream",
     "text": [
      "[1] \"RMSE = 85.7182097201209\"\n"
     ]
    }
   ],
   "source": [
    "rmse = sqrt(mse)\n",
    "print(paste(\"RMSE =\", rmse))"
   ]
  },
  {
   "cell_type": "markdown",
   "metadata": {},
   "source": [
    "## Residue analysis\n",
    "\n",
    "- Residue formula\n",
    "$\\rightarrow \\large{\\epsilon_i = y_i - \\hat{y}_i}$\n",
    "\n",
    "- Studentized residue\n",
    "$\\rightarrow \\large{\\epsilon_i = \\frac{y_i - \\hat{y}_i}{RMSE\\sqrt{1-h_i}}}$\n",
    "\n",
    "where\n",
    "$\\rightarrow \\large{h_i=\\frac{1}{N}+\\frac{(x_i-\\bar{x})^2}{\\sum\\limits_{i=1}^N(x_i-\\bar{x})^2}}$"
   ]
  },
  {
   "cell_type": "code",
   "execution_count": 21,
   "metadata": {},
   "outputs": [],
   "source": [
    "x_bar = mean(df$Year)\n",
    "h = 1 / length(df$Year) + ((df$Year - x_bar)^2) / sum((df$Year - x_bar)^2)\n",
    "e = (df$Global_population - df$Prediction) / (sqrt(1 - h))\n",
    "stde = (df$Global_population - df$Prediction) / (rmse * sqrt(1 - h))\n",
    "residus = data.frame(x = df$Year, \"Influence\" = h, \"Residue\" = e, stde = stde)"
   ]
  },
  {
   "cell_type": "markdown",
   "metadata": {},
   "source": [
    "### Visualisation"
   ]
  },
  {
   "cell_type": "code",
   "execution_count": 22,
   "metadata": {},
   "outputs": [
    {
     "data": {
      "image/png": "[encoded data removed]",
      "text/plain": [
       "plot without title"
      ]
     },
     "metadata": {
      "image/png": {
       "height": 420,
       "width": 420
      }
     },
     "output_type": "display_data"
    }
   ],
   "source": [
    "rvl = ggplot(residus) + theme_bw() +\n",
    "    geom_point(aes(x = Influence, y = stde)) +\n",
    "    ylab(\"Studentized residue\") +\n",
    "    geom_hline(aes(yintercept = 0)) +\n",
    "    ggtitle(\"Residuals vs. Influence\")\n",
    "\n",
    "hist_e = ggplot(residus) + theme_bw() +\n",
    "    geom_histogram(aes(x = stde), bins = 20) +\n",
    "    xlab(\"Studentized residue\") + ylab(\"Count\") +\n",
    "    ggtitle(\"Distribution of residues\")\n",
    "\n",
    "rvf = ggplot(residus) + theme_bw() +\n",
    "    geom_point(aes(x = x, y = Residue)) +\n",
    "    geom_hline(aes(yintercept = 0)) +\n",
    "    ggtitle(\"Residuals vs. model\")\n",
    "\n",
    "hist_l = ggplot(residus) + theme_bw() +\n",
    "    geom_histogram(aes(x = Influence), bins = 25) +\n",
    "    ylab(\"Count\") + xlab(\"Influence\") +\n",
    "    ggtitle(\"Distribution of influences\")\n",
    "\n",
    "grid.arrange(rvf, hist_e, rvl, hist_l)"
   ]
  },
  {
   "cell_type": "markdown",
   "metadata": {},
   "source": [
    "## The average population increased between $[1960, 2010]$ and $[2011, 2017]$ (Hypothesis 2)\n",
    "\n",
    "We will therefore test the following (left-sided) hypothesis\n",
    "\n",
    "$\\mu_{pop1} = \\frac{1}{n}\\sum\\limits_{i=1}^n population\\_global[1960, 2010]^{(i)} \\hspace{1cm} \\mu_{pop2} = \\frac{1}{n}\\sum\\limits_{i=1}^n population\\_global[2011, 2017]^{(i)}$\n",
    "\n",
    "$H_0 = \\mu_{pop1} - \\mu_{pop2} \\geq 0$\n",
    "\n",
    "$H_1 = \\mu_{pop1} - \\mu_{pop2} < 0$"
   ]
  },
  {
   "cell_type": "code",
   "execution_count": 23,
   "metadata": {},
   "outputs": [
    {
     "name": "stdout",
     "output_type": "stream",
     "text": [
      "[1] \"t_value = -13.1374810522537\"\n",
      "[1] \"ddl = 56\"\n",
      "[1] \"p_value = -1.67252230307558\"\n",
      "[1] \"t_value < p_value ? TRUE\"\n"
     ]
    }
   ],
   "source": [
    "df_1 = df[df$Year >= 1960 & df$Year <= 2010,]\n",
    "df_2 = df[df$Year >= 2011 & df$Year <= 2017,]\n",
    "hypothesis_test(df_1$Global_population, df_2$Global_population)"
   ]
  },
  {
   "cell_type": "markdown",
   "metadata": {},
   "source": [
    "__We can therefore reject the hypothesis $H_0$__\n",
    "\n",
    "## Global growth in $[1960, 2010]$ is higher than European growth in $[2011, 2017]$ (Hypothesis 3)\n",
    "\n",
    "We will therefore test the following (left-sided) hypothesis\n",
    "\n",
    "$C_{m} = \\frac{1}{n}\\sum\\limits_{i=1}^n global\\_growth[1960, 2010]^{(i)} \\hspace{1cm} C_{e} = \\frac{1}{n}\\sum\\limits_{i=1}^n european\\_growth[2011, 2017]^{(i)}$\n",
    "\n",
    "$H_0 = C_{m} - C_{e} \\geq 0$\n",
    "\n",
    "$H_1 = C_{m} - C_{e} < 0$"
   ]
  },
  {
   "cell_type": "code",
   "execution_count": 24,
   "metadata": {},
   "outputs": [
    {
     "name": "stdout",
     "output_type": "stream",
     "text": [
      "[1] \"t_value = 20.2333656712816\"\n",
      "[1] \"ddl = 55\"\n",
      "[1] \"p_value = -1.67303396528991\"\n",
      "[1] \"t_value < p_value ? FALSE\"\n"
     ]
    }
   ],
   "source": [
    "pop1 = df_1$Global_growth[-c(1)] # The first value is NA\n",
    "hypothesis_test(pop1, df_2$Euro_growth)"
   ]
  },
  {
   "cell_type": "markdown",
   "metadata": {},
   "source": [
    "__We can therefore reject the hypothesis $H_0$__\n",
    "\n",
    "## The proportion of Europeans over 65 is lower in $[1960, 2010]$ than in $[2011, 2017]$ (Hypothesis 4)\n",
    "\n",
    "We will therefore test the following (one-sided) hypothesis\n",
    "\n",
    "$S_1 = \\frac{1}{n}\\sum\\limits_{i=1}^n senior\\_proportion[1960, 2010]^{(i)} \\hspace{1cm} S_{2} = \\frac{1}{n}\\sum\\limits_{i=1}^n senior\\_proportion[2011, 2017]^{(i)}$\n",
    "\n",
    "$H_0 = S_1 - S_2 \\leq 0$\n",
    "\n",
    "$H_1 = S_1 - S_2 > 0$"
   ]
  },
  {
   "cell_type": "code",
   "execution_count": 25,
   "metadata": {},
   "outputs": [
    {
     "name": "stdout",
     "output_type": "stream",
     "text": [
      "[1] \"t_value = -12.7890414432725\"\n",
      "[1] \"ddl = 56\"\n",
      "[1] \"p_value = 1.67252230307558\"\n",
      "[1] \"t_value > p_value ? FALSE\"\n"
     ]
    }
   ],
   "source": [
    "hypothesis_test(df_1$Senior, df_2$Senior, FALSE)"
   ]
  },
  {
   "cell_type": "markdown",
   "metadata": {},
   "source": [
    "__We can therefore reject the hypothesis $H_0$__\n",
    "\n",
    "## Current health expenditure in OECD countries file (INSEE)"
   ]
  },
  {
   "cell_type": "code",
   "execution_count": 26,
   "metadata": {},
   "outputs": [
    {
     "name": "stdout",
     "output_type": "stream",
     "text": [
      "[1] \"The file cond-sante-dep-courante-monde.xlsx has 20 * 37 lines\"\n"
     ]
    },
    {
     "data": {
      "text/html": [
       "<table class=\"dataframe\">\n",
       "<caption>A tibble: 6 × 20</caption>\n",
       "<thead>\n",
       "\t<tr><th scope=col>Pays</th><th scope=col>2000</th><th scope=col>2001</th><th scope=col>2002</th><th scope=col>2003</th><th scope=col>2004</th><th scope=col>2005</th><th scope=col>2006</th><th scope=col>2007</th><th scope=col>2008</th><th scope=col>2009</th><th scope=col>2010</th><th scope=col>2011</th><th scope=col>2012</th><th scope=col>2013</th><th scope=col>2014</th><th scope=col>2015</th><th scope=col>2016</th><th scope=col>2017</th><th scope=col>2018</th></tr>\n",
       "\t<tr><th scope=col>&lt;chr&gt;</th><th scope=col>&lt;dbl&gt;</th><th scope=col>&lt;dbl&gt;</th><th scope=col>&lt;dbl&gt;</th><th scope=col>&lt;dbl&gt;</th><th scope=col>&lt;dbl&gt;</th><th scope=col>&lt;dbl&gt;</th><th scope=col>&lt;dbl&gt;</th><th scope=col>&lt;dbl&gt;</th><th scope=col>&lt;dbl&gt;</th><th scope=col>&lt;dbl&gt;</th><th scope=col>&lt;dbl&gt;</th><th scope=col>&lt;dbl&gt;</th><th scope=col>&lt;dbl&gt;</th><th scope=col>&lt;dbl&gt;</th><th scope=col>&lt;dbl&gt;</th><th scope=col>&lt;dbl&gt;</th><th scope=col>&lt;dbl&gt;</th><th scope=col>&lt;dbl&gt;</th><th scope=col>&lt;dbl&gt;</th></tr>\n",
       "</thead>\n",
       "<tbody>\n",
       "\t<tr><td>États-Unis</td><td>12.542</td><td>13.219</td><td>14.007</td><td>14.522</td><td>14.610</td><td>14.606</td><td>14.702</td><td>14.919</td><td>15.286</td><td>16.284</td><td>16.345</td><td>16.300</td><td>16.285</td><td>16.210</td><td>16.406</td><td>16.711</td><td>17.049</td><td>17.004</td><td>16.885</td></tr>\n",
       "\t<tr><td>Suisse    </td><td> 9.375</td><td> 9.730</td><td>10.138</td><td>10.400</td><td>10.479</td><td>10.294</td><td> 9.818</td><td> 9.629</td><td> 9.754</td><td>10.379</td><td>10.276</td><td>10.341</td><td>10.618</td><td>10.831</td><td>10.994</td><td>11.369</td><td>11.709</td><td>11.895</td><td>11.876</td></tr>\n",
       "\t<tr><td>Allemagne </td><td> 9.888</td><td> 9.920</td><td>10.184</td><td>10.402</td><td>10.146</td><td>10.311</td><td>10.180</td><td>10.051</td><td>10.251</td><td>11.238</td><td>11.097</td><td>10.776</td><td>10.847</td><td>10.992</td><td>11.016</td><td>11.164</td><td>11.233</td><td>11.374</td><td>11.471</td></tr>\n",
       "\t<tr><td>France    </td><td> 9.584</td><td> 9.706</td><td>10.022</td><td>10.083</td><td>10.164</td><td>10.215</td><td>10.393</td><td>10.331</td><td>10.512</td><td>11.297</td><td>11.240</td><td>11.202</td><td>11.313</td><td>11.436</td><td>11.581</td><td>11.466</td><td>11.501</td><td>11.401</td><td>11.294</td></tr>\n",
       "\t<tr><td>Japon     </td><td> 7.151</td><td> 7.359</td><td> 7.473</td><td> 7.611</td><td> 7.657</td><td> 7.781</td><td> 7.808</td><td> 7.890</td><td> 8.200</td><td> 9.058</td><td> 9.157</td><td>10.617</td><td>10.791</td><td>10.792</td><td>10.832</td><td>10.886</td><td>10.835</td><td>10.796</td><td>10.953</td></tr>\n",
       "\t<tr><td>Suède     </td><td> 7.369</td><td> 7.944</td><td> 8.254</td><td> 8.366</td><td> 8.179</td><td> 8.199</td><td> 8.102</td><td> 8.044</td><td> 8.243</td><td> 8.802</td><td> 8.336</td><td>10.446</td><td>10.766</td><td>10.945</td><td>10.980</td><td>10.828</td><td>10.839</td><td>10.795</td><td>10.886</td></tr>\n",
       "</tbody>\n",
       "</table>\n"
      ],
      "text/latex": [
       "A tibble: 6 × 20\n",
       "\\begin{tabular}{llllllllllllllllllll}\n",
       " Pays & 2000 & 2001 & 2002 & 2003 & 2004 & 2005 & 2006 & 2007 & 2008 & 2009 & 2010 & 2011 & 2012 & 2013 & 2014 & 2015 & 2016 & 2017 & 2018\\\\\n",
       " <chr> & <dbl> & <dbl> & <dbl> & <dbl> & <dbl> & <dbl> & <dbl> & <dbl> & <dbl> & <dbl> & <dbl> & <dbl> & <dbl> & <dbl> & <dbl> & <dbl> & <dbl> & <dbl> & <dbl>\\\\\n",
       "\\hline\n",
       "\t États-Unis & 12.542 & 13.219 & 14.007 & 14.522 & 14.610 & 14.606 & 14.702 & 14.919 & 15.286 & 16.284 & 16.345 & 16.300 & 16.285 & 16.210 & 16.406 & 16.711 & 17.049 & 17.004 & 16.885\\\\\n",
       "\t Suisse     &  9.375 &  9.730 & 10.138 & 10.400 & 10.479 & 10.294 &  9.818 &  9.629 &  9.754 & 10.379 & 10.276 & 10.341 & 10.618 & 10.831 & 10.994 & 11.369 & 11.709 & 11.895 & 11.876\\\\\n",
       "\t Allemagne  &  9.888 &  9.920 & 10.184 & 10.402 & 10.146 & 10.311 & 10.180 & 10.051 & 10.251 & 11.238 & 11.097 & 10.776 & 10.847 & 10.992 & 11.016 & 11.164 & 11.233 & 11.374 & 11.471\\\\\n",
       "\t France     &  9.584 &  9.706 & 10.022 & 10.083 & 10.164 & 10.215 & 10.393 & 10.331 & 10.512 & 11.297 & 11.240 & 11.202 & 11.313 & 11.436 & 11.581 & 11.466 & 11.501 & 11.401 & 11.294\\\\\n",
       "\t Japon      &  7.151 &  7.359 &  7.473 &  7.611 &  7.657 &  7.781 &  7.808 &  7.890 &  8.200 &  9.058 &  9.157 & 10.617 & 10.791 & 10.792 & 10.832 & 10.886 & 10.835 & 10.796 & 10.953\\\\\n",
       "\t Suède      &  7.369 &  7.944 &  8.254 &  8.366 &  8.179 &  8.199 &  8.102 &  8.044 &  8.243 &  8.802 &  8.336 & 10.446 & 10.766 & 10.945 & 10.980 & 10.828 & 10.839 & 10.795 & 10.886\\\\\n",
       "\\end{tabular}\n"
      ],
      "text/markdown": [
       "\n",
       "A tibble: 6 × 20\n",
       "\n",
       "| Pays &lt;chr&gt; | 2000 &lt;dbl&gt; | 2001 &lt;dbl&gt; | 2002 &lt;dbl&gt; | 2003 &lt;dbl&gt; | 2004 &lt;dbl&gt; | 2005 &lt;dbl&gt; | 2006 &lt;dbl&gt; | 2007 &lt;dbl&gt; | 2008 &lt;dbl&gt; | 2009 &lt;dbl&gt; | 2010 &lt;dbl&gt; | 2011 &lt;dbl&gt; | 2012 &lt;dbl&gt; | 2013 &lt;dbl&gt; | 2014 &lt;dbl&gt; | 2015 &lt;dbl&gt; | 2016 &lt;dbl&gt; | 2017 &lt;dbl&gt; | 2018 &lt;dbl&gt; |\n",
       "|---|---|---|---|---|---|---|---|---|---|---|---|---|---|---|---|---|---|---|---|\n",
       "| États-Unis | 12.542 | 13.219 | 14.007 | 14.522 | 14.610 | 14.606 | 14.702 | 14.919 | 15.286 | 16.284 | 16.345 | 16.300 | 16.285 | 16.210 | 16.406 | 16.711 | 17.049 | 17.004 | 16.885 |\n",
       "| Suisse     |  9.375 |  9.730 | 10.138 | 10.400 | 10.479 | 10.294 |  9.818 |  9.629 |  9.754 | 10.379 | 10.276 | 10.341 | 10.618 | 10.831 | 10.994 | 11.369 | 11.709 | 11.895 | 11.876 |\n",
       "| Allemagne  |  9.888 |  9.920 | 10.184 | 10.402 | 10.146 | 10.311 | 10.180 | 10.051 | 10.251 | 11.238 | 11.097 | 10.776 | 10.847 | 10.992 | 11.016 | 11.164 | 11.233 | 11.374 | 11.471 |\n",
       "| France     |  9.584 |  9.706 | 10.022 | 10.083 | 10.164 | 10.215 | 10.393 | 10.331 | 10.512 | 11.297 | 11.240 | 11.202 | 11.313 | 11.436 | 11.581 | 11.466 | 11.501 | 11.401 | 11.294 |\n",
       "| Japon      |  7.151 |  7.359 |  7.473 |  7.611 |  7.657 |  7.781 |  7.808 |  7.890 |  8.200 |  9.058 |  9.157 | 10.617 | 10.791 | 10.792 | 10.832 | 10.886 | 10.835 | 10.796 | 10.953 |\n",
       "| Suède      |  7.369 |  7.944 |  8.254 |  8.366 |  8.179 |  8.199 |  8.102 |  8.044 |  8.243 |  8.802 |  8.336 | 10.446 | 10.766 | 10.945 | 10.980 | 10.828 | 10.839 | 10.795 | 10.886 |\n",
       "\n"
      ],
      "text/plain": [
       "  Pays       2000   2001   2002   2003   2004   2005   2006   2007   2008  \n",
       "1 États-Unis 12.542 13.219 14.007 14.522 14.610 14.606 14.702 14.919 15.286\n",
       "2 Suisse      9.375  9.730 10.138 10.400 10.479 10.294  9.818  9.629  9.754\n",
       "3 Allemagne   9.888  9.920 10.184 10.402 10.146 10.311 10.180 10.051 10.251\n",
       "4 France      9.584  9.706 10.022 10.083 10.164 10.215 10.393 10.331 10.512\n",
       "5 Japon       7.151  7.359  7.473  7.611  7.657  7.781  7.808  7.890  8.200\n",
       "6 Suède       7.369  7.944  8.254  8.366  8.179  8.199  8.102  8.044  8.243\n",
       "  2009   2010   2011   2012   2013   2014   2015   2016   2017   2018  \n",
       "1 16.284 16.345 16.300 16.285 16.210 16.406 16.711 17.049 17.004 16.885\n",
       "2 10.379 10.276 10.341 10.618 10.831 10.994 11.369 11.709 11.895 11.876\n",
       "3 11.238 11.097 10.776 10.847 10.992 11.016 11.164 11.233 11.374 11.471\n",
       "4 11.297 11.240 11.202 11.313 11.436 11.581 11.466 11.501 11.401 11.294\n",
       "5  9.058  9.157 10.617 10.791 10.792 10.832 10.886 10.835 10.796 10.953\n",
       "6  8.802  8.336 10.446 10.766 10.945 10.980 10.828 10.839 10.795 10.886"
      ]
     },
     "metadata": {},
     "output_type": "display_data"
    }
   ],
   "source": [
    "dep = read_excel(\"data/cond-sante-dep-courante-monde.xlsx\", skip = 3, n_max = 37)\n",
    "dep = dep[, -ncol(dep)] # The last year contains only estimates or provisional data and is therefore ignored.\n",
    "print(sprintf(\"The file cond-sante-dep-courante-monde.xlsx has %d * %d lines\", ncol(dep), nrow(dep)))\n",
    "head(dep)"
   ]
  },
  {
   "cell_type": "markdown",
   "metadata": {},
   "source": [
    "### Transposition in dataframe"
   ]
  },
  {
   "cell_type": "code",
   "execution_count": 27,
   "metadata": {},
   "outputs": [
    {
     "data": {
      "text/html": [
       "<table class=\"dataframe\">\n",
       "<caption>A data.frame: 6 × 38</caption>\n",
       "<thead>\n",
       "\t<tr><th></th><th scope=col>Year</th><th scope=col>États.Unis</th><th scope=col>Suisse</th><th scope=col>Allemagne</th><th scope=col>France</th><th scope=col>Japon</th><th scope=col>Suède</th><th scope=col>Canada</th><th scope=col>Norvège</th><th scope=col>Autriche</th><th scope=col>...</th><th scope=col>Slovaquie</th><th scope=col>Irlande</th><th scope=col>Lituanie</th><th scope=col>Estonie</th><th scope=col>Hongrie</th><th scope=col>Pologne</th><th scope=col>Lettonie</th><th scope=col>Mexique</th><th scope=col>Luxembourg</th><th scope=col>Turquie</th></tr>\n",
       "\t<tr><th></th><th scope=col>&lt;dbl&gt;</th><th scope=col>&lt;dbl&gt;</th><th scope=col>&lt;dbl&gt;</th><th scope=col>&lt;dbl&gt;</th><th scope=col>&lt;dbl&gt;</th><th scope=col>&lt;dbl&gt;</th><th scope=col>&lt;dbl&gt;</th><th scope=col>&lt;dbl&gt;</th><th scope=col>&lt;dbl&gt;</th><th scope=col>&lt;dbl&gt;</th><th scope=col>...</th><th scope=col>&lt;dbl&gt;</th><th scope=col>&lt;dbl&gt;</th><th scope=col>&lt;dbl&gt;</th><th scope=col>&lt;dbl&gt;</th><th scope=col>&lt;dbl&gt;</th><th scope=col>&lt;dbl&gt;</th><th scope=col>&lt;dbl&gt;</th><th scope=col>&lt;dbl&gt;</th><th scope=col>&lt;dbl&gt;</th><th scope=col>&lt;dbl&gt;</th></tr>\n",
       "</thead>\n",
       "<tbody>\n",
       "\t<tr><th scope=row>1</th><td>2000</td><td>12.542</td><td> 9.375</td><td> 9.888</td><td> 9.584</td><td>7.151</td><td>7.369</td><td>8.248</td><td>7.712</td><td>9.204</td><td>...</td><td>5.303</td><td>5.905</td><td>6.192</td><td>5.157</td><td>6.778</td><td>5.298</td><td>5.450</td><td>4.449</td><td>5.901</td><td>4.622</td></tr>\n",
       "\t<tr><th scope=row>2</th><td>2001</td><td>13.219</td><td> 9.730</td><td> 9.920</td><td> 9.706</td><td>7.359</td><td>7.944</td><td>8.625</td><td>8.022</td><td>9.269</td><td>...</td><td>5.332</td><td>6.399</td><td>6.006</td><td>4.777</td><td>6.826</td><td>5.679</td><td>5.789</td><td>4.820</td><td>6.410</td><td>4.924</td></tr>\n",
       "\t<tr><th scope=row>3</th><td>2002</td><td>14.007</td><td>10.138</td><td>10.184</td><td>10.022</td><td>7.473</td><td>8.254</td><td>8.857</td><td>9.001</td><td>9.395</td><td>...</td><td>5.509</td><td>6.675</td><td>6.136</td><td>4.700</td><td>7.121</td><td>6.079</td><td>5.779</td><td>5.072</td><td>6.738</td><td>5.101</td></tr>\n",
       "\t<tr><th scope=row>4</th><td>2003</td><td>14.522</td><td>10.400</td><td>10.402</td><td>10.083</td><td>7.611</td><td>8.366</td><td>9.011</td><td>9.215</td><td>9.547</td><td>...</td><td>5.448</td><td>7.009</td><td>6.179</td><td>4.859</td><td>8.119</td><td>5.962</td><td>5.498</td><td>5.815</td><td>6.971</td><td>5.059</td></tr>\n",
       "\t<tr><th scope=row>5</th><td>2004</td><td>14.610</td><td>10.479</td><td>10.146</td><td>10.164</td><td>7.657</td><td>8.179</td><td>9.066</td><td>8.821</td><td>9.709</td><td>...</td><td>6.469</td><td>7.225</td><td>5.506</td><td>5.120</td><td>7.770</td><td>5.869</td><td>6.237</td><td>5.954</td><td>7.347</td><td>4.959</td></tr>\n",
       "\t<tr><th scope=row>6</th><td>2005</td><td>14.606</td><td>10.294</td><td>10.311</td><td>10.215</td><td>7.781</td><td>8.199</td><td>9.035</td><td>8.328</td><td>9.627</td><td>...</td><td>6.589</td><td>7.648</td><td>5.642</td><td>5.058</td><td>8.001</td><td>5.807</td><td>5.865</td><td>5.836</td><td>7.184</td><td>4.942</td></tr>\n",
       "</tbody>\n",
       "</table>\n"
      ],
      "text/latex": [
       "A data.frame: 6 × 38\n",
       "\\begin{tabular}{r|lllllllllllllllllllll}\n",
       "  & Year & États.Unis & Suisse & Allemagne & France & Japon & Suède & Canada & Norvège & Autriche & ... & Slovaquie & Irlande & Lituanie & Estonie & Hongrie & Pologne & Lettonie & Mexique & Luxembourg & Turquie\\\\\n",
       "  & <dbl> & <dbl> & <dbl> & <dbl> & <dbl> & <dbl> & <dbl> & <dbl> & <dbl> & <dbl> & ... & <dbl> & <dbl> & <dbl> & <dbl> & <dbl> & <dbl> & <dbl> & <dbl> & <dbl> & <dbl>\\\\\n",
       "\\hline\n",
       "\t1 & 2000 & 12.542 &  9.375 &  9.888 &  9.584 & 7.151 & 7.369 & 8.248 & 7.712 & 9.204 & ... & 5.303 & 5.905 & 6.192 & 5.157 & 6.778 & 5.298 & 5.450 & 4.449 & 5.901 & 4.622\\\\\n",
       "\t2 & 2001 & 13.219 &  9.730 &  9.920 &  9.706 & 7.359 & 7.944 & 8.625 & 8.022 & 9.269 & ... & 5.332 & 6.399 & 6.006 & 4.777 & 6.826 & 5.679 & 5.789 & 4.820 & 6.410 & 4.924\\\\\n",
       "\t3 & 2002 & 14.007 & 10.138 & 10.184 & 10.022 & 7.473 & 8.254 & 8.857 & 9.001 & 9.395 & ... & 5.509 & 6.675 & 6.136 & 4.700 & 7.121 & 6.079 & 5.779 & 5.072 & 6.738 & 5.101\\\\\n",
       "\t4 & 2003 & 14.522 & 10.400 & 10.402 & 10.083 & 7.611 & 8.366 & 9.011 & 9.215 & 9.547 & ... & 5.448 & 7.009 & 6.179 & 4.859 & 8.119 & 5.962 & 5.498 & 5.815 & 6.971 & 5.059\\\\\n",
       "\t5 & 2004 & 14.610 & 10.479 & 10.146 & 10.164 & 7.657 & 8.179 & 9.066 & 8.821 & 9.709 & ... & 6.469 & 7.225 & 5.506 & 5.120 & 7.770 & 5.869 & 6.237 & 5.954 & 7.347 & 4.959\\\\\n",
       "\t6 & 2005 & 14.606 & 10.294 & 10.311 & 10.215 & 7.781 & 8.199 & 9.035 & 8.328 & 9.627 & ... & 6.589 & 7.648 & 5.642 & 5.058 & 8.001 & 5.807 & 5.865 & 5.836 & 7.184 & 4.942\\\\\n",
       "\\end{tabular}\n"
      ],
      "text/markdown": [
       "\n",
       "A data.frame: 6 × 38\n",
       "\n",
       "| <!--/--> | Year &lt;dbl&gt; | États.Unis &lt;dbl&gt; | Suisse &lt;dbl&gt; | Allemagne &lt;dbl&gt; | France &lt;dbl&gt; | Japon &lt;dbl&gt; | Suède &lt;dbl&gt; | Canada &lt;dbl&gt; | Norvège &lt;dbl&gt; | Autriche &lt;dbl&gt; | ... ... | Slovaquie &lt;dbl&gt; | Irlande &lt;dbl&gt; | Lituanie &lt;dbl&gt; | Estonie &lt;dbl&gt; | Hongrie &lt;dbl&gt; | Pologne &lt;dbl&gt; | Lettonie &lt;dbl&gt; | Mexique &lt;dbl&gt; | Luxembourg &lt;dbl&gt; | Turquie &lt;dbl&gt; |\n",
       "|---|---|---|---|---|---|---|---|---|---|---|---|---|---|---|---|---|---|---|---|---|---|\n",
       "| 1 | 2000 | 12.542 |  9.375 |  9.888 |  9.584 | 7.151 | 7.369 | 8.248 | 7.712 | 9.204 | ... | 5.303 | 5.905 | 6.192 | 5.157 | 6.778 | 5.298 | 5.450 | 4.449 | 5.901 | 4.622 |\n",
       "| 2 | 2001 | 13.219 |  9.730 |  9.920 |  9.706 | 7.359 | 7.944 | 8.625 | 8.022 | 9.269 | ... | 5.332 | 6.399 | 6.006 | 4.777 | 6.826 | 5.679 | 5.789 | 4.820 | 6.410 | 4.924 |\n",
       "| 3 | 2002 | 14.007 | 10.138 | 10.184 | 10.022 | 7.473 | 8.254 | 8.857 | 9.001 | 9.395 | ... | 5.509 | 6.675 | 6.136 | 4.700 | 7.121 | 6.079 | 5.779 | 5.072 | 6.738 | 5.101 |\n",
       "| 4 | 2003 | 14.522 | 10.400 | 10.402 | 10.083 | 7.611 | 8.366 | 9.011 | 9.215 | 9.547 | ... | 5.448 | 7.009 | 6.179 | 4.859 | 8.119 | 5.962 | 5.498 | 5.815 | 6.971 | 5.059 |\n",
       "| 5 | 2004 | 14.610 | 10.479 | 10.146 | 10.164 | 7.657 | 8.179 | 9.066 | 8.821 | 9.709 | ... | 6.469 | 7.225 | 5.506 | 5.120 | 7.770 | 5.869 | 6.237 | 5.954 | 7.347 | 4.959 |\n",
       "| 6 | 2005 | 14.606 | 10.294 | 10.311 | 10.215 | 7.781 | 8.199 | 9.035 | 8.328 | 9.627 | ... | 6.589 | 7.648 | 5.642 | 5.058 | 8.001 | 5.807 | 5.865 | 5.836 | 7.184 | 4.942 |\n",
       "\n"
      ],
      "text/plain": [
       "  Year États.Unis Suisse Allemagne France Japon Suède Canada Norvège Autriche\n",
       "1 2000 12.542      9.375  9.888     9.584 7.151 7.369 8.248  7.712   9.204   \n",
       "2 2001 13.219      9.730  9.920     9.706 7.359 7.944 8.625  8.022   9.269   \n",
       "3 2002 14.007     10.138 10.184    10.022 7.473 8.254 8.857  9.001   9.395   \n",
       "4 2003 14.522     10.400 10.402    10.083 7.611 8.366 9.011  9.215   9.547   \n",
       "5 2004 14.610     10.479 10.146    10.164 7.657 8.179 9.066  8.821   9.709   \n",
       "6 2005 14.606     10.294 10.311    10.215 7.781 8.199 9.035  8.328   9.627   \n",
       "  ... Slovaquie Irlande Lituanie Estonie Hongrie Pologne Lettonie Mexique\n",
       "1 ... 5.303     5.905   6.192    5.157   6.778   5.298   5.450    4.449  \n",
       "2 ... 5.332     6.399   6.006    4.777   6.826   5.679   5.789    4.820  \n",
       "3 ... 5.509     6.675   6.136    4.700   7.121   6.079   5.779    5.072  \n",
       "4 ... 5.448     7.009   6.179    4.859   8.119   5.962   5.498    5.815  \n",
       "5 ... 6.469     7.225   5.506    5.120   7.770   5.869   6.237    5.954  \n",
       "6 ... 6.589     7.648   5.642    5.058   8.001   5.807   5.865    5.836  \n",
       "  Luxembourg Turquie\n",
       "1 5.901      4.622  \n",
       "2 6.410      4.924  \n",
       "3 6.738      5.101  \n",
       "4 6.971      5.059  \n",
       "5 7.347      4.959  \n",
       "6 7.184      4.942  "
      ]
     },
     "metadata": {},
     "output_type": "display_data"
    }
   ],
   "source": [
    "dep = t(dep)\n",
    "colnames(dep) = dep[1, ]\n",
    "rownames(dep) = NULL\n",
    "dep = data.frame(apply(dep[-c(1), ], 2, function(x) as.numeric(as.character(x))))\n",
    "dep = data.frame(Year = (0:18) + 2e3, dep)\n",
    "head(dep)"
   ]
  },
  {
   "cell_type": "markdown",
   "metadata": {},
   "source": [
    "### Removal of non-EU states"
   ]
  },
  {
   "cell_type": "code",
   "execution_count": 28,
   "metadata": {},
   "outputs": [
    {
     "data": {
      "text/html": [
       "<table class=\"dataframe\">\n",
       "<caption>A data.frame: 6 × 27</caption>\n",
       "<thead>\n",
       "\t<tr><th></th><th scope=col>Year</th><th scope=col>Suisse</th><th scope=col>Allemagne</th><th scope=col>France</th><th scope=col>Suède</th><th scope=col>Norvège</th><th scope=col>Autriche</th><th scope=col>Belgique</th><th scope=col>Royaume.Uni</th><th scope=col>Danemark</th><th scope=col>...</th><th scope=col>République.tchèque</th><th scope=col>Colombie</th><th scope=col>Slovaquie</th><th scope=col>Irlande</th><th scope=col>Lituanie</th><th scope=col>Estonie</th><th scope=col>Hongrie</th><th scope=col>Pologne</th><th scope=col>Lettonie</th><th scope=col>Luxembourg</th></tr>\n",
       "\t<tr><th></th><th scope=col>&lt;dbl&gt;</th><th scope=col>&lt;dbl&gt;</th><th scope=col>&lt;dbl&gt;</th><th scope=col>&lt;dbl&gt;</th><th scope=col>&lt;dbl&gt;</th><th scope=col>&lt;dbl&gt;</th><th scope=col>&lt;dbl&gt;</th><th scope=col>&lt;dbl&gt;</th><th scope=col>&lt;dbl&gt;</th><th scope=col>&lt;dbl&gt;</th><th scope=col>...</th><th scope=col>&lt;dbl&gt;</th><th scope=col>&lt;dbl&gt;</th><th scope=col>&lt;dbl&gt;</th><th scope=col>&lt;dbl&gt;</th><th scope=col>&lt;dbl&gt;</th><th scope=col>&lt;dbl&gt;</th><th scope=col>&lt;dbl&gt;</th><th scope=col>&lt;dbl&gt;</th><th scope=col>&lt;dbl&gt;</th><th scope=col>&lt;dbl&gt;</th></tr>\n",
       "</thead>\n",
       "<tbody>\n",
       "\t<tr><th scope=row>1</th><td>2000</td><td> 9.375</td><td> 9.888</td><td> 9.584</td><td>7.369</td><td>7.712</td><td>9.204</td><td>7.999</td><td>7.284</td><td>8.104</td><td>...</td><td>5.718</td><td>5.635</td><td>5.303</td><td>5.905</td><td>6.192</td><td>5.157</td><td>6.778</td><td>5.298</td><td>5.450</td><td>5.901</td></tr>\n",
       "\t<tr><th scope=row>2</th><td>2001</td><td> 9.730</td><td> 9.920</td><td> 9.706</td><td>7.944</td><td>8.022</td><td>9.269</td><td>8.150</td><td>7.655</td><td>8.448</td><td>...</td><td>5.888</td><td>5.942</td><td>5.332</td><td>6.399</td><td>6.006</td><td>4.777</td><td>6.826</td><td>5.679</td><td>5.789</td><td>6.410</td></tr>\n",
       "\t<tr><th scope=row>3</th><td>2002</td><td>10.138</td><td>10.184</td><td>10.022</td><td>8.254</td><td>9.001</td><td>9.395</td><td>8.318</td><td>8.024</td><td>8.703</td><td>...</td><td>6.199</td><td>5.733</td><td>5.509</td><td>6.675</td><td>6.136</td><td>4.700</td><td>7.121</td><td>6.079</td><td>5.779</td><td>6.738</td></tr>\n",
       "\t<tr><th scope=row>4</th><td>2003</td><td>10.400</td><td>10.402</td><td>10.083</td><td>8.366</td><td>9.215</td><td>9.547</td><td>9.208</td><td>8.212</td><td>8.904</td><td>...</td><td>6.554</td><td>5.775</td><td>5.448</td><td>7.009</td><td>6.179</td><td>4.859</td><td>8.119</td><td>5.962</td><td>5.498</td><td>6.971</td></tr>\n",
       "\t<tr><th scope=row>5</th><td>2004</td><td>10.479</td><td>10.146</td><td>10.164</td><td>8.179</td><td>8.821</td><td>9.709</td><td>9.367</td><td>8.484</td><td>9.007</td><td>...</td><td>6.385</td><td>5.799</td><td>6.469</td><td>7.225</td><td>5.506</td><td>5.120</td><td>7.770</td><td>5.869</td><td>6.237</td><td>7.347</td></tr>\n",
       "\t<tr><th scope=row>6</th><td>2005</td><td>10.294</td><td>10.311</td><td>10.215</td><td>8.199</td><td>8.328</td><td>9.627</td><td>9.262</td><td>8.534</td><td>9.091</td><td>...</td><td>6.381</td><td>6.067</td><td>6.589</td><td>7.648</td><td>5.642</td><td>5.058</td><td>8.001</td><td>5.807</td><td>5.865</td><td>7.184</td></tr>\n",
       "</tbody>\n",
       "</table>\n"
      ],
      "text/latex": [
       "A data.frame: 6 × 27\n",
       "\\begin{tabular}{r|lllllllllllllllllllll}\n",
       "  & Year & Suisse & Allemagne & France & Suède & Norvège & Autriche & Belgique & Royaume.Uni & Danemark & ... & République.tchèque & Colombie & Slovaquie & Irlande & Lituanie & Estonie & Hongrie & Pologne & Lettonie & Luxembourg\\\\\n",
       "  & <dbl> & <dbl> & <dbl> & <dbl> & <dbl> & <dbl> & <dbl> & <dbl> & <dbl> & <dbl> & ... & <dbl> & <dbl> & <dbl> & <dbl> & <dbl> & <dbl> & <dbl> & <dbl> & <dbl> & <dbl>\\\\\n",
       "\\hline\n",
       "\t1 & 2000 &  9.375 &  9.888 &  9.584 & 7.369 & 7.712 & 9.204 & 7.999 & 7.284 & 8.104 & ... & 5.718 & 5.635 & 5.303 & 5.905 & 6.192 & 5.157 & 6.778 & 5.298 & 5.450 & 5.901\\\\\n",
       "\t2 & 2001 &  9.730 &  9.920 &  9.706 & 7.944 & 8.022 & 9.269 & 8.150 & 7.655 & 8.448 & ... & 5.888 & 5.942 & 5.332 & 6.399 & 6.006 & 4.777 & 6.826 & 5.679 & 5.789 & 6.410\\\\\n",
       "\t3 & 2002 & 10.138 & 10.184 & 10.022 & 8.254 & 9.001 & 9.395 & 8.318 & 8.024 & 8.703 & ... & 6.199 & 5.733 & 5.509 & 6.675 & 6.136 & 4.700 & 7.121 & 6.079 & 5.779 & 6.738\\\\\n",
       "\t4 & 2003 & 10.400 & 10.402 & 10.083 & 8.366 & 9.215 & 9.547 & 9.208 & 8.212 & 8.904 & ... & 6.554 & 5.775 & 5.448 & 7.009 & 6.179 & 4.859 & 8.119 & 5.962 & 5.498 & 6.971\\\\\n",
       "\t5 & 2004 & 10.479 & 10.146 & 10.164 & 8.179 & 8.821 & 9.709 & 9.367 & 8.484 & 9.007 & ... & 6.385 & 5.799 & 6.469 & 7.225 & 5.506 & 5.120 & 7.770 & 5.869 & 6.237 & 7.347\\\\\n",
       "\t6 & 2005 & 10.294 & 10.311 & 10.215 & 8.199 & 8.328 & 9.627 & 9.262 & 8.534 & 9.091 & ... & 6.381 & 6.067 & 6.589 & 7.648 & 5.642 & 5.058 & 8.001 & 5.807 & 5.865 & 7.184\\\\\n",
       "\\end{tabular}\n"
      ],
      "text/markdown": [
       "\n",
       "A data.frame: 6 × 27\n",
       "\n",
       "| <!--/--> | Year &lt;dbl&gt; | Suisse &lt;dbl&gt; | Allemagne &lt;dbl&gt; | France &lt;dbl&gt; | Suède &lt;dbl&gt; | Norvège &lt;dbl&gt; | Autriche &lt;dbl&gt; | Belgique &lt;dbl&gt; | Royaume.Uni &lt;dbl&gt; | Danemark &lt;dbl&gt; | ... ... | République.tchèque &lt;dbl&gt; | Colombie &lt;dbl&gt; | Slovaquie &lt;dbl&gt; | Irlande &lt;dbl&gt; | Lituanie &lt;dbl&gt; | Estonie &lt;dbl&gt; | Hongrie &lt;dbl&gt; | Pologne &lt;dbl&gt; | Lettonie &lt;dbl&gt; | Luxembourg &lt;dbl&gt; |\n",
       "|---|---|---|---|---|---|---|---|---|---|---|---|---|---|---|---|---|---|---|---|---|---|\n",
       "| 1 | 2000 |  9.375 |  9.888 |  9.584 | 7.369 | 7.712 | 9.204 | 7.999 | 7.284 | 8.104 | ... | 5.718 | 5.635 | 5.303 | 5.905 | 6.192 | 5.157 | 6.778 | 5.298 | 5.450 | 5.901 |\n",
       "| 2 | 2001 |  9.730 |  9.920 |  9.706 | 7.944 | 8.022 | 9.269 | 8.150 | 7.655 | 8.448 | ... | 5.888 | 5.942 | 5.332 | 6.399 | 6.006 | 4.777 | 6.826 | 5.679 | 5.789 | 6.410 |\n",
       "| 3 | 2002 | 10.138 | 10.184 | 10.022 | 8.254 | 9.001 | 9.395 | 8.318 | 8.024 | 8.703 | ... | 6.199 | 5.733 | 5.509 | 6.675 | 6.136 | 4.700 | 7.121 | 6.079 | 5.779 | 6.738 |\n",
       "| 4 | 2003 | 10.400 | 10.402 | 10.083 | 8.366 | 9.215 | 9.547 | 9.208 | 8.212 | 8.904 | ... | 6.554 | 5.775 | 5.448 | 7.009 | 6.179 | 4.859 | 8.119 | 5.962 | 5.498 | 6.971 |\n",
       "| 5 | 2004 | 10.479 | 10.146 | 10.164 | 8.179 | 8.821 | 9.709 | 9.367 | 8.484 | 9.007 | ... | 6.385 | 5.799 | 6.469 | 7.225 | 5.506 | 5.120 | 7.770 | 5.869 | 6.237 | 7.347 |\n",
       "| 6 | 2005 | 10.294 | 10.311 | 10.215 | 8.199 | 8.328 | 9.627 | 9.262 | 8.534 | 9.091 | ... | 6.381 | 6.067 | 6.589 | 7.648 | 5.642 | 5.058 | 8.001 | 5.807 | 5.865 | 7.184 |\n",
       "\n"
      ],
      "text/plain": [
       "  Year Suisse Allemagne France Suède Norvège Autriche Belgique Royaume.Uni\n",
       "1 2000  9.375  9.888     9.584 7.369 7.712   9.204    7.999    7.284      \n",
       "2 2001  9.730  9.920     9.706 7.944 8.022   9.269    8.150    7.655      \n",
       "3 2002 10.138 10.184    10.022 8.254 9.001   9.395    8.318    8.024      \n",
       "4 2003 10.400 10.402    10.083 8.366 9.215   9.547    9.208    8.212      \n",
       "5 2004 10.479 10.146    10.164 8.179 8.821   9.709    9.367    8.484      \n",
       "6 2005 10.294 10.311    10.215 8.199 8.328   9.627    9.262    8.534      \n",
       "  Danemark ... République.tchèque Colombie Slovaquie Irlande Lituanie Estonie\n",
       "1 8.104    ... 5.718              5.635    5.303     5.905   6.192    5.157  \n",
       "2 8.448    ... 5.888              5.942    5.332     6.399   6.006    4.777  \n",
       "3 8.703    ... 6.199              5.733    5.509     6.675   6.136    4.700  \n",
       "4 8.904    ... 6.554              5.775    5.448     7.009   6.179    4.859  \n",
       "5 9.007    ... 6.385              5.799    6.469     7.225   5.506    5.120  \n",
       "6 9.091    ... 6.381              6.067    6.589     7.648   5.642    5.058  \n",
       "  Hongrie Pologne Lettonie Luxembourg\n",
       "1 6.778   5.298   5.450    5.901     \n",
       "2 6.826   5.679   5.789    6.410     \n",
       "3 7.121   6.079   5.779    6.738     \n",
       "4 8.119   5.962   5.498    6.971     \n",
       "5 7.770   5.869   6.237    7.347     \n",
       "6 8.001   5.807   5.865    7.184     "
      ]
     },
     "metadata": {},
     "output_type": "display_data"
    }
   ],
   "source": [
    "hors_eu = c(\"États.Unis\", \"Japon\", \"Chili\", \"Corée.du.sud\", \"Slovénie\", \"Israël\", \"Mexique\", \"Turquie\", \"Canada\", \"Australie\", \"Nouvelle.Zélande\")\n",
    "dep = dep[!(colnames(dep) %in% hors_eu)]\n",
    "dep = dep[dep$Year <= 2015, ]\n",
    "head(dep)"
   ]
  },
  {
   "cell_type": "markdown",
   "metadata": {},
   "source": [
    "### Translation of country names into English"
   ]
  },
  {
   "cell_type": "code",
   "execution_count": 29,
   "metadata": {},
   "outputs": [],
   "source": [
    "trad = c('Year', 'Switzerland', 'Germany', 'France', 'Sweden', 'Denmark', 'Belgium', 'Austria', 'Norway', 'Netherlands', 'United Kingdom',\n",
    "         'New Zealand', 'Portugal', 'Finland', 'Spain', 'Italy', 'Iceland', 'Greece', 'Czech Republic', 'Ireland', 'Lithuania', 'Slovak Republic',\n",
    "         'Hungary', 'Estonia', 'Poland', 'Latvia', 'Luxembourg')"
   ]
  },
  {
   "cell_type": "markdown",
   "metadata": {},
   "source": [
    "## Is there a correlation between life expectancy and current health expenditure in Europe (Hypothesis 5)\n",
    "\n",
    "We will calculate the correlation coefficient for each country by crossing the data frames\n",
    "\n",
    "As a reminder:\n",
    "\n",
    "$R = \\frac{Cov(X,Y)}{\\sigma_{x}\\sigma_{y}}$\n",
    "\n",
    "$R \\approx -1 \\rightarrow$ negative correlation\n",
    "\n",
    "$R \\approx 0 \\rightarrow$ no correlation\n",
    "\n",
    "$R \\approx 1 \\rightarrow$ positive correlation"
   ]
  },
  {
   "cell_type": "code",
   "execution_count": 30,
   "metadata": {},
   "outputs": [
    {
     "data": {
      "text/html": [
       "<table class=\"dataframe\">\n",
       "<caption>A data.frame: 6 × 27</caption>\n",
       "<thead>\n",
       "\t<tr><th></th><th scope=col>Year</th><th scope=col>Austria</th><th scope=col>Belgium</th><th scope=col>Czech.Republic</th><th scope=col>Denmark</th><th scope=col>Estonia</th><th scope=col>Finland</th><th scope=col>France</th><th scope=col>Germany</th><th scope=col>Greece</th><th scope=col>...</th><th scope=col>Netherlands</th><th scope=col>New.Zealand</th><th scope=col>Norway</th><th scope=col>Poland</th><th scope=col>Portugal</th><th scope=col>Slovak.Republic</th><th scope=col>Spain</th><th scope=col>Sweden</th><th scope=col>Switzerland</th><th scope=col>United.Kingdom</th></tr>\n",
       "\t<tr><th></th><th scope=col>&lt;dbl&gt;</th><th scope=col>&lt;chr&gt;</th><th scope=col>&lt;chr&gt;</th><th scope=col>&lt;chr&gt;</th><th scope=col>&lt;chr&gt;</th><th scope=col>&lt;chr&gt;</th><th scope=col>&lt;chr&gt;</th><th scope=col>&lt;chr&gt;</th><th scope=col>&lt;chr&gt;</th><th scope=col>&lt;chr&gt;</th><th scope=col>...</th><th scope=col>&lt;chr&gt;</th><th scope=col>&lt;chr&gt;</th><th scope=col>&lt;chr&gt;</th><th scope=col>&lt;chr&gt;</th><th scope=col>&lt;chr&gt;</th><th scope=col>&lt;chr&gt;</th><th scope=col>&lt;chr&gt;</th><th scope=col>&lt;chr&gt;</th><th scope=col>&lt;chr&gt;</th><th scope=col>&lt;chr&gt;</th></tr>\n",
       "</thead>\n",
       "<tbody>\n",
       "\t<tr><th scope=row>1</th><td>2000</td><td>78.12683</td><td>77.72195</td><td>74.96829</td><td>76.59268</td><td>70.41707</td><td>77.46585</td><td>79.05610</td><td>77.92683</td><td>77.88780</td><td>...</td><td>77.98780</td><td>78.63659</td><td>78.63415</td><td>73.74878</td><td>76.31463</td><td>73.05122</td><td>78.96585</td><td>79.64390</td><td>79.68049</td><td>77.74146</td></tr>\n",
       "\t<tr><th scope=row>2</th><td>2001</td><td>78.57561</td><td>77.97317</td><td>75.17317</td><td>76.79268</td><td>70.25854</td><td>77.96585</td><td>79.15854</td><td>78.32927</td><td>78.38780</td><td>...</td><td>78.19024</td><td>78.69268</td><td>78.78537</td><td>74.20000</td><td>76.81463</td><td>73.40244</td><td>79.36829</td><td>79.79512</td><td>80.18049</td><td>77.99268</td></tr>\n",
       "\t<tr><th scope=row>3</th><td>2002</td><td>78.67805</td><td>78.07561</td><td>75.22195</td><td>76.89512</td><td>70.90488</td><td>78.11951</td><td>79.26098</td><td>78.22927</td><td>78.64146</td><td>...</td><td>78.29268</td><td>78.84634</td><td>78.98780</td><td>74.49756</td><td>77.06585</td><td>73.60488</td><td>79.56829</td><td>79.84634</td><td>80.38537</td><td>78.14390</td></tr>\n",
       "\t<tr><th scope=row>4</th><td>2003</td><td>78.63171</td><td>78.12927</td><td>75.17073</td><td>77.14390</td><td>71.31707</td><td>78.36829</td><td>79.11463</td><td>78.38049</td><td>78.84146</td><td>...</td><td>78.49268</td><td>79.14634</td><td>79.39024</td><td>74.59756</td><td>77.21951</td><td>73.60488</td><td>79.61951</td><td>80.09512</td><td>80.53659</td><td>78.44634</td></tr>\n",
       "\t<tr><th scope=row>5</th><td>2004</td><td>79.18049</td><td>78.87805</td><td>75.72195</td><td>77.49268</td><td>71.90976</td><td>78.71463</td><td>80.16341</td><td>78.68049</td><td>79.03902</td><td>...</td><td>79.09512</td><td>79.54878</td><td>79.84146</td><td>74.84634</td><td>77.67073</td><td>73.95854</td><td>79.87073</td><td>80.49756</td><td>81.08780</td><td>78.74634</td></tr>\n",
       "\t<tr><th scope=row>6</th><td>2005</td><td>79.33171</td><td>78.98049</td><td>75.92439</td><td>77.84390</td><td>72.56829</td><td>78.81707</td><td>80.16341</td><td>78.93171</td><td>79.23902</td><td>...</td><td>79.34634</td><td>79.85122</td><td>80.04146</td><td>74.99512</td><td>78.07073</td><td>73.90488</td><td>80.17073</td><td>80.54634</td><td>81.23659</td><td>79.04878</td></tr>\n",
       "</tbody>\n",
       "</table>\n"
      ],
      "text/latex": [
       "A data.frame: 6 × 27\n",
       "\\begin{tabular}{r|lllllllllllllllllllll}\n",
       "  & Year & Austria & Belgium & Czech.Republic & Denmark & Estonia & Finland & France & Germany & Greece & ... & Netherlands & New.Zealand & Norway & Poland & Portugal & Slovak.Republic & Spain & Sweden & Switzerland & United.Kingdom\\\\\n",
       "  & <dbl> & <chr> & <chr> & <chr> & <chr> & <chr> & <chr> & <chr> & <chr> & <chr> & ... & <chr> & <chr> & <chr> & <chr> & <chr> & <chr> & <chr> & <chr> & <chr> & <chr>\\\\\n",
       "\\hline\n",
       "\t1 & 2000 & 78.12683 & 77.72195 & 74.96829 & 76.59268 & 70.41707 & 77.46585 & 79.05610 & 77.92683 & 77.88780 & ... & 77.98780 & 78.63659 & 78.63415 & 73.74878 & 76.31463 & 73.05122 & 78.96585 & 79.64390 & 79.68049 & 77.74146\\\\\n",
       "\t2 & 2001 & 78.57561 & 77.97317 & 75.17317 & 76.79268 & 70.25854 & 77.96585 & 79.15854 & 78.32927 & 78.38780 & ... & 78.19024 & 78.69268 & 78.78537 & 74.20000 & 76.81463 & 73.40244 & 79.36829 & 79.79512 & 80.18049 & 77.99268\\\\\n",
       "\t3 & 2002 & 78.67805 & 78.07561 & 75.22195 & 76.89512 & 70.90488 & 78.11951 & 79.26098 & 78.22927 & 78.64146 & ... & 78.29268 & 78.84634 & 78.98780 & 74.49756 & 77.06585 & 73.60488 & 79.56829 & 79.84634 & 80.38537 & 78.14390\\\\\n",
       "\t4 & 2003 & 78.63171 & 78.12927 & 75.17073 & 77.14390 & 71.31707 & 78.36829 & 79.11463 & 78.38049 & 78.84146 & ... & 78.49268 & 79.14634 & 79.39024 & 74.59756 & 77.21951 & 73.60488 & 79.61951 & 80.09512 & 80.53659 & 78.44634\\\\\n",
       "\t5 & 2004 & 79.18049 & 78.87805 & 75.72195 & 77.49268 & 71.90976 & 78.71463 & 80.16341 & 78.68049 & 79.03902 & ... & 79.09512 & 79.54878 & 79.84146 & 74.84634 & 77.67073 & 73.95854 & 79.87073 & 80.49756 & 81.08780 & 78.74634\\\\\n",
       "\t6 & 2005 & 79.33171 & 78.98049 & 75.92439 & 77.84390 & 72.56829 & 78.81707 & 80.16341 & 78.93171 & 79.23902 & ... & 79.34634 & 79.85122 & 80.04146 & 74.99512 & 78.07073 & 73.90488 & 80.17073 & 80.54634 & 81.23659 & 79.04878\\\\\n",
       "\\end{tabular}\n"
      ],
      "text/markdown": [
       "\n",
       "A data.frame: 6 × 27\n",
       "\n",
       "| <!--/--> | Year &lt;dbl&gt; | Austria &lt;chr&gt; | Belgium &lt;chr&gt; | Czech.Republic &lt;chr&gt; | Denmark &lt;chr&gt; | Estonia &lt;chr&gt; | Finland &lt;chr&gt; | France &lt;chr&gt; | Germany &lt;chr&gt; | Greece &lt;chr&gt; | ... ... | Netherlands &lt;chr&gt; | New.Zealand &lt;chr&gt; | Norway &lt;chr&gt; | Poland &lt;chr&gt; | Portugal &lt;chr&gt; | Slovak.Republic &lt;chr&gt; | Spain &lt;chr&gt; | Sweden &lt;chr&gt; | Switzerland &lt;chr&gt; | United.Kingdom &lt;chr&gt; |\n",
       "|---|---|---|---|---|---|---|---|---|---|---|---|---|---|---|---|---|---|---|---|---|---|\n",
       "| 1 | 2000 | 78.12683 | 77.72195 | 74.96829 | 76.59268 | 70.41707 | 77.46585 | 79.05610 | 77.92683 | 77.88780 | ... | 77.98780 | 78.63659 | 78.63415 | 73.74878 | 76.31463 | 73.05122 | 78.96585 | 79.64390 | 79.68049 | 77.74146 |\n",
       "| 2 | 2001 | 78.57561 | 77.97317 | 75.17317 | 76.79268 | 70.25854 | 77.96585 | 79.15854 | 78.32927 | 78.38780 | ... | 78.19024 | 78.69268 | 78.78537 | 74.20000 | 76.81463 | 73.40244 | 79.36829 | 79.79512 | 80.18049 | 77.99268 |\n",
       "| 3 | 2002 | 78.67805 | 78.07561 | 75.22195 | 76.89512 | 70.90488 | 78.11951 | 79.26098 | 78.22927 | 78.64146 | ... | 78.29268 | 78.84634 | 78.98780 | 74.49756 | 77.06585 | 73.60488 | 79.56829 | 79.84634 | 80.38537 | 78.14390 |\n",
       "| 4 | 2003 | 78.63171 | 78.12927 | 75.17073 | 77.14390 | 71.31707 | 78.36829 | 79.11463 | 78.38049 | 78.84146 | ... | 78.49268 | 79.14634 | 79.39024 | 74.59756 | 77.21951 | 73.60488 | 79.61951 | 80.09512 | 80.53659 | 78.44634 |\n",
       "| 5 | 2004 | 79.18049 | 78.87805 | 75.72195 | 77.49268 | 71.90976 | 78.71463 | 80.16341 | 78.68049 | 79.03902 | ... | 79.09512 | 79.54878 | 79.84146 | 74.84634 | 77.67073 | 73.95854 | 79.87073 | 80.49756 | 81.08780 | 78.74634 |\n",
       "| 6 | 2005 | 79.33171 | 78.98049 | 75.92439 | 77.84390 | 72.56829 | 78.81707 | 80.16341 | 78.93171 | 79.23902 | ... | 79.34634 | 79.85122 | 80.04146 | 74.99512 | 78.07073 | 73.90488 | 80.17073 | 80.54634 | 81.23659 | 79.04878 |\n",
       "\n"
      ],
      "text/plain": [
       "  Year Austria  Belgium  Czech.Republic Denmark  Estonia  Finland  France  \n",
       "1 2000 78.12683 77.72195 74.96829       76.59268 70.41707 77.46585 79.05610\n",
       "2 2001 78.57561 77.97317 75.17317       76.79268 70.25854 77.96585 79.15854\n",
       "3 2002 78.67805 78.07561 75.22195       76.89512 70.90488 78.11951 79.26098\n",
       "4 2003 78.63171 78.12927 75.17073       77.14390 71.31707 78.36829 79.11463\n",
       "5 2004 79.18049 78.87805 75.72195       77.49268 71.90976 78.71463 80.16341\n",
       "6 2005 79.33171 78.98049 75.92439       77.84390 72.56829 78.81707 80.16341\n",
       "  Germany  Greece   ... Netherlands New.Zealand Norway   Poland   Portugal\n",
       "1 77.92683 77.88780 ... 77.98780    78.63659    78.63415 73.74878 76.31463\n",
       "2 78.32927 78.38780 ... 78.19024    78.69268    78.78537 74.20000 76.81463\n",
       "3 78.22927 78.64146 ... 78.29268    78.84634    78.98780 74.49756 77.06585\n",
       "4 78.38049 78.84146 ... 78.49268    79.14634    79.39024 74.59756 77.21951\n",
       "5 78.68049 79.03902 ... 79.09512    79.54878    79.84146 74.84634 77.67073\n",
       "6 78.93171 79.23902 ... 79.34634    79.85122    80.04146 74.99512 78.07073\n",
       "  Slovak.Republic Spain    Sweden   Switzerland United.Kingdom\n",
       "1 73.05122        78.96585 79.64390 79.68049    77.74146      \n",
       "2 73.40244        79.36829 79.79512 80.18049    77.99268      \n",
       "3 73.60488        79.56829 79.84634 80.38537    78.14390      \n",
       "4 73.60488        79.61951 80.09512 80.53659    78.44634      \n",
       "5 73.95854        79.87073 80.49756 81.08780    78.74634      \n",
       "6 73.90488        80.17073 80.54634 81.23659    79.04878      "
      ]
     },
     "metadata": {},
     "output_type": "display_data"
    }
   ],
   "source": [
    "esp = estim[estim$'Series.Code' == 'SP.DYN.LE00.IN' & estim$'Country.Name' %in% trad, c(1, 45 : 60)]\n",
    "esp = t(as.data.frame(esp))\n",
    "rownames(esp) = NULL\n",
    "colnames(esp) = esp[1, ]\n",
    "esp = esp[-c(1), ]\n",
    "esp = data.frame(Year = (0:15) + 2e3, esp)\n",
    "head(esp)"
   ]
  },
  {
   "cell_type": "markdown",
   "metadata": {},
   "source": [
    "### Calculation of the R coefficients"
   ]
  },
  {
   "cell_type": "code",
   "execution_count": 31,
   "metadata": {},
   "outputs": [
    {
     "name": "stdout",
     "output_type": "stream",
     "text": [
      "[1] \"Average r coefficient = 0.614244\"\n"
     ]
    },
    {
     "data": {
      "image/png": "[encoded data removed]",
      "text/plain": [
       "plot without title"
      ]
     },
     "metadata": {
      "image/png": {
       "height": 420,
       "width": 420
      }
     },
     "output_type": "display_data"
    }
   ],
   "source": [
    "esp_names = colnames(esp)\n",
    "indexes = match(esp_names, gsub(\" \", \".\", trad))\n",
    "coef_r = c()\n",
    "xs = c()\n",
    "xs = c()\n",
    "ys = c()\n",
    "country_names = c()\n",
    "for(i in (2 : length(indexes))){\n",
    "    x = as.numeric(as.character(esp[, i]))\n",
    "    xs = c(xs, x)\n",
    "    y = dep[, indexes[i]]\n",
    "    ys = c(ys, y)\n",
    "    cxy = cov(x, y)\n",
    "    sdxy = sd(x) * sd(y)\n",
    "    coef_r = c(coef_r, cxy / sdxy)\n",
    "    country_names = c(country_names, rep(esp_names[i], length(x)))\n",
    "}\n",
    "coefs_r = data.frame(Index = (1 : length(coef_r)), \"Value\" = coef_r)\n",
    "insee = data.frame(\"Country\" = country_names, \"Expectation\" = xs, \"Public expenditure\" = ys)\n",
    "\n",
    "print(sprintf(\"Average r coefficient = %f\", mean(coefs_r$Value)))\n",
    "\n",
    "h1 = ggplot(coefs_r) + ylab(\"Count\") + theme_bw() +\n",
    "     geom_histogram(aes(x = Value), bins = 5) +\n",
    "     ggtitle(\"Distribution of R coefficients\")     \n",
    "\n",
    "h2 = ggplot(insee) + ylab(\"Public expenditure\") + theme_bw() +\n",
    "     geom_point(aes(x = Expectation, y = Public.expenditure, col = Country))     \n",
    "\n",
    "grid.arrange(h1, h2)"
   ]
  },
  {
   "cell_type": "markdown",
   "metadata": {},
   "source": [
    "It can therefore be concluded that there is a correlation between life expectancy and current health expenditure.\n",
    "\n",
    "_Pierre Saunders @saundersp_"
   ]
  }
 ],
 "metadata": {
  "kernelspec": {
   "display_name": "R",
   "language": "R",
   "name": "ir"
  },
  "language_info": {
   "codemirror_mode": "r",
   "file_extension": ".r",
   "mimetype": "text/x-r-source",
   "name": "R",
   "pygments_lexer": "r",
   "version": "4.0.5"
  },
  "toc-autonumbering": false,
  "toc-showcode": false,
  "toc-showmarkdowntxt": false,
  "toc-showtags": false
 },
 "nbformat": 4,
 "nbformat_minor": 4
}
