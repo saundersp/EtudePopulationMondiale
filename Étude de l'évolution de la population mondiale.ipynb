{
 "cells": [
  {
   "cell_type": "markdown",
   "metadata": {},
   "source": [
    "# Évolution de la population mondiale\n",
    "\n",
    "__Pierre SAUNDERS__\n",
    "\n",
    "## Librairies utilisées\n",
    "\n",
    "_Environnement tidyverse_\n",
    "- [Doc](https://readxl.tidyverse.org/) - readxl : Permet la lecture de fichiers Excel (xlsx/xls)\n",
    "- [Doc](https://ggplot2.tidyverse.org/reference/) - ggplot2 : Permet de faire des plots à partir de DataFrame\n",
    "\n",
    "_Autres_\n",
    "- [Doc](https://cran.r-project.org/web/packages/gridExtra/vignettes/arrangeGrob.html) - gridExtra : Add-on de ggplot2 permettant des plot multiples sur la même image."
   ]
  },
  {
   "cell_type": "code",
   "execution_count": 1,
   "metadata": {},
   "outputs": [],
   "source": [
    "library(readxl)\n",
    "library(ggplot2)\n",
    "library(gridExtra)"
   ]
  },
  {
   "cell_type": "markdown",
   "metadata": {},
   "source": [
    "## Étude\n",
    "\n",
    "Il est bien connu que la population mondiale compte désormais plus de sept milliards et demi d’individus et qu’elle est en augmentation constante.\n",
    "Par contre, on dit que la population européenne n’augment que très légèrement au fil des années et qu’elle de plus en plus âgée.\n",
    "Afin de vérifier ces deux affirmations, nous allons utiliser la base donnée qui se trouve [ici](https://www.kaggle.com/theworldbank/global-population-estimates).\n",
    "Il s’agira d’utiliser les données dans la plage 1960-2010 pour calculer la moyenne et variance des variables aléatoires qui nous intéressent.\n",
    "Puis on utilisera les données de 2011 à 2017 comme ́échantillon pour la vérification des hypothèses.\n",
    "On utilisera la même technique d’exploitation des séries temporelles pour ́étudier la proportion de population âgée de plus de 65 ans par rapport au reste de la population.\n",
    "En prenant les données qui se trouvent [ici](https://www.insee.fr/fr/statistiques/2387502), fournies par l’INSEE, est-ce que l'on peut ́établir une corrélation entre le niveau de dépenses de santé et le vieillissement de la population ?\n",
    "\n",
    "### Hypothèses\n",
    "\n",
    "1. Corrélation positive entre l'année et la population mondiale\n",
    "2. Moyenne population européenne de $[1960, 2010]$ < Moyenne population européenne de $[2011, 2017]$\n",
    "3. Croissance mondiale de $[1960, 2010]$ > Croissance européenne de $[2011, 2017]$\n",
    "4. Proportion de personne européenne âgée de plus de 65 ans en $[1960, 2010]$ < Proportion de personne européenne âgée de plus de 65 ans en $[2011, 2017]$\n",
    "5. Corrélation entre l'espérance de vie et la dépense de santé courante (INSEE) en Europe\n",
    "\n",
    "Toutes les hypothèses seront testées avec un niveau de signification $\\alpha = 0.05$\n",
    "\n",
    "### Test de Student\n",
    "\n",
    "#### Fonction t-value pour échantillons indépendants\n",
    "\n",
    "- $\\bar{X}$ : moyenne observée\n",
    "- $n$ : taille échantillon\n",
    "- $\\sigma$ : écart-type\n",
    "\n",
    "\n",
    "$\\rightarrow$ pour chaque population $A$ et $B$\n",
    "\n",
    "Note: Variance = $\\sigma^2$\n",
    "\n",
    "$\\large{t = \\frac{\\bar{X}_{A}-\\bar{X}_B}{\\sqrt{\\frac{\\sigma_{A}^2}{n_A}+\\frac{\\sigma_{B}^2}{n_B}}}}$"
   ]
  },
  {
   "cell_type": "code",
   "execution_count": 2,
   "metadata": {
    "scrolled": true
   },
   "outputs": [],
   "source": [
    "test_student_independants = function(pop_a, pop_b){\n",
    "    (mean(pop_a) - mean(pop_b)) / sqrt(var(pop_a) / length(pop_a) + var(pop_b) / length(pop_b))\n",
    "}"
   ]
  },
  {
   "cell_type": "markdown",
   "metadata": {},
   "source": [
    "## Fichier Global Population estimates (Kaggle)\n",
    "\n",
    "Le fichier __data.csv__ a été convertie au format xlsx, les watermarks ont été supprimées,  puis le fichier a été renommé en __estim.xlsx__ et placé dans le dossier __converted__."
   ]
  },
  {
   "cell_type": "code",
   "execution_count": 3,
   "metadata": {},
   "outputs": [
    {
     "data": {
      "text/html": [
       "<table>\n",
       "<caption>A tibble: 6 × 95</caption>\n",
       "<thead>\n",
       "\t<tr><th scope=col>Country Name</th><th scope=col>Country Code</th><th scope=col>Series Name</th><th scope=col>Series Code</th><th scope=col>1960 [YR1960]</th><th scope=col>1961 [YR1961]</th><th scope=col>1962 [YR1962]</th><th scope=col>1963 [YR1963]</th><th scope=col>1964 [YR1964]</th><th scope=col>1965 [YR1965]</th><th scope=col>...</th><th scope=col>2041 [YR2041]</th><th scope=col>2042 [YR2042]</th><th scope=col>2043 [YR2043]</th><th scope=col>2044 [YR2044]</th><th scope=col>2045 [YR2045]</th><th scope=col>2046 [YR2046]</th><th scope=col>2047 [YR2047]</th><th scope=col>2048 [YR2048]</th><th scope=col>2049 [YR2049]</th><th scope=col>2050 [YR2050]</th></tr>\n",
       "\t<tr><th scope=col>&lt;chr&gt;</th><th scope=col>&lt;chr&gt;</th><th scope=col>&lt;chr&gt;</th><th scope=col>&lt;chr&gt;</th><th scope=col>&lt;dbl&gt;</th><th scope=col>&lt;dbl&gt;</th><th scope=col>&lt;dbl&gt;</th><th scope=col>&lt;dbl&gt;</th><th scope=col>&lt;dbl&gt;</th><th scope=col>&lt;dbl&gt;</th><th scope=col>...</th><th scope=col>&lt;dbl&gt;</th><th scope=col>&lt;dbl&gt;</th><th scope=col>&lt;dbl&gt;</th><th scope=col>&lt;dbl&gt;</th><th scope=col>&lt;dbl&gt;</th><th scope=col>&lt;dbl&gt;</th><th scope=col>&lt;dbl&gt;</th><th scope=col>&lt;dbl&gt;</th><th scope=col>&lt;dbl&gt;</th><th scope=col>&lt;dbl&gt;</th></tr>\n",
       "</thead>\n",
       "<tbody>\n",
       "\t<tr><td>Afghanistan</td><td>AFG</td><td>Age dependency ratio (% of working-age population)</td><td>SP.POP.DPND      </td><td>8.171774e+01</td><td>8.275591e+01</td><td>8.330457e+01</td><td>8.355074e+01</td><td>8.373445e+01</td><td>8.396216e+01</td><td>...</td><td>49.057098</td><td>48.405124</td><td>47.772482</td><td>47.153619</td><td>4.654737e+01</td><td>46.014974</td><td>45.488733</td><td>44.972113</td><td>44.471497</td><td>4.399248e+01</td></tr>\n",
       "\t<tr><td>Afghanistan</td><td>AFG</td><td>Age dependency ratio, old                         </td><td>SP.POP.DPND.OL   </td><td>5.086262e+00</td><td>5.132609e+00</td><td>5.139524e+00</td><td>5.111895e+00</td><td>5.056182e+00</td><td>4.976304e+00</td><td>...</td><td> 6.254638</td><td> 6.431854</td><td> 6.615935</td><td> 6.808329</td><td>7.010657e+00</td><td> 7.235972</td><td> 7.465706</td><td> 7.699483</td><td> 7.935899</td><td>8.175734e+00</td></tr>\n",
       "\t<tr><td>Afghanistan</td><td>AFG</td><td>Age dependency ratio, young                       </td><td>SP.POP.DPND.YG   </td><td>7.663148e+01</td><td>7.762330e+01</td><td>7.816505e+01</td><td>7.843884e+01</td><td>7.867827e+01</td><td>7.898586e+01</td><td>...</td><td>42.802460</td><td>41.973270</td><td>41.156547</td><td>40.345290</td><td>3.953671e+01</td><td>38.779002</td><td>38.023028</td><td>37.272630</td><td>36.535598</td><td>3.581675e+01</td></tr>\n",
       "\t<tr><td>Afghanistan</td><td>AFG</td><td>Age population, age 0, female, interpolated       </td><td>SP.POP.AG00.FE.IN</td><td>1.785560e+05</td><td>1.826740e+05</td><td>1.854340e+05</td><td>1.875130e+05</td><td>1.899450e+05</td><td>1.935530e+05</td><td>...</td><td>       NA</td><td>       NA</td><td>       NA</td><td>       NA</td><td>4.520000e+05</td><td>       NA</td><td>       NA</td><td>       NA</td><td>       NA</td><td>4.300000e+05</td></tr>\n",
       "\t<tr><td>Afghanistan</td><td>AFG</td><td>Age population, age 0, male, interpolated         </td><td>SP.POP.AG00.MA.IN</td><td>1.776350e+05</td><td>1.815880e+05</td><td>1.858520e+05</td><td>1.904620e+05</td><td>1.954980e+05</td><td>2.010140e+05</td><td>...</td><td>       NA</td><td>       NA</td><td>       NA</td><td>       NA</td><td>4.760000e+05</td><td>       NA</td><td>       NA</td><td>       NA</td><td>       NA</td><td>4.520000e+05</td></tr>\n",
       "\t<tr><td>Afghanistan</td><td>AFG</td><td>Age population, age 01, female, interpolated      </td><td>SP.POP.AG01.FE.IN</td><td>1.623200e+05</td><td>1.714910e+05</td><td>1.699620e+05</td><td>1.738000e+05</td><td>1.779260e+05</td><td>1.825620e+05</td><td>...</td><td>       NA</td><td>       NA</td><td>       NA</td><td>       NA</td><td>4.540000e+05</td><td>       NA</td><td>       NA</td><td>       NA</td><td>       NA</td><td>4.320000e+05</td></tr>\n",
       "</tbody>\n",
       "</table>\n"
      ],
      "text/latex": [
       "A tibble: 6 × 95\n",
       "\\begin{tabular}{lllllllllllllllllllll}\n",
       " Country Name & Country Code & Series Name & Series Code & 1960 {[}YR1960{]} & 1961 {[}YR1961{]} & 1962 {[}YR1962{]} & 1963 {[}YR1963{]} & 1964 {[}YR1964{]} & 1965 {[}YR1965{]} & ... & 2041 {[}YR2041{]} & 2042 {[}YR2042{]} & 2043 {[}YR2043{]} & 2044 {[}YR2044{]} & 2045 {[}YR2045{]} & 2046 {[}YR2046{]} & 2047 {[}YR2047{]} & 2048 {[}YR2048{]} & 2049 {[}YR2049{]} & 2050 {[}YR2050{]}\\\\\n",
       " <chr> & <chr> & <chr> & <chr> & <dbl> & <dbl> & <dbl> & <dbl> & <dbl> & <dbl> & ... & <dbl> & <dbl> & <dbl> & <dbl> & <dbl> & <dbl> & <dbl> & <dbl> & <dbl> & <dbl>\\\\\n",
       "\\hline\n",
       "\t Afghanistan & AFG & Age dependency ratio (\\% of working-age population) & SP.POP.DPND       & 8.171774e+01 & 8.275591e+01 & 8.330457e+01 & 8.355074e+01 & 8.373445e+01 & 8.396216e+01 & ... & 49.057098 & 48.405124 & 47.772482 & 47.153619 & 4.654737e+01 & 46.014974 & 45.488733 & 44.972113 & 44.471497 & 4.399248e+01\\\\\n",
       "\t Afghanistan & AFG & Age dependency ratio, old                          & SP.POP.DPND.OL    & 5.086262e+00 & 5.132609e+00 & 5.139524e+00 & 5.111895e+00 & 5.056182e+00 & 4.976304e+00 & ... &  6.254638 &  6.431854 &  6.615935 &  6.808329 & 7.010657e+00 &  7.235972 &  7.465706 &  7.699483 &  7.935899 & 8.175734e+00\\\\\n",
       "\t Afghanistan & AFG & Age dependency ratio, young                        & SP.POP.DPND.YG    & 7.663148e+01 & 7.762330e+01 & 7.816505e+01 & 7.843884e+01 & 7.867827e+01 & 7.898586e+01 & ... & 42.802460 & 41.973270 & 41.156547 & 40.345290 & 3.953671e+01 & 38.779002 & 38.023028 & 37.272630 & 36.535598 & 3.581675e+01\\\\\n",
       "\t Afghanistan & AFG & Age population, age 0, female, interpolated        & SP.POP.AG00.FE.IN & 1.785560e+05 & 1.826740e+05 & 1.854340e+05 & 1.875130e+05 & 1.899450e+05 & 1.935530e+05 & ... &        NA &        NA &        NA &        NA & 4.520000e+05 &        NA &        NA &        NA &        NA & 4.300000e+05\\\\\n",
       "\t Afghanistan & AFG & Age population, age 0, male, interpolated          & SP.POP.AG00.MA.IN & 1.776350e+05 & 1.815880e+05 & 1.858520e+05 & 1.904620e+05 & 1.954980e+05 & 2.010140e+05 & ... &        NA &        NA &        NA &        NA & 4.760000e+05 &        NA &        NA &        NA &        NA & 4.520000e+05\\\\\n",
       "\t Afghanistan & AFG & Age population, age 01, female, interpolated       & SP.POP.AG01.FE.IN & 1.623200e+05 & 1.714910e+05 & 1.699620e+05 & 1.738000e+05 & 1.779260e+05 & 1.825620e+05 & ... &        NA &        NA &        NA &        NA & 4.540000e+05 &        NA &        NA &        NA &        NA & 4.320000e+05\\\\\n",
       "\\end{tabular}\n"
      ],
      "text/markdown": [
       "\n",
       "A tibble: 6 × 95\n",
       "\n",
       "| Country Name &lt;chr&gt; | Country Code &lt;chr&gt; | Series Name &lt;chr&gt; | Series Code &lt;chr&gt; | 1960 [YR1960] &lt;dbl&gt; | 1961 [YR1961] &lt;dbl&gt; | 1962 [YR1962] &lt;dbl&gt; | 1963 [YR1963] &lt;dbl&gt; | 1964 [YR1964] &lt;dbl&gt; | 1965 [YR1965] &lt;dbl&gt; | ... ... | 2041 [YR2041] &lt;dbl&gt; | 2042 [YR2042] &lt;dbl&gt; | 2043 [YR2043] &lt;dbl&gt; | 2044 [YR2044] &lt;dbl&gt; | 2045 [YR2045] &lt;dbl&gt; | 2046 [YR2046] &lt;dbl&gt; | 2047 [YR2047] &lt;dbl&gt; | 2048 [YR2048] &lt;dbl&gt; | 2049 [YR2049] &lt;dbl&gt; | 2050 [YR2050] &lt;dbl&gt; |\n",
       "|---|---|---|---|---|---|---|---|---|---|---|---|---|---|---|---|---|---|---|---|---|\n",
       "| Afghanistan | AFG | Age dependency ratio (% of working-age population) | SP.POP.DPND       | 8.171774e+01 | 8.275591e+01 | 8.330457e+01 | 8.355074e+01 | 8.373445e+01 | 8.396216e+01 | ... | 49.057098 | 48.405124 | 47.772482 | 47.153619 | 4.654737e+01 | 46.014974 | 45.488733 | 44.972113 | 44.471497 | 4.399248e+01 |\n",
       "| Afghanistan | AFG | Age dependency ratio, old                          | SP.POP.DPND.OL    | 5.086262e+00 | 5.132609e+00 | 5.139524e+00 | 5.111895e+00 | 5.056182e+00 | 4.976304e+00 | ... |  6.254638 |  6.431854 |  6.615935 |  6.808329 | 7.010657e+00 |  7.235972 |  7.465706 |  7.699483 |  7.935899 | 8.175734e+00 |\n",
       "| Afghanistan | AFG | Age dependency ratio, young                        | SP.POP.DPND.YG    | 7.663148e+01 | 7.762330e+01 | 7.816505e+01 | 7.843884e+01 | 7.867827e+01 | 7.898586e+01 | ... | 42.802460 | 41.973270 | 41.156547 | 40.345290 | 3.953671e+01 | 38.779002 | 38.023028 | 37.272630 | 36.535598 | 3.581675e+01 |\n",
       "| Afghanistan | AFG | Age population, age 0, female, interpolated        | SP.POP.AG00.FE.IN | 1.785560e+05 | 1.826740e+05 | 1.854340e+05 | 1.875130e+05 | 1.899450e+05 | 1.935530e+05 | ... |        NA |        NA |        NA |        NA | 4.520000e+05 |        NA |        NA |        NA |        NA | 4.300000e+05 |\n",
       "| Afghanistan | AFG | Age population, age 0, male, interpolated          | SP.POP.AG00.MA.IN | 1.776350e+05 | 1.815880e+05 | 1.858520e+05 | 1.904620e+05 | 1.954980e+05 | 2.010140e+05 | ... |        NA |        NA |        NA |        NA | 4.760000e+05 |        NA |        NA |        NA |        NA | 4.520000e+05 |\n",
       "| Afghanistan | AFG | Age population, age 01, female, interpolated       | SP.POP.AG01.FE.IN | 1.623200e+05 | 1.714910e+05 | 1.699620e+05 | 1.738000e+05 | 1.779260e+05 | 1.825620e+05 | ... |        NA |        NA |        NA |        NA | 4.540000e+05 |        NA |        NA |        NA |        NA | 4.320000e+05 |\n",
       "\n"
      ],
      "text/plain": [
       "  Country Name Country Code Series Name                                       \n",
       "1 Afghanistan  AFG          Age dependency ratio (% of working-age population)\n",
       "2 Afghanistan  AFG          Age dependency ratio, old                         \n",
       "3 Afghanistan  AFG          Age dependency ratio, young                       \n",
       "4 Afghanistan  AFG          Age population, age 0, female, interpolated       \n",
       "5 Afghanistan  AFG          Age population, age 0, male, interpolated         \n",
       "6 Afghanistan  AFG          Age population, age 01, female, interpolated      \n",
       "  Series Code       1960 [YR1960] 1961 [YR1961] 1962 [YR1962] 1963 [YR1963]\n",
       "1 SP.POP.DPND       8.171774e+01  8.275591e+01  8.330457e+01  8.355074e+01 \n",
       "2 SP.POP.DPND.OL    5.086262e+00  5.132609e+00  5.139524e+00  5.111895e+00 \n",
       "3 SP.POP.DPND.YG    7.663148e+01  7.762330e+01  7.816505e+01  7.843884e+01 \n",
       "4 SP.POP.AG00.FE.IN 1.785560e+05  1.826740e+05  1.854340e+05  1.875130e+05 \n",
       "5 SP.POP.AG00.MA.IN 1.776350e+05  1.815880e+05  1.858520e+05  1.904620e+05 \n",
       "6 SP.POP.AG01.FE.IN 1.623200e+05  1.714910e+05  1.699620e+05  1.738000e+05 \n",
       "  1964 [YR1964] 1965 [YR1965] ... 2041 [YR2041] 2042 [YR2042] 2043 [YR2043]\n",
       "1 8.373445e+01  8.396216e+01  ... 49.057098     48.405124     47.772482    \n",
       "2 5.056182e+00  4.976304e+00  ...  6.254638      6.431854      6.615935    \n",
       "3 7.867827e+01  7.898586e+01  ... 42.802460     41.973270     41.156547    \n",
       "4 1.899450e+05  1.935530e+05  ...        NA            NA            NA    \n",
       "5 1.954980e+05  2.010140e+05  ...        NA            NA            NA    \n",
       "6 1.779260e+05  1.825620e+05  ...        NA            NA            NA    \n",
       "  2044 [YR2044] 2045 [YR2045] 2046 [YR2046] 2047 [YR2047] 2048 [YR2048]\n",
       "1 47.153619     4.654737e+01  46.014974     45.488733     44.972113    \n",
       "2  6.808329     7.010657e+00   7.235972      7.465706      7.699483    \n",
       "3 40.345290     3.953671e+01  38.779002     38.023028     37.272630    \n",
       "4        NA     4.520000e+05         NA            NA            NA    \n",
       "5        NA     4.760000e+05         NA            NA            NA    \n",
       "6        NA     4.540000e+05         NA            NA            NA    \n",
       "  2049 [YR2049] 2050 [YR2050]\n",
       "1 44.471497     4.399248e+01 \n",
       "2  7.935899     8.175734e+00 \n",
       "3 36.535598     3.581675e+01 \n",
       "4        NA     4.300000e+05 \n",
       "5        NA     4.520000e+05 \n",
       "6        NA     4.320000e+05 "
      ]
     },
     "metadata": {},
     "output_type": "display_data"
    }
   ],
   "source": [
    "estim = read_excel(\"converted/estim.xlsx\")\n",
    "head(estim)"
   ]
  },
  {
   "cell_type": "code",
   "execution_count": 4,
   "metadata": {},
   "outputs": [
    {
     "name": "stdout",
     "output_type": "stream",
     "text": [
      "[1] \"Le fichier estim.xlsx posséde 95 * 44807 lignes\"\n"
     ]
    }
   ],
   "source": [
    "print(sprintf(\"Le fichier estim.xlsx posséde %d * %d lignes\", ncol(estim), nrow(estim)))"
   ]
  },
  {
   "cell_type": "markdown",
   "metadata": {},
   "source": [
    "### Transformation, pré-traitement\n",
    "\n",
    "La base de données est très fourni (43 Mo au format csv, 29 Mo au format xlsx pour 95 colonnes * 44807 lignes), mais seul certaines informations nous intéressent.\n",
    "Nous allons ne garde que les lignes concernant l'Union Européenne et le monde, et parmi ces lignes nous allons garder ne que la population totale (réduit à l'échelle du million), la croissance et l'espérance."
   ]
  },
  {
   "cell_type": "code",
   "execution_count": 5,
   "metadata": {},
   "outputs": [],
   "source": [
    "years_mask = c(5:95)\n",
    "seuil = 1e6\n",
    "x = as.numeric(lapply(colnames(estim)[years_mask], function(x){ substr(x, 1, 4) }))\n",
    "\n",
    "y = estim[estim$'Country Name' == 'European Union',]\n",
    "y1_1 = as.numeric(y[y$'Series Code' == 'SP.POP.TOTL', years_mask]) / seuil\n",
    "y1_2 = as.numeric(y[y$'Series Code' == 'SP.POP.GROW', years_mask])\n",
    "y1_3 = as.numeric(y[y$'Series Code' == 'SP.DYN.LE00.IN', years_mask])\n",
    "y1_4 = as.numeric(y[y$'Series Code' == 'SP.POP.65UP.TO.ZS', years_mask])\n",
    "y = estim[estim$'Country Name' == 'World',]\n",
    "y2_1 = as.numeric(y[y$'Series Code' == 'SP.POP.TOTL', years_mask]) / seuil\n",
    "y2_2 = as.numeric(y[y$'Series Code' == 'SP.POP.GROW', years_mask])\n",
    "y2_3 = as.numeric(y[y$'Series Code' == 'SP.DYN.LE00.IN', years_mask])\n",
    "\n",
    "df = data.frame(x, y1_1, y1_2, y1_3, y1_4, y2_1, y2_2, y2_3)\n",
    "colnames(df) = c(\"Annee\", \"Population_euro\", \"Croissance_euro\",\n",
    "                 \"Esperance_euro\", \"Senior\", \"Population_mondiale\",\n",
    "                 \"Croissance_mondiale\", \"Esperance_mondiale\")"
   ]
  },
  {
   "cell_type": "markdown",
   "metadata": {},
   "source": [
    "#### Preview de la dataframe"
   ]
  },
  {
   "cell_type": "code",
   "execution_count": 6,
   "metadata": {},
   "outputs": [
    {
     "data": {
      "text/html": [
       "<table>\n",
       "<caption>A data.frame: 6 × 8</caption>\n",
       "<thead>\n",
       "\t<tr><th></th><th scope=col>Annee</th><th scope=col>Population_euro</th><th scope=col>Croissance_euro</th><th scope=col>Esperance_euro</th><th scope=col>Senior</th><th scope=col>Population_mondiale</th><th scope=col>Croissance_mondiale</th><th scope=col>Esperance_mondiale</th></tr>\n",
       "\t<tr><th></th><th scope=col>&lt;dbl&gt;</th><th scope=col>&lt;dbl&gt;</th><th scope=col>&lt;dbl&gt;</th><th scope=col>&lt;dbl&gt;</th><th scope=col>&lt;dbl&gt;</th><th scope=col>&lt;dbl&gt;</th><th scope=col>&lt;dbl&gt;</th><th scope=col>&lt;dbl&gt;</th></tr>\n",
       "</thead>\n",
       "<tbody>\n",
       "\t<tr><th scope=row>1</th><td>1960</td><td>409.4985</td><td>       NA</td><td>69.27954</td><td> 9.834965</td><td>3034.193</td><td>      NA</td><td>52.47476</td></tr>\n",
       "\t<tr><th scope=row>2</th><td>1961</td><td>413.0070</td><td>0.8567903</td><td>69.58937</td><td> 9.978808</td><td>3075.115</td><td>1.348696</td><td>52.98085</td></tr>\n",
       "\t<tr><th scope=row>3</th><td>1962</td><td>416.6706</td><td>0.8870627</td><td>69.51457</td><td>10.126404</td><td>3127.961</td><td>1.718509</td><td>53.40420</td></tr>\n",
       "\t<tr><th scope=row>4</th><td>1963</td><td>420.3933</td><td>0.8934289</td><td>69.75930</td><td>10.277910</td><td>3192.794</td><td>2.072689</td><td>53.93546</td></tr>\n",
       "\t<tr><th scope=row>5</th><td>1964</td><td>424.0759</td><td>0.8759809</td><td>70.22604</td><td>10.433138</td><td>3258.201</td><td>2.048585</td><td>54.61296</td></tr>\n",
       "\t<tr><th scope=row>6</th><td>1965</td><td>427.5926</td><td>0.8292731</td><td>70.33690</td><td>10.596198</td><td>3324.952</td><td>2.048681</td><td>55.28044</td></tr>\n",
       "</tbody>\n",
       "</table>\n"
      ],
      "text/latex": [
       "A data.frame: 6 × 8\n",
       "\\begin{tabular}{r|llllllll}\n",
       "  & Annee & Population\\_euro & Croissance\\_euro & Esperance\\_euro & Senior & Population\\_mondiale & Croissance\\_mondiale & Esperance\\_mondiale\\\\\n",
       "  & <dbl> & <dbl> & <dbl> & <dbl> & <dbl> & <dbl> & <dbl> & <dbl>\\\\\n",
       "\\hline\n",
       "\t1 & 1960 & 409.4985 &        NA & 69.27954 &  9.834965 & 3034.193 &       NA & 52.47476\\\\\n",
       "\t2 & 1961 & 413.0070 & 0.8567903 & 69.58937 &  9.978808 & 3075.115 & 1.348696 & 52.98085\\\\\n",
       "\t3 & 1962 & 416.6706 & 0.8870627 & 69.51457 & 10.126404 & 3127.961 & 1.718509 & 53.40420\\\\\n",
       "\t4 & 1963 & 420.3933 & 0.8934289 & 69.75930 & 10.277910 & 3192.794 & 2.072689 & 53.93546\\\\\n",
       "\t5 & 1964 & 424.0759 & 0.8759809 & 70.22604 & 10.433138 & 3258.201 & 2.048585 & 54.61296\\\\\n",
       "\t6 & 1965 & 427.5926 & 0.8292731 & 70.33690 & 10.596198 & 3324.952 & 2.048681 & 55.28044\\\\\n",
       "\\end{tabular}\n"
      ],
      "text/markdown": [
       "\n",
       "A data.frame: 6 × 8\n",
       "\n",
       "| <!--/--> | Annee &lt;dbl&gt; | Population_euro &lt;dbl&gt; | Croissance_euro &lt;dbl&gt; | Esperance_euro &lt;dbl&gt; | Senior &lt;dbl&gt; | Population_mondiale &lt;dbl&gt; | Croissance_mondiale &lt;dbl&gt; | Esperance_mondiale &lt;dbl&gt; |\n",
       "|---|---|---|---|---|---|---|---|---|\n",
       "| 1 | 1960 | 409.4985 |        NA | 69.27954 |  9.834965 | 3034.193 |       NA | 52.47476 |\n",
       "| 2 | 1961 | 413.0070 | 0.8567903 | 69.58937 |  9.978808 | 3075.115 | 1.348696 | 52.98085 |\n",
       "| 3 | 1962 | 416.6706 | 0.8870627 | 69.51457 | 10.126404 | 3127.961 | 1.718509 | 53.40420 |\n",
       "| 4 | 1963 | 420.3933 | 0.8934289 | 69.75930 | 10.277910 | 3192.794 | 2.072689 | 53.93546 |\n",
       "| 5 | 1964 | 424.0759 | 0.8759809 | 70.22604 | 10.433138 | 3258.201 | 2.048585 | 54.61296 |\n",
       "| 6 | 1965 | 427.5926 | 0.8292731 | 70.33690 | 10.596198 | 3324.952 | 2.048681 | 55.28044 |\n",
       "\n"
      ],
      "text/plain": [
       "  Annee Population_euro Croissance_euro Esperance_euro Senior   \n",
       "1 1960  409.4985               NA       69.27954        9.834965\n",
       "2 1961  413.0070        0.8567903       69.58937        9.978808\n",
       "3 1962  416.6706        0.8870627       69.51457       10.126404\n",
       "4 1963  420.3933        0.8934289       69.75930       10.277910\n",
       "5 1964  424.0759        0.8759809       70.22604       10.433138\n",
       "6 1965  427.5926        0.8292731       70.33690       10.596198\n",
       "  Population_mondiale Croissance_mondiale Esperance_mondiale\n",
       "1 3034.193                  NA            52.47476          \n",
       "2 3075.115            1.348696            52.98085          \n",
       "3 3127.961            1.718509            53.40420          \n",
       "4 3192.794            2.072689            53.93546          \n",
       "5 3258.201            2.048585            54.61296          \n",
       "6 3324.952            2.048681            55.28044          "
      ]
     },
     "metadata": {},
     "output_type": "display_data"
    }
   ],
   "source": [
    "head(df)"
   ]
  },
  {
   "cell_type": "markdown",
   "metadata": {},
   "source": [
    "### Exemple de graphiques"
   ]
  },
  {
   "cell_type": "code",
   "execution_count": 7,
   "metadata": {},
   "outputs": [
    {
     "data": {
      "image/png": "[encoded data removed]",
      "text/plain": [
       "plot without title"
      ]
     },
     "metadata": {
      "image/png": {
       "height": 420,
       "width": 420
      }
     },
     "output_type": "display_data"
    }
   ],
   "source": [
    "p1 = ggplot(df, aes(x = Annee)) +\n",
    "geom_vline(aes(xintercept = 2019, colour = \"0\"), linetype = \"dashed\", size = 0.7) +\n",
    "geom_line(aes(y = Population_mondiale, colour = \"1\"), size = 1, na.rm = TRUE) +\n",
    "geom_line(aes(y = Population_euro, colour = \"2\"), size = 1, na.rm = TRUE) +\n",
    "ylab(\"Population (en millions)\") +\n",
    "ggtitle(\"Évolution de la population\") +\n",
    "scale_colour_manual(name = \"Type\", values = c(\"grey\", \"red\", \"green\"), labels = c(\"2019\", \"Mondiale\", \"Européenne\")) + \n",
    "theme_bw()\n",
    "\n",
    "p2 = ggplot(df, aes(x = Annee)) +\n",
    "geom_vline(aes(xintercept = 2019, colour = \"0\"), linetype = \"dashed\", size = 0.7) +\n",
    "geom_line(aes(y = Croissance_mondiale, colour = \"1\"), size = 1, na.rm = TRUE) +\n",
    "geom_line(aes(y = Croissance_euro, colour = \"2\"), size = 1, na.rm = TRUE) +\n",
    "ylab(\"Croissance (en %)\") +\n",
    "ggtitle(\"Évolution de la croissance\") +\n",
    "scale_colour_manual(name = \"Type\", values = c(\"grey\", \"red\", \"green\"), labels = c(\"2019\", \"Mondiale\", \"Européenne\")) + \n",
    "theme_bw()\n",
    "\n",
    "p3 = ggplot(df, aes(x = Annee)) +\n",
    "geom_vline(aes(xintercept = 2019, colour = \"0\"), linetype = \"dashed\", size = 0.7) +\n",
    "geom_line(aes(y = Esperance_mondiale, colour = \"1\"), size = 1, na.rm = TRUE) +\n",
    "geom_line(aes(y = Esperance_euro, colour = \"2\"), size = 1, na.rm = TRUE) +\n",
    "ylab(\"Espérance (en année)\") +\n",
    "ggtitle(\"Évolution de la espérance\") +\n",
    "scale_colour_manual(name = \"Type\", values = c(\"grey\", \"red\", \"green\"), labels = c(\"2019\", \"Mondiale\", \"Européenne\")) + \n",
    "theme_bw()\n",
    "\n",
    "grid.arrange(p1, arrangeGrob(p2, p3, ncol = 2))"
   ]
  },
  {
   "cell_type": "markdown",
   "metadata": {},
   "source": [
    "## Corrélation positive entre la population mondiale et l'année (Hypothèse 1)\n",
    "\n",
    "Nous voyons visuellement que l'évolution de la population mondiale est linéaire et croissante.\n",
    "Pour prouver cela, nous allons l'approcher par une régeression linéaire d'une fonction affine de type $\\hat{Y} = ax + b$ et évaluer son coefficient de détermination. S'il est suffisamment proche de 1, nous ne pouvons pas rejeter cette hypothèse.\n",
    "\n",
    "Nous allons donc placer une ligne aux coefficients $a$ et $b$ de telle sorte à que $\\hat{Y}$ soit suffisamment proche de la data $Y$ (i.e. $\\epsilon_i$ est suffisament bas).\n",
    "\n",
    "$\\large{y_i = b + a x_i + \\epsilon_i}$\n",
    "\n",
    "Nous mesurerons l'écart entre les deux droites avec l'erreur quadratique moyenne (ou Mean Squared Error MSE).\n",
    "\n",
    "$\\large{\n",
    "\\epsilon_i = y_i-ax_i+b \\hspace{1cm}\n",
    "J(a,b) = \\frac{1}{m}\\sum\\limits_{i=1}^m\\epsilon_i^2\n",
    "}$\n",
    "\n",
    "Pour nous faciliter la vie, nous allons écrire le tout avec des vecteurs.\n",
    "\n",
    "Nos prédictions seront alors dans un vecteur $\\hat{Y} = X.\\theta$\n",
    "\n",
    "$\\large{\n",
    "\\theta = \\begin{bmatrix}b\\\\a\\end{bmatrix} \\hspace{1cm}\n",
    "Y = \\begin{bmatrix} y_1\\\\ y_2 \\\\ ... \\\\ y_m \\end{bmatrix} \\hspace{1cm}\n",
    "X = \\begin{bmatrix} 1&x_1 \\\\ 1&x_2 \\\\ ...&... \\\\ 1&x_m \\end{bmatrix} \\hspace{1cm}\n",
    "}$\n",
    "\n",
    "$\\large{\\epsilon = y_i - (\\theta_0 + \\theta_1 x_i) = Y-X.\\theta} = Y - \\hat{Y}$\n",
    "\n",
    "$\\large{J(\\theta) = \\frac{1}{m}\\sum\\limits_{i=1}^m\\epsilon^2}$\n",
    "\n",
    "Pour pouvoir faire un régréssion linéaire la plus adéquate possible, on cherche à minimiser cet erreur $J(\\theta)$, la fonction étant convexe nous cherchons alors à résoudre\n",
    "\n",
    "$\\large{ \\frac{\\partial J(\\theta)}{\\partial\\theta} = 0}$\n",
    "\n",
    "Pas à pas cela nous donne d'abord $\\theta_0$\n",
    "\n",
    "$\\large{\\frac{\\partial J(\\theta)}{\\partial\\theta_0} = \\frac{\\partial J(\\theta)}{\\partial\\epsilon} \\cdot \\frac{\\partial\\epsilon}{\\partial\\theta_0} = \\sum\\limits_{i=1}^m(Y_i-\\theta_0-\\theta_1X_i)^2}$\n",
    "\n",
    "$\\large{0 = \\sum\\limits_{i=1}^m 2(Y_i-\\theta_0-\\theta_1X_i) * 1}$\n",
    "\n",
    "$\\large{0 = 2\\sum\\limits_{i=1}^m(Y_i-\\theta_0-\\theta_1X_i)}$\n",
    "\n",
    "$\\large{0 = \\sum\\limits_{i=1}^m(Y_i-\\theta_0-\\theta_1X_i)}$\n",
    "\n",
    "$\\large{0 = \\sum\\limits_{i=1}^mY_i -m\\theta_0-\\theta_1\\sum\\limits_{i=1}^mX_i}$\n",
    "\n",
    "$\\large{m\\theta_0 = \\sum\\limits_{i=1}^mY_i -\\theta_1\\sum\\limits_{i=1}^mX_i}$\n",
    "\n",
    "$\\large{\\large{\\theta_0 = \\bar{Y} -\\theta_1 \\bar{X}}}$\n",
    "\n",
    "Ensuite pour $\\theta_1$\n",
    "\n",
    "$\\large{\\frac{\\partial J(\\theta)}{\\partial\\theta_1} = \\sum\\limits_{i=1}^m(Y_i-\\theta_0+\\theta_1X_i)^2}$\n",
    "\n",
    "$\\large{0 = \\sum\\limits_{i=1}^m -2(Y_i-\\theta_0-\\theta_1X_i)X_i}$\n",
    "\n",
    "$\\large{0 = -2\\sum\\limits_{i=1}^m (Y_i-\\theta_0-\\theta_1X_i)X_i}$\n",
    "\n",
    "$\\large{0 = \\sum\\limits_{i=1}^m (Y_i-\\theta_0-\\theta_1X_i)X_i}$\n",
    "\n",
    "$\\large{0 = \\sum\\limits_{i=1}^m (X_iY_i-\\theta_0 X-\\theta_1X_i^2)}$\n",
    "\n",
    "$\\large{0 = \\sum\\limits_{i=1}^m (X_iY_i) - \\theta_0\\sum\\limits_{i_1}^m X_i - \\theta_1\\sum\\limits_{i=1}^m X_i^2}$\n",
    "\n",
    "$\\large{0 = \\overline{XY} - \\theta_0\\bar{X} - \\theta_1\\bar{X^2}}$\n",
    "\n",
    "$\\large{-\\overline{XY} = -\\theta_0\\bar{X} - \\theta_1\\bar{X^2}}$\n",
    "\n",
    "$\\large{\\overline{XY} = \\theta_0\\bar{X} + \\theta_1\\bar{X^2}}$\n",
    "\n",
    "Avec le résultat $\\theta_0$ obtenu précédement\n",
    "\n",
    "$\\large{\\overline{XY} = (\\bar{Y} - \\theta_1\\bar{X})\\bar{X} + \\theta_1\\bar{X^2}}$\n",
    "\n",
    "$\\large{\\overline{XY} = \\bar{Y}\\bar{X} - \\theta_1\\bar{X}^2 + \\theta_1\\bar{X^2}}$\n",
    "\n",
    "$\\large{\\overline{XY} - \\bar{Y}\\bar{X} = - \\theta_1\\bar{X}^2 + \\theta_1\\bar{X^2}}$\n",
    "\n",
    "$\\large{\\overline{XY} - \\bar{Y}\\bar{X} = \\theta_1\\bar{X^2} - \\theta_1\\bar{X}^2}$\n",
    "\n",
    "$\\large{\\overline{XY} - \\bar{Y}\\bar{X} = \\theta_1(\\bar{X^2} - \\bar{X}^2)}$\n",
    "\n",
    "$\\large{\\theta_1 = \\frac{\\overline{XY} - \\bar{Y}\\bar{X}}{\\bar{X^2} - \\bar{X}^2}}$\n",
    "\n",
    "Chaque échantillion étant indépendant $E(X) = \\frac{1}{m}\\sum\\limits_{i=1}^m X_i$\n",
    "\n",
    "$\\large{\\theta_1 = \\frac{\n",
    "E(X,Y) - E(X)E(Y)\n",
    "}{\n",
    "(\\frac{1}{m}\\sum\\limits_{i=1}^m X_i^2) - \\bar{X}^2\n",
    "}}$\n",
    "\n",
    "$\\large{\\theta_1 = \\frac{Cov(X,Y)}{\\sigma_x^2}}$\n",
    "\n",
    "### Maintenant que cela est dit, passons au code\n",
    "\n",
    "$\\large{\\bar{X} = \\frac{1}{n}\\sum\\limits_{i=1}^n x_i}$"
   ]
  },
  {
   "cell_type": "code",
   "execution_count": 8,
   "metadata": {},
   "outputs": [
    {
     "name": "stdout",
     "output_type": "stream",
     "text": [
      "[1] \"x_bar = 2005\"\n"
     ]
    }
   ],
   "source": [
    "x_bar = mean(df$Annee)\n",
    "print(paste(\"x_bar =\", x_bar))"
   ]
  },
  {
   "cell_type": "markdown",
   "metadata": {},
   "source": [
    "$\\large{\\bar{Y} = \\frac{1}{n}\\sum\\limits_{i=1}^n y_i}$"
   ]
  },
  {
   "cell_type": "code",
   "execution_count": 9,
   "metadata": {},
   "outputs": [
    {
     "name": "stdout",
     "output_type": "stream",
     "text": [
      "[1] \"y_bar = 6473.45632771129\"\n"
     ]
    }
   ],
   "source": [
    "y_bar = mean(df$Population_mondiale)\n",
    "print(paste(\"y_bar =\", y_bar))"
   ]
  },
  {
   "cell_type": "markdown",
   "metadata": {},
   "source": [
    "$\\large{\\theta_1 = \\frac{Cov(X,Y)}{\\sigma_x^2} = 78.244}$"
   ]
  },
  {
   "cell_type": "code",
   "execution_count": 10,
   "metadata": {},
   "outputs": [
    {
     "name": "stdout",
     "output_type": "stream",
     "text": [
      "[1] \"theta_1 = 78.2438930928207\"\n"
     ]
    }
   ],
   "source": [
    "theta_1 = cov(df$Annee, df$Population_mondiale) / var(df$Annee)\n",
    "print(paste(\"theta_1 =\", theta_1))"
   ]
  },
  {
   "cell_type": "markdown",
   "metadata": {},
   "source": [
    "$\\large{\\theta_0 = \\bar{Y} - \\theta_1 \\bar{X} = -150405.549}$"
   ]
  },
  {
   "cell_type": "code",
   "execution_count": 11,
   "metadata": {},
   "outputs": [
    {
     "name": "stdout",
     "output_type": "stream",
     "text": [
      "[1] \"theta_0 = -150405.549323394\"\n"
     ]
    }
   ],
   "source": [
    "theta_0 = y_bar - theta_1 * x_bar\n",
    "print(paste(\"theta_0 =\", theta_0))"
   ]
  },
  {
   "cell_type": "markdown",
   "metadata": {},
   "source": [
    "$\\large{\\hat{Y} = \\hat{f}(x) = \\theta_0 + \\theta_1 x}$"
   ]
  },
  {
   "cell_type": "code",
   "execution_count": 12,
   "metadata": {},
   "outputs": [],
   "source": [
    "df$Prediction = theta_0 + theta_1 * df$Annee"
   ]
  },
  {
   "cell_type": "markdown",
   "metadata": {},
   "source": [
    "### Visualisation de la prédiction"
   ]
  },
  {
   "cell_type": "code",
   "execution_count": 13,
   "metadata": {},
   "outputs": [
    {
     "data": {
      "image/png": "[encoded data removed]",
      "text/plain": [
       "plot without title"
      ]
     },
     "metadata": {
      "image/png": {
       "height": 420,
       "width": 420
      }
     },
     "output_type": "display_data"
    }
   ],
   "source": [
    "ggplot(df, aes(x = Annee)) +\n",
    "geom_point(aes(y = Population_mondiale, colour = \"1\"), size = 1) +\n",
    "geom_vline(aes(xintercept = 2019, colour = \"0\"), linetype = \"dashed\", size = 0.7) +\n",
    "geom_line(aes(y = Prediction, colour = \"2\"), size = 1) +\n",
    "ylab(\"Population (en millions)\") +\n",
    "scale_colour_manual(name = \"Type\", values = c(\"grey\", \"red\", \"blue\"), labels = c(\"2019\", \"Mondiale\", \"Prédiction\")) +\n",
    "theme_bw()"
   ]
  },
  {
   "cell_type": "markdown",
   "metadata": {},
   "source": [
    "### Mesure de l'adéquation du modèle\n",
    "\n",
    "Analyse de la variance\n",
    "\n",
    "Somme total des carrés = Somme des carrés de régréssion + Somme des carrés des erreurs\n",
    "\n",
    "$\\large{SST = SSR + SSE}$\n",
    "\n",
    "$\\large{\\sum\\limits_{i=1}^m(y_i-\\bar{y})^2 = \\sum\\limits_{i=1}^m(\\hat{y}_i-\\bar{y})^2 + \\sum\\limits_{i=1}^m(y_i-\\hat{y}_i)^2}$"
   ]
  },
  {
   "cell_type": "code",
   "execution_count": 14,
   "metadata": {},
   "outputs": [
    {
     "name": "stdout",
     "output_type": "stream",
     "text": [
      "[1] \"y_bar = 6473.45632771129\"\n",
      "[1] \"sst = 385075719.013343\"\n",
      "[1] \"ssr = 384407086.36888\"\n",
      "[1] \"sse = 668632.644463659\"\n"
     ]
    }
   ],
   "source": [
    "y_bar = mean(df$Population_mondiale)\n",
    "print(paste(\"y_bar =\", y_bar))\n",
    "sst = sum((df$Population_mondiale - y_bar)^2)\n",
    "print(paste(\"sst =\", sst))\n",
    "ssr = sum((df$Prediction - y_bar)^2)\n",
    "print(paste(\"ssr =\", ssr))\n",
    "sse = sum((df$Population_mondiale - df$Prediction)^2)\n",
    "print(paste(\"sse =\", sse))"
   ]
  },
  {
   "cell_type": "markdown",
   "metadata": {},
   "source": [
    "Critère relative\n",
    "\n",
    "$R^2$: coefficient de détermination\n",
    "\n",
    "$\\large{R^2 = \\frac{SSR}{SST} = \\frac{\\sum\\limits_{i=1}^m(\\hat{y}_i-\\bar{y})^2}{\\sum\\limits_{i=1}^m(y_i-\\bar{y})^2}}$\n",
    "\n",
    "Ou\n",
    "\n",
    "$\\large{R^2 = 1 - \\frac{SSE}{SST} = 1 - \\frac{\\sum\\limits_{i=1}^m(y_i-\\hat{y}_i)^2}{\\sum\\limits_{i=1}^m(y_i-\\bar{y})^2}}$\n",
    "\n",
    "$0 \\leq R^2 \\leq 1$\n",
    "\n",
    "$R^2 \\approx 1 \\rightarrow$ Le modéle est adéquat.\n",
    "\n",
    "$R^2 \\approx 0 \\rightarrow$ Le modéle est inadéquat."
   ]
  },
  {
   "cell_type": "code",
   "execution_count": 15,
   "metadata": {},
   "outputs": [
    {
     "name": "stdout",
     "output_type": "stream",
     "text": [
      "[1] \"R^2 = 0.998263633328591\"\n"
     ]
    }
   ],
   "source": [
    "print(paste(\"R^2 =\", 1 - sse/sst))"
   ]
  },
  {
   "cell_type": "code",
   "execution_count": 16,
   "metadata": {},
   "outputs": [
    {
     "name": "stdout",
     "output_type": "stream",
     "text": [
      "[1] \"R^2 = 0.998263633328592\"\n"
     ]
    }
   ],
   "source": [
    "print(paste(\"R^2 =\", ssr / sst))"
   ]
  },
  {
   "cell_type": "markdown",
   "metadata": {},
   "source": [
    "__Notre modèle explique 99.83% de la variance de la data__\n",
    "\n",
    "$R$: Coefficient de corrélation\n",
    "\n",
    "$R = \\frac{Cov(X,Y)}{\\sigma_{x}\\sigma_{y}}$\n",
    "\n",
    "$R \\approx -1 \\rightarrow$ corrélation négative\n",
    "\n",
    "$R \\approx 0 \\rightarrow$ aucune corrélation\n",
    "\n",
    "$R \\approx 1 \\rightarrow$ corrélation positive"
   ]
  },
  {
   "cell_type": "code",
   "execution_count": 17,
   "metadata": {},
   "outputs": [
    {
     "name": "stdout",
     "output_type": "stream",
     "text": [
      "[1] \"R = 0.999131439465595\"\n"
     ]
    }
   ],
   "source": [
    "r = cov(df$Annee, df$Population_mondiale) / (sd(df$Annee) * sd(df$Population_mondiale))\n",
    "print(paste(\"R =\", r))"
   ]
  },
  {
   "cell_type": "markdown",
   "metadata": {},
   "source": [
    "__Notre modéle ne nous permet pas de rejeter l'hypothèse $H_0$__\n",
    "\n",
    "#### Unités de mesure de l'adéquation du modèle\n",
    "\n",
    "Moyenne des erreurs absolue (UK: Mean Absolute Error)\n",
    "\n",
    "$\\large{MAE = \\frac{1}{N}\\sum\\limits_{i=1}^N|y_i-\\hat{y}_i|}$"
   ]
  },
  {
   "cell_type": "code",
   "execution_count": 18,
   "metadata": {},
   "outputs": [
    {
     "name": "stdout",
     "output_type": "stream",
     "text": [
      "[1] \"MAE = 69.3300518887301\"\n"
     ]
    }
   ],
   "source": [
    "print(paste(\"MAE =\", mean(abs(df$Population_mondiale - df$Prediction))))"
   ]
  },
  {
   "cell_type": "markdown",
   "metadata": {},
   "source": [
    "Moyenne des racines des erreurs (UK: Mean Squared Error)\n",
    "\n",
    "$\\large{MSE = \\frac{1}{N}\\sum\\limits_{i=1}^N(y_i-\\hat{y}_i)^2 = \\frac{SSE}{N}}$"
   ]
  },
  {
   "cell_type": "code",
   "execution_count": 19,
   "metadata": {},
   "outputs": [
    {
     "name": "stdout",
     "output_type": "stream",
     "text": [
      "[1] \"MSE = 7347.61147762263\"\n"
     ]
    }
   ],
   "source": [
    "mse = sse / (length(df$Annee))\n",
    "print(paste(\"MSE =\", mse))"
   ]
  },
  {
   "cell_type": "markdown",
   "metadata": {},
   "source": [
    "Racine de la moyenne des racines des erreurs (UK: Root Mean Squared Error)\n",
    "\n",
    "$\\large{RMSE = \\sqrt{MSE}}$"
   ]
  },
  {
   "cell_type": "code",
   "execution_count": 20,
   "metadata": {},
   "outputs": [
    {
     "name": "stdout",
     "output_type": "stream",
     "text": [
      "[1] \"RMSE = 85.7182097201209\"\n"
     ]
    }
   ],
   "source": [
    "rmse = sqrt(mse)\n",
    "print(paste(\"RMSE =\", rmse))"
   ]
  },
  {
   "cell_type": "markdown",
   "metadata": {},
   "source": [
    "## Analyse de résidus\n",
    "\n",
    "- Formule de résidu\n",
    "$\\rightarrow \\large{\\epsilon_i = y_i - \\hat{y}_i}$\n",
    "\n",
    "- Résidu studentisés\n",
    "$\\rightarrow \\large{\\epsilon_i = \\frac{y_i - \\hat{y}_i}{RMSE\\sqrt{1-h_i}}}$\n",
    "\n",
    "where\n",
    "$\\rightarrow \\large{h_i=\\frac{1}{N}+\\frac{(x_i-\\bar{x})^2}{\\sum\\limits_{i=1}^N(x_i-\\bar{x})^2}}$"
   ]
  },
  {
   "cell_type": "code",
   "execution_count": 21,
   "metadata": {},
   "outputs": [],
   "source": [
    "x_bar = mean(df$Annee)\n",
    "h = 1 / length(df$Annee) + ((df$Annee - x_bar)^2) / sum((df$Annee - x_bar)^2)\n",
    "e = (df$Population_mondiale - df$Prediction) / (sqrt(1 - h))\n",
    "stde = (df$Population_mondiale - df$Prediction) / (rmse * sqrt(1 - h))\n",
    "residus = data.frame(x = df$Annee, \"Influence\" = h, \"Résidus\" = e, stde = stde)"
   ]
  },
  {
   "cell_type": "code",
   "execution_count": 22,
   "metadata": {},
   "outputs": [
    {
     "data": {
      "image/png": "[encoded data removed]",
      "text/plain": [
       "plot without title"
      ]
     },
     "metadata": {
      "image/png": {
       "height": 420,
       "width": 420
      }
     },
     "output_type": "display_data"
    }
   ],
   "source": [
    "rvl = ggplot(residus) +\n",
    "geom_point(aes(x = Influence, y = stde)) +\n",
    "ylab(\"Standardized residus\") +\n",
    "geom_hline(aes(yintercept = 0)) +\n",
    "ggtitle(\"Résidus vs Influence\") +\n",
    "theme_bw()\n",
    "\n",
    "hist_e = ggplot(residus) +\n",
    "geom_histogram(aes(x = stde), bins = 20) +\n",
    "xlab(\"Standardized residus\") +\n",
    "ylab(\"Compte\") +\n",
    "ggtitle(\"Répartition des résidus\") +\n",
    "theme_bw()\n",
    "\n",
    "rvf = ggplot(residus) +\n",
    "geom_point(aes(x = x, y = Résidus)) +\n",
    "geom_hline(aes(yintercept = 0)) +\n",
    "ggtitle(\"Résidus vs Fitted\") +\n",
    "theme_bw()\n",
    "\n",
    "hist_l = ggplot(residus) +\n",
    "geom_histogram(aes(x = Influence), bins = 25) +\n",
    "ylab(\"Compte\") +\n",
    "xlab(\"Influence\") +\n",
    "ggtitle(\"Répartition des influences\") +\n",
    "theme_bw()\n",
    "\n",
    "grid.arrange(rvf, hist_e, rvl, hist_l)"
   ]
  },
  {
   "cell_type": "markdown",
   "metadata": {},
   "source": [
    "## La moyenne de la population a augmenté entre $[1960, 2010]$ et $[2011, 2017]$ (Hypothèse 2)\n",
    "\n",
    "Nous allons donc tester l'hypothèse (unilatérale gauche) suivante\n",
    "\n",
    "$\\mu_{pop1} = \\frac{1}{n}\\sum\\limits_{i=1}^n population\\_mondiale[1960, 2010]^{(i)} \\hspace{1cm} \\mu_{pop2} = \\frac{1}{n}\\sum\\limits_{i=1}^n population\\_mondiale[2011, 2017]^{(i)}$\n",
    "\n",
    "$H_0 = \\mu_{pop1} - \\mu_{pop2} \\geq 0$\n",
    "\n",
    "$H_1 = \\mu_{pop1} - \\mu_{pop2} < 0$\n",
    "\n",
    "$ddl = n_1 + n_2 - 2 = 51 + 7 - 2 = 56$\n",
    "\n",
    "Valeur critique (p-value) $\\rightarrow -1.6725$"
   ]
  },
  {
   "cell_type": "code",
   "execution_count": 23,
   "metadata": {},
   "outputs": [
    {
     "name": "stdout",
     "output_type": "stream",
     "text": [
      "[1] \"t_value = -13.1374810522537\"\n",
      "[1] \"p_value = -1.67252230307558\"\n",
      "[1] \"t_value < p_value ? TRUE\"\n"
     ]
    }
   ],
   "source": [
    "df_1 = df[df$Annee >= 1960 & df$Annee <= 2010,]\n",
    "df_2 = df[df$Annee >= 2011 & df$Annee <= 2017,]\n",
    "pop1 = df_1$Population_mondiale\n",
    "pop2 = df_2$Population_mondiale\n",
    "t_value = test_student_independants(pop1, pop2)\n",
    "print(paste(\"t_value =\", t_value))\n",
    "p_value = qt(0.05, df = length(pop1) + length(pop2) - 2, lower.tail = TRUE)\n",
    "print(paste(\"p_value =\", p_value))\n",
    "print(paste(\"t_value < p_value ?\", t_value < p_value))"
   ]
  },
  {
   "cell_type": "markdown",
   "metadata": {},
   "source": [
    "__On peux donc rejeter l'hypothèse $H_0$__\n",
    "\n",
    "## La croissance mondiale de $[1960, 2010]$ est supérieure à la croissance européenne $[2011, 2017]$ (Hypothèse 3)\n",
    "\n",
    "Nous allons donc tester l'hypothèse (unilatéral gauche) suivante\n",
    "\n",
    "$C_{m} = \\frac{1}{n}\\sum\\limits_{i=1}^n croissance\\_mondiale[1960, 2010]^{(i)} \\hspace{1cm} C_{e} = \\frac{1}{n}\\sum\\limits_{i=1}^n croissance\\_europeenne[2011, 2017]^{(i)}$\n",
    "\n",
    "$H_0 = C_{m} - C_{e} \\geq 0$\n",
    "\n",
    "$H_1 = C_{m} - C_{e} < 0$\n",
    "\n",
    "$ddl = n_1 + n_2 - 2 = 51 + 7 - 2 = 56$\n",
    "\n",
    "Valeur critique (p-value) $\\rightarrow -1.6725$"
   ]
  },
  {
   "cell_type": "code",
   "execution_count": 24,
   "metadata": {},
   "outputs": [
    {
     "name": "stdout",
     "output_type": "stream",
     "text": [
      "[1] \"t_value = 20.2333656712816\"\n",
      "[1] \"p_value = -1.67303396528991\"\n",
      "[1] \"t_value < p_value ? FALSE\"\n"
     ]
    }
   ],
   "source": [
    "c_m = df_1$Croissance_mondiale[-c(1)] # La première valeur est NA\n",
    "c_e = df_2$Croissance_euro\n",
    "t_value = test_student_independants(c_m, c_e)\n",
    "print(paste(\"t_value =\", t_value))\n",
    "p_value = qt(0.05, df = length(c_m) + length(c_e) - 2, lower.tail = TRUE)\n",
    "print(paste(\"p_value =\", p_value))\n",
    "print(paste(\"t_value < p_value ?\", t_value < p_value))"
   ]
  },
  {
   "cell_type": "markdown",
   "metadata": {},
   "source": [
    "__On ne peux donc pas rejeter l'hypothèse $H_0$__\n",
    "\n",
    "## La proportion de personne européenne âgée de plus de 65 ans est inférieur en $[1960, 2010]$ que en $[2011, 2017]$ (Hypothèse 4)\n",
    "\n",
    "Nous allons donc tester l'hypothèse (unilatéral droite) suivante\n",
    "\n",
    "$S_1 = \\frac{1}{n}\\sum\\limits_{i=1}^n proportion\\_senior[1960, 2010]^{(i)} \\hspace{1cm} S_{2} = \\frac{1}{n}\\sum\\limits_{i=1}^n proportion\\_senior[2011, 2017]^{(i)}$\n",
    "\n",
    "$H_0 = S_1 - S_2 \\leq 0$\n",
    "\n",
    "$H_1 = S_1 - S_2 > 0$\n",
    "\n",
    "$ddl = n_1 + n_2 - 2 = 51 + 7 - 2 = 56$\n",
    "\n",
    "Valeur critique (p-value) $\\rightarrow 1.6725$"
   ]
  },
  {
   "cell_type": "code",
   "execution_count": 25,
   "metadata": {},
   "outputs": [
    {
     "name": "stdout",
     "output_type": "stream",
     "text": [
      "[1] \"t_value = -12.7890414432725\"\n",
      "[1] \"p_value = 1.67252230307558\"\n",
      "[1] \"t_value > p_value ? FALSE\"\n"
     ]
    }
   ],
   "source": [
    "S_1 = df_1$Senior\n",
    "S_2 = df_2$Senior\n",
    "t_value = test_student_independants(S_1, S_2)\n",
    "print(paste(\"t_value =\", t_value))\n",
    "p_value = qt(0.05, df = length(S_1) + length(S_2) - 2, lower.tail = FALSE)\n",
    "print(paste(\"p_value =\", p_value))\n",
    "print(paste(\"t_value > p_value ?\", t_value > p_value))"
   ]
  },
  {
   "cell_type": "markdown",
   "metadata": {},
   "source": [
    "__On ne peux donc pas rejeter l'hypothèse $H_0$__\n",
    "\n",
    "## Fichier dépense courante de santé dans les pays de l'OCDE (INSEE)\n",
    "\n",
    "Nous avons retiré les watermarks du fichier __cond-sante-dep-courante-monde.xls__, nous l'avons renommée en __depcours.xls__ et placé dans le dossier __converted__."
   ]
  },
  {
   "cell_type": "code",
   "execution_count": 26,
   "metadata": {},
   "outputs": [
    {
     "data": {
      "text/html": [
       "<table>\n",
       "<caption>A tibble: 6 × 20</caption>\n",
       "<thead>\n",
       "\t<tr><th scope=col>Pays</th><th scope=col>2000</th><th scope=col>2001</th><th scope=col>2002</th><th scope=col>2003</th><th scope=col>2004</th><th scope=col>2005</th><th scope=col>2006</th><th scope=col>2007</th><th scope=col>2008</th><th scope=col>2009</th><th scope=col>2010</th><th scope=col>2011</th><th scope=col>2012</th><th scope=col>2013</th><th scope=col>2014</th><th scope=col>2015</th><th scope=col>2016</th><th scope=col>2017</th><th scope=col>2018</th></tr>\n",
       "\t<tr><th scope=col>&lt;chr&gt;</th><th scope=col>&lt;dbl&gt;</th><th scope=col>&lt;dbl&gt;</th><th scope=col>&lt;dbl&gt;</th><th scope=col>&lt;dbl&gt;</th><th scope=col>&lt;dbl&gt;</th><th scope=col>&lt;dbl&gt;</th><th scope=col>&lt;dbl&gt;</th><th scope=col>&lt;dbl&gt;</th><th scope=col>&lt;dbl&gt;</th><th scope=col>&lt;dbl&gt;</th><th scope=col>&lt;dbl&gt;</th><th scope=col>&lt;dbl&gt;</th><th scope=col>&lt;dbl&gt;</th><th scope=col>&lt;dbl&gt;</th><th scope=col>&lt;dbl&gt;</th><th scope=col>&lt;dbl&gt;</th><th scope=col>&lt;dbl&gt;</th><th scope=col>&lt;dbl&gt;</th><th scope=col>&lt;dbl&gt;</th></tr>\n",
       "</thead>\n",
       "<tbody>\n",
       "\t<tr><td>États-Unis</td><td>12.542</td><td>13.219</td><td>14.007</td><td>14.522</td><td>14.610</td><td>14.606</td><td>14.703</td><td>14.926</td><td>15.301</td><td>16.310</td><td>16.382</td><td>16.350</td><td>16.329</td><td>16.257</td><td>16.443</td><td>16.749</td><td>17.121</td><td>17.061</td><td>16.937</td></tr>\n",
       "\t<tr><td>Suisse    </td><td> 9.844</td><td>10.231</td><td>10.641</td><td>10.936</td><td>11.004</td><td>10.822</td><td>10.214</td><td>10.016</td><td>10.151</td><td>10.809</td><td>10.699</td><td>10.769</td><td>11.058</td><td>11.314</td><td>11.494</td><td>11.884</td><td>12.221</td><td>12.346</td><td>12.183</td></tr>\n",
       "\t<tr><td>Allemagne </td><td> 9.837</td><td> 9.872</td><td>10.117</td><td>10.338</td><td>10.080</td><td>10.228</td><td>10.117</td><td> 9.971</td><td>10.157</td><td>11.140</td><td>11.005</td><td>10.721</td><td>10.777</td><td>10.932</td><td>10.960</td><td>11.088</td><td>11.131</td><td>11.247</td><td>11.229</td></tr>\n",
       "\t<tr><td>France    </td><td> 9.584</td><td> 9.706</td><td>10.022</td><td>10.083</td><td>10.164</td><td>10.215</td><td>10.398</td><td>10.335</td><td>10.514</td><td>11.301</td><td>11.239</td><td>11.203</td><td>11.315</td><td>11.436</td><td>11.571</td><td>11.459</td><td>11.508</td><td>11.330</td><td>11.197</td></tr>\n",
       "\t<tr><td>Suède     </td><td> 7.402</td><td> 8.022</td><td> 8.349</td><td> 8.453</td><td> 8.252</td><td> 8.268</td><td> 8.151</td><td> 8.064</td><td> 8.303</td><td> 8.935</td><td> 8.477</td><td>10.666</td><td>10.926</td><td>11.089</td><td>11.130</td><td>11.004</td><td>10.976</td><td>11.019</td><td>11.037</td></tr>\n",
       "\t<tr><td>Japon     </td><td> 7.151</td><td> 7.359</td><td> 7.473</td><td> 7.611</td><td> 7.657</td><td> 7.781</td><td> 7.808</td><td> 7.890</td><td> 8.200</td><td> 9.058</td><td> 9.157</td><td>10.617</td><td>10.791</td><td>10.792</td><td>10.832</td><td>10.886</td><td>10.826</td><td>10.936</td><td>10.918</td></tr>\n",
       "</tbody>\n",
       "</table>\n"
      ],
      "text/latex": [
       "A tibble: 6 × 20\n",
       "\\begin{tabular}{llllllllllllllllllll}\n",
       " Pays & 2000 & 2001 & 2002 & 2003 & 2004 & 2005 & 2006 & 2007 & 2008 & 2009 & 2010 & 2011 & 2012 & 2013 & 2014 & 2015 & 2016 & 2017 & 2018\\\\\n",
       " <chr> & <dbl> & <dbl> & <dbl> & <dbl> & <dbl> & <dbl> & <dbl> & <dbl> & <dbl> & <dbl> & <dbl> & <dbl> & <dbl> & <dbl> & <dbl> & <dbl> & <dbl> & <dbl> & <dbl>\\\\\n",
       "\\hline\n",
       "\t États-Unis & 12.542 & 13.219 & 14.007 & 14.522 & 14.610 & 14.606 & 14.703 & 14.926 & 15.301 & 16.310 & 16.382 & 16.350 & 16.329 & 16.257 & 16.443 & 16.749 & 17.121 & 17.061 & 16.937\\\\\n",
       "\t Suisse     &  9.844 & 10.231 & 10.641 & 10.936 & 11.004 & 10.822 & 10.214 & 10.016 & 10.151 & 10.809 & 10.699 & 10.769 & 11.058 & 11.314 & 11.494 & 11.884 & 12.221 & 12.346 & 12.183\\\\\n",
       "\t Allemagne  &  9.837 &  9.872 & 10.117 & 10.338 & 10.080 & 10.228 & 10.117 &  9.971 & 10.157 & 11.140 & 11.005 & 10.721 & 10.777 & 10.932 & 10.960 & 11.088 & 11.131 & 11.247 & 11.229\\\\\n",
       "\t France     &  9.584 &  9.706 & 10.022 & 10.083 & 10.164 & 10.215 & 10.398 & 10.335 & 10.514 & 11.301 & 11.239 & 11.203 & 11.315 & 11.436 & 11.571 & 11.459 & 11.508 & 11.330 & 11.197\\\\\n",
       "\t Suède      &  7.402 &  8.022 &  8.349 &  8.453 &  8.252 &  8.268 &  8.151 &  8.064 &  8.303 &  8.935 &  8.477 & 10.666 & 10.926 & 11.089 & 11.130 & 11.004 & 10.976 & 11.019 & 11.037\\\\\n",
       "\t Japon      &  7.151 &  7.359 &  7.473 &  7.611 &  7.657 &  7.781 &  7.808 &  7.890 &  8.200 &  9.058 &  9.157 & 10.617 & 10.791 & 10.792 & 10.832 & 10.886 & 10.826 & 10.936 & 10.918\\\\\n",
       "\\end{tabular}\n"
      ],
      "text/markdown": [
       "\n",
       "A tibble: 6 × 20\n",
       "\n",
       "| Pays &lt;chr&gt; | 2000 &lt;dbl&gt; | 2001 &lt;dbl&gt; | 2002 &lt;dbl&gt; | 2003 &lt;dbl&gt; | 2004 &lt;dbl&gt; | 2005 &lt;dbl&gt; | 2006 &lt;dbl&gt; | 2007 &lt;dbl&gt; | 2008 &lt;dbl&gt; | 2009 &lt;dbl&gt; | 2010 &lt;dbl&gt; | 2011 &lt;dbl&gt; | 2012 &lt;dbl&gt; | 2013 &lt;dbl&gt; | 2014 &lt;dbl&gt; | 2015 &lt;dbl&gt; | 2016 &lt;dbl&gt; | 2017 &lt;dbl&gt; | 2018 &lt;dbl&gt; |\n",
       "|---|---|---|---|---|---|---|---|---|---|---|---|---|---|---|---|---|---|---|---|\n",
       "| États-Unis | 12.542 | 13.219 | 14.007 | 14.522 | 14.610 | 14.606 | 14.703 | 14.926 | 15.301 | 16.310 | 16.382 | 16.350 | 16.329 | 16.257 | 16.443 | 16.749 | 17.121 | 17.061 | 16.937 |\n",
       "| Suisse     |  9.844 | 10.231 | 10.641 | 10.936 | 11.004 | 10.822 | 10.214 | 10.016 | 10.151 | 10.809 | 10.699 | 10.769 | 11.058 | 11.314 | 11.494 | 11.884 | 12.221 | 12.346 | 12.183 |\n",
       "| Allemagne  |  9.837 |  9.872 | 10.117 | 10.338 | 10.080 | 10.228 | 10.117 |  9.971 | 10.157 | 11.140 | 11.005 | 10.721 | 10.777 | 10.932 | 10.960 | 11.088 | 11.131 | 11.247 | 11.229 |\n",
       "| France     |  9.584 |  9.706 | 10.022 | 10.083 | 10.164 | 10.215 | 10.398 | 10.335 | 10.514 | 11.301 | 11.239 | 11.203 | 11.315 | 11.436 | 11.571 | 11.459 | 11.508 | 11.330 | 11.197 |\n",
       "| Suède      |  7.402 |  8.022 |  8.349 |  8.453 |  8.252 |  8.268 |  8.151 |  8.064 |  8.303 |  8.935 |  8.477 | 10.666 | 10.926 | 11.089 | 11.130 | 11.004 | 10.976 | 11.019 | 11.037 |\n",
       "| Japon      |  7.151 |  7.359 |  7.473 |  7.611 |  7.657 |  7.781 |  7.808 |  7.890 |  8.200 |  9.058 |  9.157 | 10.617 | 10.791 | 10.792 | 10.832 | 10.886 | 10.826 | 10.936 | 10.918 |\n",
       "\n"
      ],
      "text/plain": [
       "  Pays       2000   2001   2002   2003   2004   2005   2006   2007   2008  \n",
       "1 États-Unis 12.542 13.219 14.007 14.522 14.610 14.606 14.703 14.926 15.301\n",
       "2 Suisse      9.844 10.231 10.641 10.936 11.004 10.822 10.214 10.016 10.151\n",
       "3 Allemagne   9.837  9.872 10.117 10.338 10.080 10.228 10.117  9.971 10.157\n",
       "4 France      9.584  9.706 10.022 10.083 10.164 10.215 10.398 10.335 10.514\n",
       "5 Suède       7.402  8.022  8.349  8.453  8.252  8.268  8.151  8.064  8.303\n",
       "6 Japon       7.151  7.359  7.473  7.611  7.657  7.781  7.808  7.890  8.200\n",
       "  2009   2010   2011   2012   2013   2014   2015   2016   2017   2018  \n",
       "1 16.310 16.382 16.350 16.329 16.257 16.443 16.749 17.121 17.061 16.937\n",
       "2 10.809 10.699 10.769 11.058 11.314 11.494 11.884 12.221 12.346 12.183\n",
       "3 11.140 11.005 10.721 10.777 10.932 10.960 11.088 11.131 11.247 11.229\n",
       "4 11.301 11.239 11.203 11.315 11.436 11.571 11.459 11.508 11.330 11.197\n",
       "5  8.935  8.477 10.666 10.926 11.089 11.130 11.004 10.976 11.019 11.037\n",
       "6  9.058  9.157 10.617 10.791 10.792 10.832 10.886 10.826 10.936 10.918"
      ]
     },
     "metadata": {},
     "output_type": "display_data"
    }
   ],
   "source": [
    "dep = read_excel(\"converted/depcour.xls\")\n",
    "head(dep)"
   ]
  },
  {
   "cell_type": "markdown",
   "metadata": {},
   "source": [
    "### Transposition en dataframe"
   ]
  },
  {
   "cell_type": "code",
   "execution_count": 27,
   "metadata": {},
   "outputs": [
    {
     "data": {
      "text/html": [
       "<table>\n",
       "<caption>A data.frame: 6 × 37</caption>\n",
       "<thead>\n",
       "\t<tr><th></th><th scope=col>Annee</th><th scope=col>États.Unis</th><th scope=col>Suisse</th><th scope=col>Allemagne</th><th scope=col>France</th><th scope=col>Suède</th><th scope=col>Japon</th><th scope=col>Canada</th><th scope=col>Danemark</th><th scope=col>Belgique</th><th scope=col>...</th><th scope=col>Irlande</th><th scope=col>Lituanie</th><th scope=col>Slovaquie</th><th scope=col>Hongrie</th><th scope=col>Estonie</th><th scope=col>Pologne</th><th scope=col>Lettonie</th><th scope=col>Mexique</th><th scope=col>Luxembourg</th><th scope=col>Turquie</th></tr>\n",
       "\t<tr><th></th><th scope=col>&lt;int&gt;</th><th scope=col>&lt;dbl&gt;</th><th scope=col>&lt;dbl&gt;</th><th scope=col>&lt;dbl&gt;</th><th scope=col>&lt;dbl&gt;</th><th scope=col>&lt;dbl&gt;</th><th scope=col>&lt;dbl&gt;</th><th scope=col>&lt;dbl&gt;</th><th scope=col>&lt;dbl&gt;</th><th scope=col>&lt;dbl&gt;</th><th scope=col>...</th><th scope=col>&lt;dbl&gt;</th><th scope=col>&lt;dbl&gt;</th><th scope=col>&lt;dbl&gt;</th><th scope=col>&lt;dbl&gt;</th><th scope=col>&lt;dbl&gt;</th><th scope=col>&lt;dbl&gt;</th><th scope=col>&lt;dbl&gt;</th><th scope=col>&lt;dbl&gt;</th><th scope=col>&lt;dbl&gt;</th><th scope=col>&lt;dbl&gt;</th></tr>\n",
       "</thead>\n",
       "<tbody>\n",
       "\t<tr><th scope=row>1</th><td>2000</td><td>12.542</td><td> 9.844</td><td> 9.837</td><td> 9.584</td><td>7.402</td><td>7.151</td><td>8.248</td><td>8.104</td><td>7.942</td><td>...</td><td>5.905</td><td>6.192</td><td>5.313</td><td>6.765</td><td>5.165</td><td>5.298</td><td>5.448</td><td>4.449</td><td>5.901</td><td>4.622</td></tr>\n",
       "\t<tr><th scope=row>2</th><td>2001</td><td>13.219</td><td>10.231</td><td> 9.872</td><td> 9.706</td><td>8.022</td><td>7.359</td><td>8.625</td><td>8.448</td><td>8.105</td><td>...</td><td>6.399</td><td>6.006</td><td>5.340</td><td>6.817</td><td>4.788</td><td>5.679</td><td>5.778</td><td>4.820</td><td>6.410</td><td>4.924</td></tr>\n",
       "\t<tr><th scope=row>3</th><td>2002</td><td>14.007</td><td>10.641</td><td>10.117</td><td>10.022</td><td>8.349</td><td>7.473</td><td>8.857</td><td>8.703</td><td>8.263</td><td>...</td><td>6.675</td><td>6.136</td><td>5.517</td><td>7.110</td><td>4.733</td><td>6.079</td><td>5.769</td><td>5.072</td><td>6.738</td><td>5.101</td></tr>\n",
       "\t<tr><th scope=row>4</th><td>2003</td><td>14.522</td><td>10.936</td><td>10.338</td><td>10.083</td><td>8.453</td><td>7.611</td><td>9.011</td><td>8.904</td><td>9.106</td><td>...</td><td>7.009</td><td>6.179</td><td>5.458</td><td>8.117</td><td>4.881</td><td>5.962</td><td>5.490</td><td>5.815</td><td>6.971</td><td>5.059</td></tr>\n",
       "\t<tr><th scope=row>5</th><td>2004</td><td>14.610</td><td>11.004</td><td>10.080</td><td>10.164</td><td>8.252</td><td>7.657</td><td>9.066</td><td>9.007</td><td>9.125</td><td>...</td><td>7.225</td><td>5.506</td><td>6.480</td><td>7.762</td><td>5.156</td><td>5.869</td><td>6.229</td><td>5.954</td><td>7.347</td><td>4.959</td></tr>\n",
       "\t<tr><th scope=row>6</th><td>2005</td><td>14.606</td><td>10.822</td><td>10.228</td><td>10.215</td><td>8.268</td><td>7.781</td><td>9.035</td><td>9.091</td><td>9.007</td><td>...</td><td>7.648</td><td>5.642</td><td>6.598</td><td>7.997</td><td>5.091</td><td>5.807</td><td>5.860</td><td>5.836</td><td>7.184</td><td>4.942</td></tr>\n",
       "</tbody>\n",
       "</table>\n"
      ],
      "text/latex": [
       "A data.frame: 6 × 37\n",
       "\\begin{tabular}{r|lllllllllllllllllllll}\n",
       "  & Annee & États.Unis & Suisse & Allemagne & France & Suède & Japon & Canada & Danemark & Belgique & ... & Irlande & Lituanie & Slovaquie & Hongrie & Estonie & Pologne & Lettonie & Mexique & Luxembourg & Turquie\\\\\n",
       "  & <int> & <dbl> & <dbl> & <dbl> & <dbl> & <dbl> & <dbl> & <dbl> & <dbl> & <dbl> & ... & <dbl> & <dbl> & <dbl> & <dbl> & <dbl> & <dbl> & <dbl> & <dbl> & <dbl> & <dbl>\\\\\n",
       "\\hline\n",
       "\t1 & 2000 & 12.542 &  9.844 &  9.837 &  9.584 & 7.402 & 7.151 & 8.248 & 8.104 & 7.942 & ... & 5.905 & 6.192 & 5.313 & 6.765 & 5.165 & 5.298 & 5.448 & 4.449 & 5.901 & 4.622\\\\\n",
       "\t2 & 2001 & 13.219 & 10.231 &  9.872 &  9.706 & 8.022 & 7.359 & 8.625 & 8.448 & 8.105 & ... & 6.399 & 6.006 & 5.340 & 6.817 & 4.788 & 5.679 & 5.778 & 4.820 & 6.410 & 4.924\\\\\n",
       "\t3 & 2002 & 14.007 & 10.641 & 10.117 & 10.022 & 8.349 & 7.473 & 8.857 & 8.703 & 8.263 & ... & 6.675 & 6.136 & 5.517 & 7.110 & 4.733 & 6.079 & 5.769 & 5.072 & 6.738 & 5.101\\\\\n",
       "\t4 & 2003 & 14.522 & 10.936 & 10.338 & 10.083 & 8.453 & 7.611 & 9.011 & 8.904 & 9.106 & ... & 7.009 & 6.179 & 5.458 & 8.117 & 4.881 & 5.962 & 5.490 & 5.815 & 6.971 & 5.059\\\\\n",
       "\t5 & 2004 & 14.610 & 11.004 & 10.080 & 10.164 & 8.252 & 7.657 & 9.066 & 9.007 & 9.125 & ... & 7.225 & 5.506 & 6.480 & 7.762 & 5.156 & 5.869 & 6.229 & 5.954 & 7.347 & 4.959\\\\\n",
       "\t6 & 2005 & 14.606 & 10.822 & 10.228 & 10.215 & 8.268 & 7.781 & 9.035 & 9.091 & 9.007 & ... & 7.648 & 5.642 & 6.598 & 7.997 & 5.091 & 5.807 & 5.860 & 5.836 & 7.184 & 4.942\\\\\n",
       "\\end{tabular}\n"
      ],
      "text/markdown": [
       "\n",
       "A data.frame: 6 × 37\n",
       "\n",
       "| <!--/--> | Annee &lt;int&gt; | États.Unis &lt;dbl&gt; | Suisse &lt;dbl&gt; | Allemagne &lt;dbl&gt; | France &lt;dbl&gt; | Suède &lt;dbl&gt; | Japon &lt;dbl&gt; | Canada &lt;dbl&gt; | Danemark &lt;dbl&gt; | Belgique &lt;dbl&gt; | ... ... | Irlande &lt;dbl&gt; | Lituanie &lt;dbl&gt; | Slovaquie &lt;dbl&gt; | Hongrie &lt;dbl&gt; | Estonie &lt;dbl&gt; | Pologne &lt;dbl&gt; | Lettonie &lt;dbl&gt; | Mexique &lt;dbl&gt; | Luxembourg &lt;dbl&gt; | Turquie &lt;dbl&gt; |\n",
       "|---|---|---|---|---|---|---|---|---|---|---|---|---|---|---|---|---|---|---|---|---|---|\n",
       "| 1 | 2000 | 12.542 |  9.844 |  9.837 |  9.584 | 7.402 | 7.151 | 8.248 | 8.104 | 7.942 | ... | 5.905 | 6.192 | 5.313 | 6.765 | 5.165 | 5.298 | 5.448 | 4.449 | 5.901 | 4.622 |\n",
       "| 2 | 2001 | 13.219 | 10.231 |  9.872 |  9.706 | 8.022 | 7.359 | 8.625 | 8.448 | 8.105 | ... | 6.399 | 6.006 | 5.340 | 6.817 | 4.788 | 5.679 | 5.778 | 4.820 | 6.410 | 4.924 |\n",
       "| 3 | 2002 | 14.007 | 10.641 | 10.117 | 10.022 | 8.349 | 7.473 | 8.857 | 8.703 | 8.263 | ... | 6.675 | 6.136 | 5.517 | 7.110 | 4.733 | 6.079 | 5.769 | 5.072 | 6.738 | 5.101 |\n",
       "| 4 | 2003 | 14.522 | 10.936 | 10.338 | 10.083 | 8.453 | 7.611 | 9.011 | 8.904 | 9.106 | ... | 7.009 | 6.179 | 5.458 | 8.117 | 4.881 | 5.962 | 5.490 | 5.815 | 6.971 | 5.059 |\n",
       "| 5 | 2004 | 14.610 | 11.004 | 10.080 | 10.164 | 8.252 | 7.657 | 9.066 | 9.007 | 9.125 | ... | 7.225 | 5.506 | 6.480 | 7.762 | 5.156 | 5.869 | 6.229 | 5.954 | 7.347 | 4.959 |\n",
       "| 6 | 2005 | 14.606 | 10.822 | 10.228 | 10.215 | 8.268 | 7.781 | 9.035 | 9.091 | 9.007 | ... | 7.648 | 5.642 | 6.598 | 7.997 | 5.091 | 5.807 | 5.860 | 5.836 | 7.184 | 4.942 |\n",
       "\n"
      ],
      "text/plain": [
       "  Annee États.Unis Suisse Allemagne France Suède Japon Canada Danemark Belgique\n",
       "1 2000  12.542      9.844  9.837     9.584 7.402 7.151 8.248  8.104    7.942   \n",
       "2 2001  13.219     10.231  9.872     9.706 8.022 7.359 8.625  8.448    8.105   \n",
       "3 2002  14.007     10.641 10.117    10.022 8.349 7.473 8.857  8.703    8.263   \n",
       "4 2003  14.522     10.936 10.338    10.083 8.453 7.611 9.011  8.904    9.106   \n",
       "5 2004  14.610     11.004 10.080    10.164 8.252 7.657 9.066  9.007    9.125   \n",
       "6 2005  14.606     10.822 10.228    10.215 8.268 7.781 9.035  9.091    9.007   \n",
       "  ... Irlande Lituanie Slovaquie Hongrie Estonie Pologne Lettonie Mexique\n",
       "1 ... 5.905   6.192    5.313     6.765   5.165   5.298   5.448    4.449  \n",
       "2 ... 6.399   6.006    5.340     6.817   4.788   5.679   5.778    4.820  \n",
       "3 ... 6.675   6.136    5.517     7.110   4.733   6.079   5.769    5.072  \n",
       "4 ... 7.009   6.179    5.458     8.117   4.881   5.962   5.490    5.815  \n",
       "5 ... 7.225   5.506    6.480     7.762   5.156   5.869   6.229    5.954  \n",
       "6 ... 7.648   5.642    6.598     7.997   5.091   5.807   5.860    5.836  \n",
       "  Luxembourg Turquie\n",
       "1 5.901      4.622  \n",
       "2 6.410      4.924  \n",
       "3 6.738      5.101  \n",
       "4 6.971      5.059  \n",
       "5 7.347      4.959  \n",
       "6 7.184      4.942  "
      ]
     },
     "metadata": {},
     "output_type": "display_data"
    }
   ],
   "source": [
    "dep = t(dep)\n",
    "colnames(dep) = dep[1,]\n",
    "rownames(dep) = NULL\n",
    "dep = data.frame(apply(dep[-c(1),], 2, function(x) as.numeric(as.character(x))))\n",
    "dep = data.frame(Annee = (2000:2018), dep)\n",
    "head(dep)"
   ]
  },
  {
   "cell_type": "markdown",
   "metadata": {},
   "source": [
    "### Suppression des états ne faisant pas parti de l'Union Européenne"
   ]
  },
  {
   "cell_type": "code",
   "execution_count": 28,
   "metadata": {},
   "outputs": [
    {
     "data": {
      "text/html": [
       "<table>\n",
       "<caption>A data.frame: 6 × 27</caption>\n",
       "<thead>\n",
       "\t<tr><th></th><th scope=col>Annee</th><th scope=col>Suisse</th><th scope=col>Allemagne</th><th scope=col>France</th><th scope=col>Suède</th><th scope=col>Danemark</th><th scope=col>Belgique</th><th scope=col>Autriche</th><th scope=col>Norvège</th><th scope=col>Pays.Bas</th><th scope=col>...</th><th scope=col>Grèce</th><th scope=col>République.tchèque</th><th scope=col>Irlande</th><th scope=col>Lituanie</th><th scope=col>Slovaquie</th><th scope=col>Hongrie</th><th scope=col>Estonie</th><th scope=col>Pologne</th><th scope=col>Lettonie</th><th scope=col>Luxembourg</th></tr>\n",
       "\t<tr><th></th><th scope=col>&lt;int&gt;</th><th scope=col>&lt;dbl&gt;</th><th scope=col>&lt;dbl&gt;</th><th scope=col>&lt;dbl&gt;</th><th scope=col>&lt;dbl&gt;</th><th scope=col>&lt;dbl&gt;</th><th scope=col>&lt;dbl&gt;</th><th scope=col>&lt;dbl&gt;</th><th scope=col>&lt;dbl&gt;</th><th scope=col>&lt;dbl&gt;</th><th scope=col>...</th><th scope=col>&lt;dbl&gt;</th><th scope=col>&lt;dbl&gt;</th><th scope=col>&lt;dbl&gt;</th><th scope=col>&lt;dbl&gt;</th><th scope=col>&lt;dbl&gt;</th><th scope=col>&lt;dbl&gt;</th><th scope=col>&lt;dbl&gt;</th><th scope=col>&lt;dbl&gt;</th><th scope=col>&lt;dbl&gt;</th><th scope=col>&lt;dbl&gt;</th></tr>\n",
       "</thead>\n",
       "<tbody>\n",
       "\t<tr><th scope=row>1</th><td>2000</td><td> 9.844</td><td> 9.837</td><td> 9.584</td><td>7.402</td><td>8.104</td><td>7.942</td><td>9.204</td><td>7.709</td><td>7.707</td><td>...</td><td>7.243</td><td>5.718</td><td>5.905</td><td>6.192</td><td>5.313</td><td>6.765</td><td>5.165</td><td>5.298</td><td>5.448</td><td>5.901</td></tr>\n",
       "\t<tr><th scope=row>2</th><td>2001</td><td>10.231</td><td> 9.872</td><td> 9.706</td><td>8.022</td><td>8.448</td><td>8.105</td><td>9.269</td><td>8.021</td><td>8.059</td><td>...</td><td>7.988</td><td>5.888</td><td>6.399</td><td>6.006</td><td>5.340</td><td>6.817</td><td>4.788</td><td>5.679</td><td>5.778</td><td>6.410</td></tr>\n",
       "\t<tr><th scope=row>3</th><td>2002</td><td>10.641</td><td>10.117</td><td>10.022</td><td>8.349</td><td>8.703</td><td>8.263</td><td>9.395</td><td>9.005</td><td>8.649</td><td>...</td><td>8.234</td><td>6.199</td><td>6.675</td><td>6.136</td><td>5.517</td><td>7.110</td><td>4.733</td><td>6.079</td><td>5.769</td><td>6.738</td></tr>\n",
       "\t<tr><th scope=row>4</th><td>2003</td><td>10.936</td><td>10.338</td><td>10.083</td><td>8.453</td><td>8.904</td><td>9.106</td><td>9.547</td><td>9.219</td><td>9.057</td><td>...</td><td>8.198</td><td>6.554</td><td>7.009</td><td>6.179</td><td>5.458</td><td>8.117</td><td>4.881</td><td>5.962</td><td>5.490</td><td>6.971</td></tr>\n",
       "\t<tr><th scope=row>5</th><td>2004</td><td>11.004</td><td>10.080</td><td>10.164</td><td>8.252</td><td>9.007</td><td>9.125</td><td>9.709</td><td>8.826</td><td>9.111</td><td>...</td><td>7.932</td><td>6.385</td><td>7.225</td><td>5.506</td><td>6.480</td><td>7.762</td><td>5.156</td><td>5.869</td><td>6.229</td><td>7.347</td></tr>\n",
       "\t<tr><th scope=row>6</th><td>2005</td><td>10.822</td><td>10.228</td><td>10.215</td><td>8.268</td><td>9.091</td><td>9.007</td><td>9.627</td><td>8.333</td><td>9.097</td><td>...</td><td>8.997</td><td>6.381</td><td>7.648</td><td>5.642</td><td>6.598</td><td>7.997</td><td>5.091</td><td>5.807</td><td>5.860</td><td>7.184</td></tr>\n",
       "</tbody>\n",
       "</table>\n"
      ],
      "text/latex": [
       "A data.frame: 6 × 27\n",
       "\\begin{tabular}{r|lllllllllllllllllllll}\n",
       "  & Annee & Suisse & Allemagne & France & Suède & Danemark & Belgique & Autriche & Norvège & Pays.Bas & ... & Grèce & République.tchèque & Irlande & Lituanie & Slovaquie & Hongrie & Estonie & Pologne & Lettonie & Luxembourg\\\\\n",
       "  & <int> & <dbl> & <dbl> & <dbl> & <dbl> & <dbl> & <dbl> & <dbl> & <dbl> & <dbl> & ... & <dbl> & <dbl> & <dbl> & <dbl> & <dbl> & <dbl> & <dbl> & <dbl> & <dbl> & <dbl>\\\\\n",
       "\\hline\n",
       "\t1 & 2000 &  9.844 &  9.837 &  9.584 & 7.402 & 8.104 & 7.942 & 9.204 & 7.709 & 7.707 & ... & 7.243 & 5.718 & 5.905 & 6.192 & 5.313 & 6.765 & 5.165 & 5.298 & 5.448 & 5.901\\\\\n",
       "\t2 & 2001 & 10.231 &  9.872 &  9.706 & 8.022 & 8.448 & 8.105 & 9.269 & 8.021 & 8.059 & ... & 7.988 & 5.888 & 6.399 & 6.006 & 5.340 & 6.817 & 4.788 & 5.679 & 5.778 & 6.410\\\\\n",
       "\t3 & 2002 & 10.641 & 10.117 & 10.022 & 8.349 & 8.703 & 8.263 & 9.395 & 9.005 & 8.649 & ... & 8.234 & 6.199 & 6.675 & 6.136 & 5.517 & 7.110 & 4.733 & 6.079 & 5.769 & 6.738\\\\\n",
       "\t4 & 2003 & 10.936 & 10.338 & 10.083 & 8.453 & 8.904 & 9.106 & 9.547 & 9.219 & 9.057 & ... & 8.198 & 6.554 & 7.009 & 6.179 & 5.458 & 8.117 & 4.881 & 5.962 & 5.490 & 6.971\\\\\n",
       "\t5 & 2004 & 11.004 & 10.080 & 10.164 & 8.252 & 9.007 & 9.125 & 9.709 & 8.826 & 9.111 & ... & 7.932 & 6.385 & 7.225 & 5.506 & 6.480 & 7.762 & 5.156 & 5.869 & 6.229 & 7.347\\\\\n",
       "\t6 & 2005 & 10.822 & 10.228 & 10.215 & 8.268 & 9.091 & 9.007 & 9.627 & 8.333 & 9.097 & ... & 8.997 & 6.381 & 7.648 & 5.642 & 6.598 & 7.997 & 5.091 & 5.807 & 5.860 & 7.184\\\\\n",
       "\\end{tabular}\n"
      ],
      "text/markdown": [
       "\n",
       "A data.frame: 6 × 27\n",
       "\n",
       "| <!--/--> | Annee &lt;int&gt; | Suisse &lt;dbl&gt; | Allemagne &lt;dbl&gt; | France &lt;dbl&gt; | Suède &lt;dbl&gt; | Danemark &lt;dbl&gt; | Belgique &lt;dbl&gt; | Autriche &lt;dbl&gt; | Norvège &lt;dbl&gt; | Pays.Bas &lt;dbl&gt; | ... ... | Grèce &lt;dbl&gt; | République.tchèque &lt;dbl&gt; | Irlande &lt;dbl&gt; | Lituanie &lt;dbl&gt; | Slovaquie &lt;dbl&gt; | Hongrie &lt;dbl&gt; | Estonie &lt;dbl&gt; | Pologne &lt;dbl&gt; | Lettonie &lt;dbl&gt; | Luxembourg &lt;dbl&gt; |\n",
       "|---|---|---|---|---|---|---|---|---|---|---|---|---|---|---|---|---|---|---|---|---|---|\n",
       "| 1 | 2000 |  9.844 |  9.837 |  9.584 | 7.402 | 8.104 | 7.942 | 9.204 | 7.709 | 7.707 | ... | 7.243 | 5.718 | 5.905 | 6.192 | 5.313 | 6.765 | 5.165 | 5.298 | 5.448 | 5.901 |\n",
       "| 2 | 2001 | 10.231 |  9.872 |  9.706 | 8.022 | 8.448 | 8.105 | 9.269 | 8.021 | 8.059 | ... | 7.988 | 5.888 | 6.399 | 6.006 | 5.340 | 6.817 | 4.788 | 5.679 | 5.778 | 6.410 |\n",
       "| 3 | 2002 | 10.641 | 10.117 | 10.022 | 8.349 | 8.703 | 8.263 | 9.395 | 9.005 | 8.649 | ... | 8.234 | 6.199 | 6.675 | 6.136 | 5.517 | 7.110 | 4.733 | 6.079 | 5.769 | 6.738 |\n",
       "| 4 | 2003 | 10.936 | 10.338 | 10.083 | 8.453 | 8.904 | 9.106 | 9.547 | 9.219 | 9.057 | ... | 8.198 | 6.554 | 7.009 | 6.179 | 5.458 | 8.117 | 4.881 | 5.962 | 5.490 | 6.971 |\n",
       "| 5 | 2004 | 11.004 | 10.080 | 10.164 | 8.252 | 9.007 | 9.125 | 9.709 | 8.826 | 9.111 | ... | 7.932 | 6.385 | 7.225 | 5.506 | 6.480 | 7.762 | 5.156 | 5.869 | 6.229 | 7.347 |\n",
       "| 6 | 2005 | 10.822 | 10.228 | 10.215 | 8.268 | 9.091 | 9.007 | 9.627 | 8.333 | 9.097 | ... | 8.997 | 6.381 | 7.648 | 5.642 | 6.598 | 7.997 | 5.091 | 5.807 | 5.860 | 7.184 |\n",
       "\n"
      ],
      "text/plain": [
       "  Annee Suisse Allemagne France Suède Danemark Belgique Autriche Norvège\n",
       "1 2000   9.844  9.837     9.584 7.402 8.104    7.942    9.204    7.709  \n",
       "2 2001  10.231  9.872     9.706 8.022 8.448    8.105    9.269    8.021  \n",
       "3 2002  10.641 10.117    10.022 8.349 8.703    8.263    9.395    9.005  \n",
       "4 2003  10.936 10.338    10.083 8.453 8.904    9.106    9.547    9.219  \n",
       "5 2004  11.004 10.080    10.164 8.252 9.007    9.125    9.709    8.826  \n",
       "6 2005  10.822 10.228    10.215 8.268 9.091    9.007    9.627    8.333  \n",
       "  Pays.Bas ... Grèce République.tchèque Irlande Lituanie Slovaquie Hongrie\n",
       "1 7.707    ... 7.243 5.718              5.905   6.192    5.313     6.765  \n",
       "2 8.059    ... 7.988 5.888              6.399   6.006    5.340     6.817  \n",
       "3 8.649    ... 8.234 6.199              6.675   6.136    5.517     7.110  \n",
       "4 9.057    ... 8.198 6.554              7.009   6.179    5.458     8.117  \n",
       "5 9.111    ... 7.932 6.385              7.225   5.506    6.480     7.762  \n",
       "6 9.097    ... 8.997 6.381              7.648   5.642    6.598     7.997  \n",
       "  Estonie Pologne Lettonie Luxembourg\n",
       "1 5.165   5.298   5.448    5.901     \n",
       "2 4.788   5.679   5.778    6.410     \n",
       "3 4.733   6.079   5.769    6.738     \n",
       "4 4.881   5.962   5.490    6.971     \n",
       "5 5.156   5.869   6.229    7.347     \n",
       "6 5.091   5.807   5.860    7.184     "
      ]
     },
     "metadata": {},
     "output_type": "display_data"
    }
   ],
   "source": [
    "hors_eu = c(\"États.Unis\", \"Japon\", \"Chili\", \"Corée.du.sud\", \"Slovénie\", \"Israël\", \"Mexique\", \"Turquie\", \"Canada\", \"Australie\", \"Nouvelle-Zélande\")\n",
    "dep = dep[!(colnames(dep) %in% hors_eu)]\n",
    "dep = dep[dep$Annee <= 2015,]\n",
    "head(dep)"
   ]
  },
  {
   "cell_type": "markdown",
   "metadata": {},
   "source": [
    "### Traduction des noms des pays en Anglais"
   ]
  },
  {
   "cell_type": "code",
   "execution_count": 29,
   "metadata": {},
   "outputs": [],
   "source": [
    "trad = c('Annee', 'Switzerland', 'Germany', 'France', 'Sweden', 'Denmark', 'Belgium', 'Austria', 'Norway', 'Netherlands', 'United Kingdom',\n",
    "         'New Zealand', 'Portugal', 'Finland', 'Spain', 'Italy', 'Iceland', 'Greece', 'Czech Republic', 'Ireland', 'Lithuania', 'Slovak Republic',\n",
    "         'Hungary', 'Estonia', 'Poland', 'Latvia', 'Luxembourg')"
   ]
  },
  {
   "cell_type": "markdown",
   "metadata": {},
   "source": [
    "## Est qu'il existe une corrélation entre l'espérance de vie et la dépense de santé courante en Europe (Hypothèse 5)\n",
    "\n",
    "Nous allons calculer le coefficient de corrélation pour chaque pays en croisant les data frames\n",
    "\n",
    "Pour rappel:\n",
    "\n",
    "$R = \\frac{Cov(X,Y)}{\\sigma_{x}\\sigma_{y}}$\n",
    "\n",
    "$R \\approx -1 \\rightarrow$ corrélation négative\n",
    "\n",
    "$R \\approx 0 \\rightarrow$ aucune corrélation\n",
    "\n",
    "$R \\approx 1 \\rightarrow$ corrélation positive"
   ]
  },
  {
   "cell_type": "code",
   "execution_count": 30,
   "metadata": {},
   "outputs": [
    {
     "data": {
      "text/html": [
       "<table>\n",
       "<caption>A data.frame: 6 × 27</caption>\n",
       "<thead>\n",
       "\t<tr><th></th><th scope=col>Annee</th><th scope=col>Austria</th><th scope=col>Belgium</th><th scope=col>Czech.Republic</th><th scope=col>Denmark</th><th scope=col>Estonia</th><th scope=col>Finland</th><th scope=col>France</th><th scope=col>Germany</th><th scope=col>Greece</th><th scope=col>...</th><th scope=col>Netherlands</th><th scope=col>New.Zealand</th><th scope=col>Norway</th><th scope=col>Poland</th><th scope=col>Portugal</th><th scope=col>Slovak.Republic</th><th scope=col>Spain</th><th scope=col>Sweden</th><th scope=col>Switzerland</th><th scope=col>United.Kingdom</th></tr>\n",
       "\t<tr><th></th><th scope=col>&lt;int&gt;</th><th scope=col>&lt;chr&gt;</th><th scope=col>&lt;chr&gt;</th><th scope=col>&lt;chr&gt;</th><th scope=col>&lt;chr&gt;</th><th scope=col>&lt;chr&gt;</th><th scope=col>&lt;chr&gt;</th><th scope=col>&lt;chr&gt;</th><th scope=col>&lt;chr&gt;</th><th scope=col>&lt;chr&gt;</th><th scope=col>...</th><th scope=col>&lt;chr&gt;</th><th scope=col>&lt;chr&gt;</th><th scope=col>&lt;chr&gt;</th><th scope=col>&lt;chr&gt;</th><th scope=col>&lt;chr&gt;</th><th scope=col>&lt;chr&gt;</th><th scope=col>&lt;chr&gt;</th><th scope=col>&lt;chr&gt;</th><th scope=col>&lt;chr&gt;</th><th scope=col>&lt;chr&gt;</th></tr>\n",
       "</thead>\n",
       "<tbody>\n",
       "\t<tr><th scope=row>1</th><td>2000</td><td>78.12683</td><td>77.72195</td><td>74.96829</td><td>76.59268</td><td>70.41707</td><td>77.46585</td><td>79.05610</td><td>77.92683</td><td>77.88780</td><td>...</td><td>77.98780</td><td>78.63659</td><td>78.63415</td><td>73.74878</td><td>76.31463</td><td>73.05122</td><td>78.96585</td><td>79.64390</td><td>79.68049</td><td>77.74146</td></tr>\n",
       "\t<tr><th scope=row>2</th><td>2001</td><td>78.57561</td><td>77.97317</td><td>75.17317</td><td>76.79268</td><td>70.25854</td><td>77.96585</td><td>79.15854</td><td>78.32927</td><td>78.38780</td><td>...</td><td>78.19024</td><td>78.69268</td><td>78.78537</td><td>74.20000</td><td>76.81463</td><td>73.40244</td><td>79.36829</td><td>79.79512</td><td>80.18049</td><td>77.99268</td></tr>\n",
       "\t<tr><th scope=row>3</th><td>2002</td><td>78.67805</td><td>78.07561</td><td>75.22195</td><td>76.89512</td><td>70.90488</td><td>78.11951</td><td>79.26098</td><td>78.22927</td><td>78.64146</td><td>...</td><td>78.29268</td><td>78.84634</td><td>78.98780</td><td>74.49756</td><td>77.06585</td><td>73.60488</td><td>79.56829</td><td>79.84634</td><td>80.38537</td><td>78.14390</td></tr>\n",
       "\t<tr><th scope=row>4</th><td>2003</td><td>78.63171</td><td>78.12927</td><td>75.17073</td><td>77.14390</td><td>71.31707</td><td>78.36829</td><td>79.11463</td><td>78.38049</td><td>78.84146</td><td>...</td><td>78.49268</td><td>79.14634</td><td>79.39024</td><td>74.59756</td><td>77.21951</td><td>73.60488</td><td>79.61951</td><td>80.09512</td><td>80.53659</td><td>78.44634</td></tr>\n",
       "\t<tr><th scope=row>5</th><td>2004</td><td>79.18049</td><td>78.87805</td><td>75.72195</td><td>77.49268</td><td>71.90976</td><td>78.71463</td><td>80.16341</td><td>78.68049</td><td>79.03902</td><td>...</td><td>79.09512</td><td>79.54878</td><td>79.84146</td><td>74.84634</td><td>77.67073</td><td>73.95854</td><td>79.87073</td><td>80.49756</td><td>81.08780</td><td>78.74634</td></tr>\n",
       "\t<tr><th scope=row>6</th><td>2005</td><td>79.33171</td><td>78.98049</td><td>75.92439</td><td>77.84390</td><td>72.56829</td><td>78.81707</td><td>80.16341</td><td>78.93171</td><td>79.23902</td><td>...</td><td>79.34634</td><td>79.85122</td><td>80.04146</td><td>74.99512</td><td>78.07073</td><td>73.90488</td><td>80.17073</td><td>80.54634</td><td>81.23659</td><td>79.04878</td></tr>\n",
       "</tbody>\n",
       "</table>\n"
      ],
      "text/latex": [
       "A data.frame: 6 × 27\n",
       "\\begin{tabular}{r|lllllllllllllllllllll}\n",
       "  & Annee & Austria & Belgium & Czech.Republic & Denmark & Estonia & Finland & France & Germany & Greece & ... & Netherlands & New.Zealand & Norway & Poland & Portugal & Slovak.Republic & Spain & Sweden & Switzerland & United.Kingdom\\\\\n",
       "  & <int> & <chr> & <chr> & <chr> & <chr> & <chr> & <chr> & <chr> & <chr> & <chr> & ... & <chr> & <chr> & <chr> & <chr> & <chr> & <chr> & <chr> & <chr> & <chr> & <chr>\\\\\n",
       "\\hline\n",
       "\t1 & 2000 & 78.12683 & 77.72195 & 74.96829 & 76.59268 & 70.41707 & 77.46585 & 79.05610 & 77.92683 & 77.88780 & ... & 77.98780 & 78.63659 & 78.63415 & 73.74878 & 76.31463 & 73.05122 & 78.96585 & 79.64390 & 79.68049 & 77.74146\\\\\n",
       "\t2 & 2001 & 78.57561 & 77.97317 & 75.17317 & 76.79268 & 70.25854 & 77.96585 & 79.15854 & 78.32927 & 78.38780 & ... & 78.19024 & 78.69268 & 78.78537 & 74.20000 & 76.81463 & 73.40244 & 79.36829 & 79.79512 & 80.18049 & 77.99268\\\\\n",
       "\t3 & 2002 & 78.67805 & 78.07561 & 75.22195 & 76.89512 & 70.90488 & 78.11951 & 79.26098 & 78.22927 & 78.64146 & ... & 78.29268 & 78.84634 & 78.98780 & 74.49756 & 77.06585 & 73.60488 & 79.56829 & 79.84634 & 80.38537 & 78.14390\\\\\n",
       "\t4 & 2003 & 78.63171 & 78.12927 & 75.17073 & 77.14390 & 71.31707 & 78.36829 & 79.11463 & 78.38049 & 78.84146 & ... & 78.49268 & 79.14634 & 79.39024 & 74.59756 & 77.21951 & 73.60488 & 79.61951 & 80.09512 & 80.53659 & 78.44634\\\\\n",
       "\t5 & 2004 & 79.18049 & 78.87805 & 75.72195 & 77.49268 & 71.90976 & 78.71463 & 80.16341 & 78.68049 & 79.03902 & ... & 79.09512 & 79.54878 & 79.84146 & 74.84634 & 77.67073 & 73.95854 & 79.87073 & 80.49756 & 81.08780 & 78.74634\\\\\n",
       "\t6 & 2005 & 79.33171 & 78.98049 & 75.92439 & 77.84390 & 72.56829 & 78.81707 & 80.16341 & 78.93171 & 79.23902 & ... & 79.34634 & 79.85122 & 80.04146 & 74.99512 & 78.07073 & 73.90488 & 80.17073 & 80.54634 & 81.23659 & 79.04878\\\\\n",
       "\\end{tabular}\n"
      ],
      "text/markdown": [
       "\n",
       "A data.frame: 6 × 27\n",
       "\n",
       "| <!--/--> | Annee &lt;int&gt; | Austria &lt;chr&gt; | Belgium &lt;chr&gt; | Czech.Republic &lt;chr&gt; | Denmark &lt;chr&gt; | Estonia &lt;chr&gt; | Finland &lt;chr&gt; | France &lt;chr&gt; | Germany &lt;chr&gt; | Greece &lt;chr&gt; | ... ... | Netherlands &lt;chr&gt; | New.Zealand &lt;chr&gt; | Norway &lt;chr&gt; | Poland &lt;chr&gt; | Portugal &lt;chr&gt; | Slovak.Republic &lt;chr&gt; | Spain &lt;chr&gt; | Sweden &lt;chr&gt; | Switzerland &lt;chr&gt; | United.Kingdom &lt;chr&gt; |\n",
       "|---|---|---|---|---|---|---|---|---|---|---|---|---|---|---|---|---|---|---|---|---|---|\n",
       "| 1 | 2000 | 78.12683 | 77.72195 | 74.96829 | 76.59268 | 70.41707 | 77.46585 | 79.05610 | 77.92683 | 77.88780 | ... | 77.98780 | 78.63659 | 78.63415 | 73.74878 | 76.31463 | 73.05122 | 78.96585 | 79.64390 | 79.68049 | 77.74146 |\n",
       "| 2 | 2001 | 78.57561 | 77.97317 | 75.17317 | 76.79268 | 70.25854 | 77.96585 | 79.15854 | 78.32927 | 78.38780 | ... | 78.19024 | 78.69268 | 78.78537 | 74.20000 | 76.81463 | 73.40244 | 79.36829 | 79.79512 | 80.18049 | 77.99268 |\n",
       "| 3 | 2002 | 78.67805 | 78.07561 | 75.22195 | 76.89512 | 70.90488 | 78.11951 | 79.26098 | 78.22927 | 78.64146 | ... | 78.29268 | 78.84634 | 78.98780 | 74.49756 | 77.06585 | 73.60488 | 79.56829 | 79.84634 | 80.38537 | 78.14390 |\n",
       "| 4 | 2003 | 78.63171 | 78.12927 | 75.17073 | 77.14390 | 71.31707 | 78.36829 | 79.11463 | 78.38049 | 78.84146 | ... | 78.49268 | 79.14634 | 79.39024 | 74.59756 | 77.21951 | 73.60488 | 79.61951 | 80.09512 | 80.53659 | 78.44634 |\n",
       "| 5 | 2004 | 79.18049 | 78.87805 | 75.72195 | 77.49268 | 71.90976 | 78.71463 | 80.16341 | 78.68049 | 79.03902 | ... | 79.09512 | 79.54878 | 79.84146 | 74.84634 | 77.67073 | 73.95854 | 79.87073 | 80.49756 | 81.08780 | 78.74634 |\n",
       "| 6 | 2005 | 79.33171 | 78.98049 | 75.92439 | 77.84390 | 72.56829 | 78.81707 | 80.16341 | 78.93171 | 79.23902 | ... | 79.34634 | 79.85122 | 80.04146 | 74.99512 | 78.07073 | 73.90488 | 80.17073 | 80.54634 | 81.23659 | 79.04878 |\n",
       "\n"
      ],
      "text/plain": [
       "  Annee Austria  Belgium  Czech.Republic Denmark  Estonia  Finland  France  \n",
       "1 2000  78.12683 77.72195 74.96829       76.59268 70.41707 77.46585 79.05610\n",
       "2 2001  78.57561 77.97317 75.17317       76.79268 70.25854 77.96585 79.15854\n",
       "3 2002  78.67805 78.07561 75.22195       76.89512 70.90488 78.11951 79.26098\n",
       "4 2003  78.63171 78.12927 75.17073       77.14390 71.31707 78.36829 79.11463\n",
       "5 2004  79.18049 78.87805 75.72195       77.49268 71.90976 78.71463 80.16341\n",
       "6 2005  79.33171 78.98049 75.92439       77.84390 72.56829 78.81707 80.16341\n",
       "  Germany  Greece   ... Netherlands New.Zealand Norway   Poland   Portugal\n",
       "1 77.92683 77.88780 ... 77.98780    78.63659    78.63415 73.74878 76.31463\n",
       "2 78.32927 78.38780 ... 78.19024    78.69268    78.78537 74.20000 76.81463\n",
       "3 78.22927 78.64146 ... 78.29268    78.84634    78.98780 74.49756 77.06585\n",
       "4 78.38049 78.84146 ... 78.49268    79.14634    79.39024 74.59756 77.21951\n",
       "5 78.68049 79.03902 ... 79.09512    79.54878    79.84146 74.84634 77.67073\n",
       "6 78.93171 79.23902 ... 79.34634    79.85122    80.04146 74.99512 78.07073\n",
       "  Slovak.Republic Spain    Sweden   Switzerland United.Kingdom\n",
       "1 73.05122        78.96585 79.64390 79.68049    77.74146      \n",
       "2 73.40244        79.36829 79.79512 80.18049    77.99268      \n",
       "3 73.60488        79.56829 79.84634 80.38537    78.14390      \n",
       "4 73.60488        79.61951 80.09512 80.53659    78.44634      \n",
       "5 73.95854        79.87073 80.49756 81.08780    78.74634      \n",
       "6 73.90488        80.17073 80.54634 81.23659    79.04878      "
      ]
     },
     "metadata": {},
     "output_type": "display_data"
    }
   ],
   "source": [
    "esp = estim[estim$'Series Code' == 'SP.DYN.LE00.IN' & estim$'Country Name' %in% trad, c(1,45:60)]\n",
    "esp = t(as.data.frame(esp))\n",
    "rownames(esp) = NULL\n",
    "colnames(esp) = esp[1,]\n",
    "esp = esp[-c(1),]\n",
    "esp = data.frame(Annee = (2000:2015), esp)\n",
    "head(esp)"
   ]
  },
  {
   "cell_type": "markdown",
   "metadata": {},
   "source": [
    "### Calcul des coefficients R"
   ]
  },
  {
   "cell_type": "code",
   "execution_count": 31,
   "metadata": {},
   "outputs": [],
   "source": [
    "esp_names = colnames(esp)\n",
    "indexes = match(esp_names, gsub(\" \", \".\", trad))\n",
    "coef_r = c()\n",
    "xs = c()\n",
    "xs = c()\n",
    "ys = c()\n",
    "country_names = c()\n",
    "for(i in (2:length(indexes))){\n",
    "    x = as.numeric(as.character(esp[,i]))\n",
    "    xs = c(xs, x)\n",
    "    y = dep[,indexes[i]]\n",
    "    ys = c(ys, y)\n",
    "    cxy = cov(x,y)\n",
    "    sdxy = sd(x) * sd(y)\n",
    "    coef_r = c(coef_r, cxy / sdxy)\n",
    "    country_names = c(country_names, rep(esp_names[i], length(x)))\n",
    "}\n",
    "coefs_r = data.frame(Index = (1:length(coef_r)), \"Valeur\" = coef_r)\n",
    "insee = data.frame(\"Pays\" = country_names, \"Espérance\" = xs, \"Depense public\" = ys)"
   ]
  },
  {
   "cell_type": "code",
   "execution_count": 32,
   "metadata": {},
   "outputs": [
    {
     "name": "stdout",
     "output_type": "stream",
     "text": [
      "[1] \"Coefficient r moyen = 0.614525\"\n"
     ]
    }
   ],
   "source": [
    "print(sprintf(\"Coefficient r moyen = %f\", mean(coefs_r$Valeur)))"
   ]
  },
  {
   "cell_type": "code",
   "execution_count": 33,
   "metadata": {},
   "outputs": [
    {
     "data": {
      "image/png": "[encoded data removed]",
      "text/plain": [
       "plot without title"
      ]
     },
     "metadata": {
      "image/png": {
       "height": 420,
       "width": 420
      }
     },
     "output_type": "display_data"
    }
   ],
   "source": [
    "h1 = ggplot(coefs_r) +\n",
    "geom_histogram(aes(x = Valeur), bins = 7) +\n",
    "ylab(\"Compte\") +\n",
    "ggtitle(\"Répartition des coefficient R\") +\n",
    "theme_bw()\n",
    "\n",
    "h2 = ggplot(insee) +\n",
    "geom_point(aes(x = Espérance, y = Depense.public, colour = Pays)) +\n",
    "ylab(\"Dépense public\") +\n",
    "theme_bw()\n",
    "\n",
    "grid.arrange(h1, h2)"
   ]
  },
  {
   "cell_type": "markdown",
   "metadata": {},
   "source": [
    "On peux donc en conclure qu'il existe une corrélation entre l'espérance de vie et la dépense de santé courante\n",
    "\n",
    "_Pierre Saunders @saundersp_"
   ]
  }
 ],
 "metadata": {
  "kernelspec": {
   "display_name": "R",
   "language": "R",
   "name": "ir"
  },
  "language_info": {
   "codemirror_mode": "r",
   "file_extension": ".r",
   "mimetype": "text/x-r-source",
   "name": "R",
   "pygments_lexer": "r",
   "version": "4.0.2"
  },
  "toc-autonumbering": false,
  "toc-showcode": false,
  "toc-showmarkdowntxt": false,
  "toc-showtags": false
 },
 "nbformat": 4,
 "nbformat_minor": 4
}
